{
 "cells": [
  {
   "cell_type": "markdown",
   "metadata": {},
   "source": [
    "# BBC - Laboratoire 2\n",
    "## Alignement de séquences et arbres phylogénétiques\n",
    "\n",
    "- Professeur: Carlos Peña (<a href=\"mailto:carlos.pena@heig-vd.ch\">carlos.pena@heig-vd.ch</a>)\n",
    "- Assistant: Xavier Brochet (<a href=\"mailto:xavier.brochet@heig-vd.ch\">xavier.brochet@heig-vd.ch</a>)\n",
    "\n",
    "Date: Printemps 2019"
   ]
  },
  {
   "cell_type": "markdown",
   "metadata": {},
   "source": [
    "> ## Objectifs pédagogiques\n",
    "Pour réaliser ce laboratoire, du vocabulaire et des notions de base en biologie seront introduits ou perfectionnés (revoir Labo-1 si nécessaire). A la fin du laboratoire, l’étudiant devrait:\n",
    "- Etre à l’aise avec l’utilisation d’Entrez Direct pour accéder à Genbank.\n",
    "- Savoir utiliser des outils d’alignement de séquence, à l’aide du logiciel Aliview et avec la librairie biopython.\n",
    "- Savoir construire un arbre phylogénétique à partir d’un alignement et l’interpréter.\n",
    "\n",
    "\n",
    "> ## But du labo\n",
    "La septicémie hémorragique virale est une maladie très contagieuse et mortelle qui touche les poissons de type salmonidés (les humains ne sont pas touchés). Elle est causée par un virus qui engendre chaque année de grosses pertes économiques pour les pisciculteurs. Votre but est de visualiser comment le virus se propage dans le monde, en comparant les séquences de la protéine G (glycoprotéine se trouvant à la surface du virus) de plusieurs isolats.\n",
    "\n",
    "> ## Démarche\n",
    "1. Visualisation de la présence du virus dans le monde (Genbank, Entrez Direct et biopython).\n",
    "2. Alignement des séquences protéiques pour pouvoir les comparer (MUSCLE, (ClustalW), Clustal Omega).\n",
    "3. Construction de l’arbre phylogénétique et clustering hiérarchique pour identifier des groupes d’isolats similaires.\n",
    "\n",
    "\n",
    "> ## Rapport de labo\n",
    "\n",
    "> <p >Merci de répondre aux questions posées sur fond cyan de façon concise dans la cellule située <u>juste en dessous</u>, et de nous retourner ce notebook.\n",
    "> <p style=\"background-color:#AFEEEE;padding:3px\"><font size=\"4\"><b>0. </b></font> Ceci est une question.</p>"
   ]
  },
  {
   "cell_type": "markdown",
   "metadata": {},
   "source": [
    "## 1. Le virus dans le monde - visualisation d’isolats séquencés\n",
    "\n",
    "Comme lors du premier labo, vous allez apprendre à utiliser certains outils à la fois en mode graphique et en mode ligne de commande.\n",
    "\n",
    "Votre premier objectif est de récupérer sur Genbank la localisation géographique de toutes les souches séquencées du virus (protéine G uniquement) et de les visualiser sur une carte du monde.\n",
    "\n",
    "<b>→ Depuis votre navigateur, allez sur le site de [Genbank](http://www.ncbi.nlm.nih.gov/genbank/) et dans la barre de recherche, tapez</b>: G[gene] AND VHSV[orgn] NOT \"mRNA\"[title] AND \"complete cds\"[title]\n",
    "\n",
    "Cette requête limite les recherches aux entrées dont le nom du gène s’intitule G, dont l’organisme est le VHSV (Viral Hemorrhagic Septicemia Virus), dont le titre ne contient pas le mot “mRNA” et dont la séquence est complète.\n",
    "\n",
    "<b>→ Cliquez sur la première entrée: https://www.ncbi.nlm.nih.gov/nuccore/MH836523.1</b>\n",
    "\n",
    "Dans la partie FEATURES - source, vous pouvez voir que le pays d’origine est Islande.\n",
    "\n",
    "<b>→ Cliquez sur cette entrée: [http://www.ncbi.nlm.nih.gov/nuccore/341904092](http://www.ncbi.nlm.nih.gov/nuccore/341904092) </b>\n",
    "Vous pouvez voir qu’en plus du pays, la latitude et la longitude sont également indiqués.\n",
    "\n",
    "<p style=\"background-color:#AFEEEE;padding:3px\"><font size=\"4\"><b>1.1 </b></font>Quelles sont les coordonnées (latitude, longitude) et pays d’origine de l’isolat dont l'ACCESSION=HQ112247 et gi=341904064 (attention le gi n'est officiellement plus utilisé)?</p>"
   ]
  },
  {
   "cell_type": "markdown",
   "metadata": {},
   "source": [
    "Originaire de Finlande aux latitudes et longitudes : 60.24 N 22.06 E"
   ]
  },
  {
   "cell_type": "markdown",
   "metadata": {},
   "source": [
    "Votre recherche avec la requête initiale a retourné 390 entrées. Afin de récupérer les données géographiques de tous les isolats, il vous faut avoir recours à un langage de script. Comme vu au Labo-1, nous ferons appel à Entrez Direct en utilisant la librairie biopython.\n",
    "\n",
    "<b>→ Importez les modules suivants</b>"
   ]
  },
  {
   "cell_type": "code",
   "execution_count": 1,
   "metadata": {},
   "outputs": [],
   "source": [
    "from Bio import Entrez\n",
    "Entrez.email = \"vincent.guidoux@heig-vd.ch\" # une adresse email valide est nécessaire\n",
    "from mpl_toolkits.basemap import Basemap # pour dessiner une carte du monde\n",
    "import matplotlib.pyplot as plt # pour générer des graphiques\n",
    "%matplotlib inline\n",
    "#problème avec le module mpl_toolkits.basemap..\n",
    "#esssai pour le récupérer\n",
    "#j'ai mis a jour: \n",
    "#pip3.6 install --upgrade biopython --> pas fonctionné\n",
    "#pip3 install --upgrade jupyter matplotlib numpy pandas scipy scikit-learn six Collecting jupyter\n",
    "#pip3.6 install notebook --upgrade \n",
    "#conda install -c anaconda biopython\n"
   ]
  },
  {
   "cell_type": "markdown",
   "metadata": {},
   "source": [
    "<b>→ Commencez par récupérer les identifiants gi correspondant à la requête en utilisant Entrez.esearch()</b>"
   ]
  },
  {
   "cell_type": "code",
   "execution_count": 2,
   "metadata": {},
   "outputs": [
    {
     "name": "stdout",
     "output_type": "stream",
     "text": [
      "390\n"
     ]
    }
   ],
   "source": [
    "query = 'G[gene] AND VHSV[orgn] NOT \"mRNA\"[title] AND \"complete cds\"[title]'\n",
    "handle = Entrez.esearch(db='nucleotide',retmax=1000,term=query)\n",
    "record = Entrez.read(handle)\n",
    "gi = record['IdList']\n",
    "#print(gi)\n",
    "print(len(gi))"
   ]
  },
  {
   "cell_type": "markdown",
   "metadata": {},
   "source": [
    "<b>→ Allez chercher les informations Genbank sur ces séquences en utilisant Entrez.efetch()</b>"
   ]
  },
  {
   "cell_type": "code",
   "execution_count": 3,
   "metadata": {
    "scrolled": true
   },
   "outputs": [
    {
     "name": "stdout",
     "output_type": "stream",
     "text": [
      "390\n"
     ]
    }
   ],
   "source": [
    "protein_info = Entrez.efetch(db=\"nucleotide\",id=gi,rettype=\"gb\",retmode=\"xml\")\n",
    "protein_info = Entrez.read(protein_info)\n",
    "print(len(protein_info))"
   ]
  },
  {
   "cell_type": "markdown",
   "metadata": {},
   "source": [
    "<font face='courier'>protein_info</font> est une liste de 390 éléments. Chaque élément consiste en une structure de listes et dictionnaires contenant toute l’information de Genbank correpondant à la requête.\n",
    "\n",
    "<b>→ Imprimez le dixième élément de protein_info et quelques unes de ses caractéristiques.</b>\n"
   ]
  },
  {
   "cell_type": "code",
   "execution_count": 6,
   "metadata": {
    "scrolled": true
   },
   "outputs": [
    {
     "name": "stdout",
     "output_type": "stream",
     "text": [
      "DictElement({'GBSeq_locus': 'KU728260', 'GBSeq_length': '1524', 'GBSeq_strandedness': 'single', 'GBSeq_moltype': 'cRNA', 'GBSeq_topology': 'linear', 'GBSeq_division': 'VRL', 'GBSeq_update-date': '01-MAR-2017', 'GBSeq_create-date': '01-MAR-2017', 'GBSeq_definition': 'Viral hemorrhagic septicemia virus isolate DK-7690 glycoprotein (G) gene, complete cds', 'GBSeq_primary-accession': 'KU728260', 'GBSeq_accession-version': 'KU728260.1', 'GBSeq_other-seqids': ['gb|KU728260.1|', 'gi|1149552504'], 'GBSeq_source': 'Viral hemorrhagic septicemia virus', 'GBSeq_organism': 'Viral hemorrhagic septicemia virus', 'GBSeq_taxonomy': 'Viruses; ssRNA viruses; ssRNA negative-strand viruses; Mononegavirales; Rhabdoviridae; Novirhabdovirus', 'GBSeq_references': [DictElement({'GBReference_reference': '1', 'GBReference_position': '1..1524', 'GBReference_authors': ['Mikkelsen,S.S.', 'Panzarin,V.', 'Schuetze,H.', 'Skall,H.F.', 'Fusaro,A.', 'Korsholm,H.', 'Olesen,N.-J.'], 'GBReference_title': 'Molecular tracing of viral hemorrhagic septicemia outbreaks in Denmark', 'GBReference_journal': 'Unpublished'}, attributes={}), DictElement({'GBReference_reference': '2', 'GBReference_position': '1..1524', 'GBReference_authors': ['Mikkelsen,S.S.', 'Schuetze,H.'], 'GBReference_title': 'Direct Submission', 'GBReference_journal': 'Submitted (18-FEB-2016) Section for Diagnostics and Scientific Advice, DTU Veterinary Institute, Bulowsvej 27, Frederiksberg 1870, Denmark'}, attributes={})], 'GBSeq_comment': '##Assembly-Data-START## ; Sequencing Technology :: Sanger dideoxy sequencing ; ##Assembly-Data-END##', 'GBSeq_feature-table': [DictElement({'GBFeature_key': 'source', 'GBFeature_location': '1..1524', 'GBFeature_intervals': [DictElement({'GBInterval_from': '1', 'GBInterval_to': '1524', 'GBInterval_accession': 'KU728260.1'}, attributes={})], 'GBFeature_quals': [DictElement({'GBQualifier_name': 'organism', 'GBQualifier_value': 'Viral hemorrhagic septicemia virus'}, attributes={}), DictElement({'GBQualifier_name': 'mol_type', 'GBQualifier_value': 'viral cRNA'}, attributes={}), DictElement({'GBQualifier_name': 'isolate', 'GBQualifier_value': 'DK-7690'}, attributes={}), DictElement({'GBQualifier_name': 'host', 'GBQualifier_value': 'Oncorhynchus mykiss'}, attributes={}), DictElement({'GBQualifier_name': 'db_xref', 'GBQualifier_value': 'taxon:11287'}, attributes={}), DictElement({'GBQualifier_name': 'country', 'GBQualifier_value': 'Denmark'}, attributes={}), DictElement({'GBQualifier_name': 'collection_date', 'GBQualifier_value': '07-Dec-1994'}, attributes={}), DictElement({'GBQualifier_name': 'note', 'GBQualifier_value': 'genotype: 1a'}, attributes={})]}, attributes={}), DictElement({'GBFeature_key': 'gene', 'GBFeature_location': '1..1524', 'GBFeature_intervals': [DictElement({'GBInterval_from': '1', 'GBInterval_to': '1524', 'GBInterval_accession': 'KU728260.1'}, attributes={})], 'GBFeature_quals': [DictElement({'GBQualifier_name': 'gene', 'GBQualifier_value': 'G'}, attributes={})]}, attributes={}), DictElement({'GBFeature_key': 'CDS', 'GBFeature_location': '1..1524', 'GBFeature_intervals': [DictElement({'GBInterval_from': '1', 'GBInterval_to': '1524', 'GBInterval_accession': 'KU728260.1'}, attributes={})], 'GBFeature_quals': [DictElement({'GBQualifier_name': 'gene', 'GBQualifier_value': 'G'}, attributes={}), DictElement({'GBQualifier_name': 'codon_start', 'GBQualifier_value': '1'}, attributes={}), DictElement({'GBQualifier_name': 'transl_table', 'GBQualifier_value': '1'}, attributes={}), DictElement({'GBQualifier_name': 'product', 'GBQualifier_value': 'glycoprotein'}, attributes={}), DictElement({'GBQualifier_name': 'protein_id', 'GBQualifier_value': 'AQT19222.1'}, attributes={}), DictElement({'GBQualifier_name': 'translation', 'GBQualifier_value': 'MEWNTFFLVILIIIIKSTTPQITQRPPVENISTYHADWDTPLYTHPSNCRDDSFVPIRPAQLRCPHEFEDINRGLVSVPTKIIHLPLSVTSVSAVASGHYLHRVTYRVTCSTSFFGGQTIEKTILEAKLSRQEATDEASKDHEYPFFPEPSCIWMKNNVHKDITHYYKTPKTVSVDLYSRKFLNPDFIEGVCTTSPCQTHWQGVYWVGATPNAHCPTSETLEGHLFTRTHDHRVVKAIVAGHHPWGLTMACTVKFCGEDWIKTDLGDLIQVTGPGGTGKLTPNKCVNTDVQMRGATDDFSYLNHLITNMAQRTECLDAHSDITASGKVSSFLLSKFRPSHPGPGKAHYLLDGQIMRGDCDYEAVVSINYNSAQYKTVNNTWKSWKRVDNNTDGYDGMIFGDKLIIPDIEKYQSVYDSGMLVQRNLVEVPHLSIVFVSNTSDLSTNHIHTNLIPSDWSFHWSLWPSLSGMGVVGGAFLLLVLCCCCKASPPTPNYGIPMQQFSRSQTV'}, attributes={})]}, attributes={})], 'GBSeq_sequence': 'atggaatggaatactttcttcttggtgatcttgatcatcatcataaagagcaccacaccacagatcactcaacgacctccggttgaaaacatctcgacgtaccatgcagattgggacactccgctatacactcatccctccaactgcagggacgattcctttgtcccgattcgaccagctcaactcaggtgtcctcatgaatttgaagacataaacaggggactggtttccgtcccaaccaagatcatccatctcccgctatcagtcaccagcgtctccgcagtagcgagcggccactacctgcacagagtgacttatcgagtcacctgttcgaccagcttctttggagggcaaaccattgaaaagaccatcttggaggcgaaactgtctcgtcaggaggccacagacgaggcaagcaaggaccacgagtacccgttcttccctgaaccctcctgcatctggatgaaaaacaatgtccataaggacataactcactattacaagaccccaaaaacagtatcggtggatctctacagcaggaaatttctcaaccctgatttcatcgaaggggtctgcacaacctcgccctgtcaaactcattggcagggagtctattgggtcggcgccacacccaatgcccattgccccacgtcggaaacactagaaggacacctgttcaccaggacccatgatcacagggtggtcaaggcaattgtggcaggccatcatccctggggactcacaatggcatgcacagtgaaattctgcggggaagattggatcaagactgacctgggagacctgatccaggtgacaggaccggggggcacggggaaactgactccaaataagtgtgtcaatactgatgtccagatgaggggggcaacagacgacttttcttatctcaaccatctcatcaccaacatggctcaaagaaccgagtgcctagatgcccatagtgatatcaccgcttctgggaaagtgtcctcatttctcctctcaaagtttcgtcccagccaccctggacccggcaaggcacactatcttctagacggtcaaatcatgcgaggtgactgtgactatgaggcagtagtcagcatcaactacaacagcgctcaatacaagacggtgaacaacacatggaaatcatggaaacgggtggacaacaacacagacgggtacgatgggatgatatttggggacaaattgatcatcccggacatcgagaagtatcagagtgtctatgacagtggaatgctcgttcaaagaaaccttgtggaagtccctcatctgagcattgtgtttgtctccaacacatctgatctttccactaatcacatccacaccaacctaatcccttcggattggtcattccactggagtctttggccctcattgtctgggatgggggttgtgggaggggccttccttctactggtgctttgctgttgctgcaaggcgtcccctccaactccaaactacgggattccgatgcagcagttctccagaagtcagacggtctga'}, attributes={})\n",
      "\n",
      "\n",
      "dict_keys(['GBSeq_locus', 'GBSeq_length', 'GBSeq_strandedness', 'GBSeq_moltype', 'GBSeq_topology', 'GBSeq_division', 'GBSeq_update-date', 'GBSeq_create-date', 'GBSeq_definition', 'GBSeq_primary-accession', 'GBSeq_accession-version', 'GBSeq_other-seqids', 'GBSeq_source', 'GBSeq_organism', 'GBSeq_taxonomy', 'GBSeq_references', 'GBSeq_comment', 'GBSeq_feature-table', 'GBSeq_sequence'])\n",
      "\n",
      "\n",
      "[DictElement({'GBQualifier_name': 'organism', 'GBQualifier_value': 'Viral hemorrhagic septicemia virus'}, attributes={}), DictElement({'GBQualifier_name': 'mol_type', 'GBQualifier_value': 'viral cRNA'}, attributes={}), DictElement({'GBQualifier_name': 'isolate', 'GBQualifier_value': 'DK-7690'}, attributes={}), DictElement({'GBQualifier_name': 'host', 'GBQualifier_value': 'Oncorhynchus mykiss'}, attributes={}), DictElement({'GBQualifier_name': 'db_xref', 'GBQualifier_value': 'taxon:11287'}, attributes={}), DictElement({'GBQualifier_name': 'country', 'GBQualifier_value': 'Denmark'}, attributes={}), DictElement({'GBQualifier_name': 'collection_date', 'GBQualifier_value': '07-Dec-1994'}, attributes={}), DictElement({'GBQualifier_name': 'note', 'GBQualifier_value': 'genotype: 1a'}, attributes={})]\n"
     ]
    }
   ],
   "source": [
    "print(protein_info[10])\n",
    "print('')\n",
    "print('')\n",
    "print(protein_info[10].keys())\n",
    "print('')\n",
    "print('')\n",
    "features = protein_info[10]['GBSeq_feature-table'][0]['GBFeature_quals']\n",
    "# features = protein_info[60]['GBSeq_feature-table'][0]['GBFeature_quals']\n",
    "print(features)"
   ]
  },
  {
   "cell_type": "markdown",
   "metadata": {},
   "source": [
    "<p style=\"background-color:#AFEEEE;padding:3px\"><font size=\"4\"><b>1.2 </b></font> Quel est le pays d’origine du 60ème isolat dans notre liste?\n",
    "</p>"
   ]
  },
  {
   "cell_type": "markdown",
   "metadata": {},
   "source": [
    "Danemark, pour arriver à ce résultat, j'ai exécuté la ligne `features = protein_info[60]['GBSeq_feature-table'][0]['GBFeature_quals']`, et chercher l'occurence de `country`"
   ]
  },
  {
   "cell_type": "markdown",
   "metadata": {},
   "source": [
    "<b>→ Pour extraire le pays automatiquement, faites une boucle sur les features jusqu’à tomber sur “country”:</b>"
   ]
  },
  {
   "cell_type": "code",
   "execution_count": 9,
   "metadata": {},
   "outputs": [
    {
     "name": "stdout",
     "output_type": "stream",
     "text": [
      "Pays d'origine: Denmark\n"
     ]
    }
   ],
   "source": [
    "for j,feat in enumerate(features):\n",
    "    if feat['GBQualifier_name']=='country':\n",
    "        print(\"Pays d'origine: \"+feat['GBQualifier_value'].split(':')[0])"
   ]
  },
  {
   "cell_type": "markdown",
   "metadata": {},
   "source": [
    "<p style=\"background-color:#AFEEEE;padding:3px\"><font size=\"4\"><b>1.3 </b></font> Généralisez ce code pour qu’il imprime le pays d’origine des 390 isolats et enregistre le résultat dans une variable (liste de 390 éléments) appelée <font face='courier'>country</font> (si le pays n’est pas disponible, ajoutez le texte ‘NA’ (not available) à la place).\n",
    "</p>"
   ]
  },
  {
   "cell_type": "code",
   "execution_count": 15,
   "metadata": {},
   "outputs": [
    {
     "name": "stdout",
     "output_type": "stream",
     "text": [
      "['Iceland', 'Iceland', 'Finland', 'Finland', 'Finland', 'Finland', 'Finland', 'Finland', 'Denmark', 'Denmark', 'Denmark', 'Denmark', 'Denmark', 'Denmark', 'Denmark', 'Denmark', 'Denmark', 'Denmark', 'Denmark', 'Denmark', 'Denmark', 'Denmark', 'Denmark', 'Denmark', 'Denmark', 'Denmark', 'Denmark', 'Denmark', 'Denmark', 'Denmark', 'Denmark', 'Denmark', 'Denmark', 'Denmark', 'Denmark', 'Denmark', 'Denmark', 'Denmark', 'Denmark', 'Denmark', 'Denmark', 'Denmark', 'Denmark', 'Denmark', 'Denmark', 'Denmark', 'Denmark', 'Denmark', 'Denmark', 'Denmark', 'Denmark', 'Denmark', 'Denmark', 'Denmark', 'Denmark', 'Denmark', 'Denmark', 'Denmark', 'Denmark', 'Denmark', 'Denmark', 'Denmark', 'Denmark', 'Denmark', 'Denmark', 'Denmark', 'Denmark', 'Denmark', 'Denmark', 'Denmark', 'Denmark', 'Denmark', 'Denmark', 'Denmark', 'Denmark', 'Denmark', 'Denmark', 'Denmark', 'Denmark', 'Denmark', 'Denmark', 'Denmark', 'Denmark', 'Denmark', 'Italy', 'Italy', 'Italy', 'Italy', 'Italy', 'Italy', 'Italy', 'Italy', 'Italy', 'Italy', 'Italy', 'Italy', 'Italy', 'Italy', 'Italy', 'Italy', 'Italy', 'Italy', 'Italy', 'Italy', 'Italy', 'Italy', 'Italy', 'Italy', 'Italy', 'Italy', 'Italy', 'Italy', 'Italy', 'Italy', 'Italy', 'Italy', 'Italy', 'Italy', 'Italy', 'Italy', 'Italy', 'Italy', 'Italy', 'Italy', 'Italy', 'Italy', 'Italy', 'Italy', 'Italy', 'Italy', 'Italy', 'Italy', 'Italy', 'Italy', 'Italy', 'Italy', 'Italy', 'Italy', 'Italy', 'Italy', 'Italy', 'Italy', 'Italy', 'Italy', 'Italy', 'Italy', 'Italy', 'Italy', 'Italy', 'Italy', 'Italy', 'Italy', 'Italy', 'Italy', 'Italy', 'Italy', 'Italy', 'Italy', 'Italy', 'Italy', 'Italy', 'Italy', 'Italy', 'Italy', 'Italy', 'Italy', 'Italy', 'Italy', 'Italy', 'Italy', 'Italy', 'Italy', 'Italy', 'Italy', 'Italy', 'Italy', 'Italy', 'Italy', 'Italy', 'Italy', 'Italy', 'Italy', 'Italy', 'Italy', 'Italy', 'Italy', 'Italy', 'Italy', 'Italy', 'Italy', 'Italy', 'Italy', 'Norway', 'Norway', 'Norway', 'Norway', 'Iran', 'Iran', 'Iran', 'Iran', 'Spain', 'NA', 'Turkey', 'Turkey', 'Turkey', 'Norway', 'Norway', 'Norway', 'Norway', 'NA', 'NA', 'NA', 'NA', 'NA', 'NA', 'NA', 'NA', 'NA', 'NA', 'NA', 'NA', 'NA', 'NA', 'NA', 'NA', 'NA', 'NA', 'NA', 'NA', 'NA', 'NA', 'NA', 'NA', 'South Korea', 'South Korea', 'Denmark', 'Denmark', 'Denmark', 'Denmark', 'Denmark', 'Denmark', 'Denmark', 'Denmark', 'Denmark', 'Denmark', 'Denmark', 'Denmark', 'Denmark', 'Denmark', 'Denmark', 'Denmark', 'Denmark', 'Denmark', 'Denmark', 'Denmark', 'Denmark', 'Denmark', 'Denmark', 'Denmark', 'Denmark', 'Denmark', 'Denmark', 'Denmark', 'Denmark', 'Denmark', 'Denmark', 'Denmark', 'Denmark', 'Denmark', 'Denmark', 'Denmark', 'Denmark', 'Denmark', 'Denmark', 'Denmark', 'Denmark', 'Denmark', 'Denmark', 'Denmark', 'Denmark', 'Denmark', 'Denmark', 'Denmark', 'Denmark', 'Denmark', 'Denmark', 'Denmark', 'Denmark', 'Denmark', 'Denmark', 'Denmark', 'Denmark', 'Denmark', 'Denmark', 'Finland', 'Finland', 'Finland', 'Finland', 'Finland', 'Finland', 'Finland', 'Finland', 'Finland', 'Finland', 'Finland', 'Finland', 'Finland', 'Finland', 'Finland', 'Finland', 'Finland', 'Finland', 'NA', 'NA', 'NA', 'NA', 'NA', 'NA', 'NA', 'NA', 'NA', 'NA', 'NA', 'NA', 'NA', 'NA', 'NA', 'NA', 'NA', 'NA', 'NA', 'NA', 'NA', 'NA', 'NA', 'NA', 'NA', 'NA', 'NA', 'NA', 'NA', 'NA', 'NA', 'NA', 'NA', 'NA', 'NA', 'NA', 'NA', 'NA', 'NA', 'NA', 'NA', 'NA', 'NA', 'NA', 'NA', 'NA', 'NA', 'NA', 'NA', 'NA', 'NA', 'NA', 'NA', 'NA', 'NA', 'NA', 'NA', 'NA', 'NA', 'NA', 'NA', 'NA', 'NA', 'Norway', 'Norway', 'Norway', 'Canada', 'Canada', 'USA', 'USA', 'Japan', 'Japan', 'USA', 'Canada', 'Canada', 'Canada', 'Slovenia', 'Norway']\n"
     ]
    }
   ],
   "source": [
    "country = []\n",
    "                                           \n",
    "for info in protein_info: \n",
    "    current_country = 'NA'\n",
    "    for j,feat in enumerate(info['GBSeq_feature-table'][0]['GBFeature_quals']):\n",
    "\n",
    "        if feat['GBQualifier_name']=='country':\n",
    "            current_country = feat['GBQualifier_value'].split(':')[0]\n",
    "    country.append(current_country)\n",
    "    \n",
    "print(country)                              "
   ]
  },
  {
   "cell_type": "markdown",
   "metadata": {},
   "source": [
    "<b>→ Pour certains isolats, la latitude et la longitude sont également indiqués. Par exemple, exécutez:</b>\n"
   ]
  },
  {
   "cell_type": "code",
   "execution_count": 16,
   "metadata": {
    "scrolled": true
   },
   "outputs": [
    {
     "name": "stdout",
     "output_type": "stream",
     "text": [
      "[DictElement({'GBQualifier_name': 'organism', 'GBQualifier_value': 'Viral hemorrhagic septicemia virus'}, attributes={}), DictElement({'GBQualifier_name': 'mol_type', 'GBQualifier_value': 'viral cRNA'}, attributes={}), DictElement({'GBQualifier_name': 'isolate', 'GBQualifier_value': 'ka664_04'}, attributes={}), DictElement({'GBQualifier_name': 'db_xref', 'GBQualifier_value': 'taxon:11287'}, attributes={}), DictElement({'GBQualifier_name': 'country', 'GBQualifier_value': 'Finland: Archipelago Sea'}, attributes={}), DictElement({'GBQualifier_name': 'lat_lon', 'GBQualifier_value': '60.29 N 21.29 E'}, attributes={}), DictElement({'GBQualifier_name': 'collection_date', 'GBQualifier_value': '09-Jun-2004'}, attributes={}), DictElement({'GBQualifier_name': 'identified_by', 'GBQualifier_value': 'T. Gadd'}, attributes={}), DictElement({'GBQualifier_name': 'PCR_primers', 'GBQualifier_value': 'fwd_name: G1_forward, fwd_seq: cgggcaggcgaaggacta, fwd_name: G2_forward, fwd_seq: atggaatggaatacttttttc, fwd_seq: caacctcgccctgtcaaactcat, fwd_seq: tggacccggcaaggcacact, rev_name: G1_reverse, rev_seq: cggagacgctggtgactgata, rev_name: G2_reverse, rev_seq: tgtgatcatgggtcctggtg, rev_name: G3_reverse, rev_seq: gtccccaaatatcatcccatcgta, rev_name: NAH_reverse, rev_seq: ctaggagacttatcctcatgtc'}, attributes={})]\n"
     ]
    }
   ],
   "source": [
    "print(protein_info[294]['GBSeq_feature-table'][0]['GBFeature_quals'])"
   ]
  },
  {
   "cell_type": "markdown",
   "metadata": {},
   "source": [
    "Dans ce cas, <font face='courier'>lat_lon = 60.29 N 21.29 E</font> (latitude 60.29°, longitude 21.29°).\n",
    "\n",
    "<p style=\"background-color:#AFEEEE;padding:3px\"><font size=\"4\"><b>1.4 </b></font>  Généralisez votre code pour qu’il enregistre aussi la latitude et la longitude dans deux variables séparées (mettez un <font face='courier'>float(‘nan’)</font> si elles ne sont pas disponibles). Astuce: Utilisez la fonction split(‘ ‘) pour extraire les nombres qui vous intéressent de lat_lon (à convertir en float aussi). \n",
    "</p>"
   ]
  },
  {
   "cell_type": "code",
   "execution_count": 21,
   "metadata": {},
   "outputs": [
    {
     "name": "stdout",
     "output_type": "stream",
     "text": [
      "390\n"
     ]
    }
   ],
   "source": [
    "lat_lon = []\n",
    "\n",
    "for info in protein_info: \n",
    "    current_lat_lon = {'lat': float('nan'), 'lon': float('nan')}\n",
    "    for j,feat in enumerate(info['GBSeq_feature-table'][0]['GBFeature_quals']):\n",
    "        \n",
    "        if feat['GBQualifier_name']=='lat_lon':\n",
    "            current = feat['GBQualifier_value'].split('N')\n",
    "            lat = current[0]\n",
    "            lon = current[1].split('E')[0]\n",
    "            current_lat_lon['lat'] = lat\n",
    "            current_lat_lon['lon'] = lon\n",
    "    lat_lon.append(current_lat_lon)\n",
    "    \n",
    "print(len(lat_lon))"
   ]
  },
  {
   "cell_type": "markdown",
   "metadata": {},
   "source": [
    "Comme vous le verrez, la latitude et la longitude ne sont disponibles que pour un petit nombre d’isolats, alors que le pays d’origine est connu pour la majorité d’entre eux. Afin de pouvoir représenter les isolats sur une carte du monde, nous allons utiliser une valeur moyenne de latitude et de longitude par pays pour les isolats dont on ne connaît que le pays d’origine.\n",
    "\n",
    "<b>→ Utilisez la librairie pandas pour lire le fichier countries_latlon.csv.</b>\n",
    "> En cas de soucis d'encodage, ajoutez les lignes suivantes à ~./bash_profile et re-lancez ipython notebook:\n",
    "> <p>export LC_ALL=en_US.UTF-8</p>\n",
    "> export LANG=en_US.UTF-8"
   ]
  },
  {
   "cell_type": "code",
   "execution_count": 22,
   "metadata": {},
   "outputs": [
    {
     "name": "stdout",
     "output_type": "stream",
     "text": [
      "    iso-code   latitude   longitude                           country\n",
      "0         AD  42.546245    1.601554                           Andorra\n",
      "1         AE  23.424076   53.847818              United Arab Emirates\n",
      "2         AF  33.939110   67.709953                       Afghanistan\n",
      "3         AG  17.060816  -61.796428               Antigua and Barbuda\n",
      "4         AI  18.220554  -63.068615                          Anguilla\n",
      "5         AL  41.153332   20.168331                           Albania\n",
      "6         AM  40.069099   45.038189                           Armenia\n",
      "7         AN  12.226079  -69.060087              Netherlands Antilles\n",
      "8         AO -11.202692   17.873887                            Angola\n",
      "9         AQ -75.250973   -0.071389                        Antarctica\n",
      "10        AR -38.416097  -63.616672                         Argentina\n",
      "11        AS -14.270972 -170.132217                    American Samoa\n",
      "12        AT  47.516231   14.550072                           Austria\n",
      "13        AU -25.274398  133.775136                         Australia\n",
      "14        AW  12.521110  -69.968338                             Aruba\n",
      "15        AZ  40.143105   47.576927                        Azerbaijan\n",
      "16        BA  43.915886   17.679076            Bosnia and Herzegovina\n",
      "17        BB  13.193887  -59.543198                          Barbados\n",
      "18        BD  23.684994   90.356331                        Bangladesh\n",
      "19        BE  50.503887    4.469936                           Belgium\n",
      "20        BF  12.238333   -1.561593                      Burkina Faso\n",
      "21        BG  42.733883   25.485830                          Bulgaria\n",
      "22        BH  25.930414   50.637772                           Bahrain\n",
      "23        BI  -3.373056   29.918886                           Burundi\n",
      "24        BJ   9.307690    2.315834                             Benin\n",
      "25        BM  32.321384  -64.757370                           Bermuda\n",
      "26        BN   4.535277  114.727669                            Brunei\n",
      "27        BO -16.290154  -63.588653                           Bolivia\n",
      "28        BR -14.235004  -51.925280                            Brazil\n",
      "29        BS  25.034280  -77.396280                           Bahamas\n",
      "..       ...        ...         ...                               ...\n",
      "215       TL  -8.874217  125.727539                       Timor-Leste\n",
      "216       TM  38.969719   59.556278                      Turkmenistan\n",
      "217       TN  33.886917    9.537499                           Tunisia\n",
      "218       TO -21.178986 -175.198242                             Tonga\n",
      "219       TR  38.963745   35.243322                            Turkey\n",
      "220       TT  10.691803  -61.222503               Trinidad and Tobago\n",
      "221       TV  -7.109535  177.649330                            Tuvalu\n",
      "222       TW  23.697810  120.960515                            Taiwan\n",
      "223       TZ  -6.369028   34.888822                          Tanzania\n",
      "224       UA  48.379433   31.165580                           Ukraine\n",
      "225       UG   1.373333   32.290275                            Uganda\n",
      "226       UM        NaN         NaN       U.S. Minor Outlying Islands\n",
      "227       US  37.090240  -95.712891                               USA\n",
      "228       UY -32.522779  -55.765835                           Uruguay\n",
      "229       UZ  41.377491   64.585262                        Uzbekistan\n",
      "230       VA  41.902916   12.453389                      Vatican City\n",
      "231       VC  12.984305  -61.287228  Saint Vincent and the Grenadines\n",
      "232       VE   6.423750  -66.589730                         Venezuela\n",
      "233       VG  18.420695  -64.639968            British Virgin Islands\n",
      "234       VI  18.335765  -64.896335               U.S. Virgin Islands\n",
      "235       VN  14.058324  108.277199                           Vietnam\n",
      "236       VU -15.376706  166.959158                           Vanuatu\n",
      "237       WF -13.768752 -177.156097                 Wallis and Futuna\n",
      "238       WS -13.759029 -172.104629                             Samoa\n",
      "239       XK  42.602636   20.902977                            Kosovo\n",
      "240       YE  15.552727   48.516388                             Yemen\n",
      "241       YT -12.827500   45.166244                           Mayotte\n",
      "242       ZA -30.559482   22.937506                      South Africa\n",
      "243       ZM -13.133897   27.849332                            Zambia\n",
      "244       ZW -19.015438   29.154857                          Zimbabwe\n",
      "\n",
      "[245 rows x 4 columns]\n"
     ]
    }
   ],
   "source": [
    "import pandas as pd # très utile pour lire des fichiers du type csv, tsv, etc.\n",
    "country_latlon = pd.read_csv('countries_latlon.csv',sep='\\t',header=0)\n",
    "print(country_latlon)"
   ]
  },
  {
   "cell_type": "markdown",
   "metadata": {
    "collapsed": true
   },
   "source": [
    "<b>→ Pour trouver la latitude et la longitude moyenne de l’Iran par exemple, exécutez le code suivant:</b>"
   ]
  },
  {
   "cell_type": "code",
   "execution_count": 23,
   "metadata": {},
   "outputs": [
    {
     "name": "stdout",
     "output_type": "stream",
     "text": [
      "Latitude: 32.427908\n",
      "Longitude: 53.68804599999999\n"
     ]
    }
   ],
   "source": [
    "idx_country = list(country_latlon['country']).index('Iran')\n",
    "lat = country_latlon['latitude'][idx_country]\n",
    "lon = country_latlon['longitude'][idx_country]\n",
    "print('Latitude: '+str(lat))\n",
    "print('Longitude: '+str(lon))"
   ]
  },
  {
   "cell_type": "markdown",
   "metadata": {},
   "source": [
    "<p style=\"background-color:#AFEEEE;padding:3px\"><font size=\"4\"><b>1.5 (a) </b></font> Généralisez votre code pour qu’il enregistre la latitude et la longitude moyenne lorsque celles-ci ne sont pas disponibles mais que vous connaissez le pays d’origine.</p>\n",
    "\n",
    "<p style=\"background-color:#AFEEEE;padding:3px\"><font size=\"4\"><b>1.5 (b) </b></font>Afin de retrouver facilement les isolats par leur accession.version (en plus du gi), définissez aussi <font face='courier'>name=[]</font> et rajoutez dans votre boucle </b><font face='courier'>name.append(protein_info[i]['GBSeq_accession-version'])</font>\n",
    "</p>"
   ]
  },
  {
   "cell_type": "code",
   "execution_count": 44,
   "metadata": {},
   "outputs": [
    {
     "name": "stdout",
     "output_type": "stream",
     "text": [
      "302\n",
      " \n",
      "-|-|-|-|-|-|-|-|-|-|-|-|-|-|-|-|-|-|-|-|-|-|-|-|-|-|-|-|-|-|-|-|-|-\n",
      " \n",
      "[{'lat': 64.96305100000001, 'lon': -19.020835}, {'lat': 64.96305100000001, 'lon': -19.020835}, {'lat': 61.92411, 'lon': 25.748151}, {'lat': 61.92411, 'lon': 25.748151}, {'lat': 61.92411, 'lon': 25.748151}, {'lat': 61.92411, 'lon': 25.748151}, {'lat': 61.92411, 'lon': 25.748151}, {'lat': 61.92411, 'lon': 25.748151}, {'lat': 56.26392, 'lon': 9.501785}, {'lat': 56.26392, 'lon': 9.501785}, {'lat': 56.26392, 'lon': 9.501785}, {'lat': 56.26392, 'lon': 9.501785}, {'lat': 56.26392, 'lon': 9.501785}, {'lat': 56.26392, 'lon': 9.501785}, {'lat': 56.26392, 'lon': 9.501785}, {'lat': 56.26392, 'lon': 9.501785}, {'lat': 56.26392, 'lon': 9.501785}, {'lat': 56.26392, 'lon': 9.501785}, {'lat': 56.26392, 'lon': 9.501785}, {'lat': 56.26392, 'lon': 9.501785}, {'lat': 56.26392, 'lon': 9.501785}, {'lat': 56.26392, 'lon': 9.501785}, {'lat': 56.26392, 'lon': 9.501785}, {'lat': 56.26392, 'lon': 9.501785}, {'lat': 56.26392, 'lon': 9.501785}, {'lat': 56.26392, 'lon': 9.501785}, {'lat': 56.26392, 'lon': 9.501785}, {'lat': 56.26392, 'lon': 9.501785}, {'lat': 56.26392, 'lon': 9.501785}, {'lat': 56.26392, 'lon': 9.501785}, {'lat': 56.26392, 'lon': 9.501785}, {'lat': 56.26392, 'lon': 9.501785}, {'lat': 56.26392, 'lon': 9.501785}, {'lat': 56.26392, 'lon': 9.501785}, {'lat': 56.26392, 'lon': 9.501785}, {'lat': 56.26392, 'lon': 9.501785}, {'lat': 56.26392, 'lon': 9.501785}, {'lat': 56.26392, 'lon': 9.501785}, {'lat': 56.26392, 'lon': 9.501785}, {'lat': 56.26392, 'lon': 9.501785}, {'lat': 56.26392, 'lon': 9.501785}, {'lat': 56.26392, 'lon': 9.501785}, {'lat': 56.26392, 'lon': 9.501785}, {'lat': 56.26392, 'lon': 9.501785}, {'lat': 56.26392, 'lon': 9.501785}, {'lat': 56.26392, 'lon': 9.501785}, {'lat': 56.26392, 'lon': 9.501785}, {'lat': 56.26392, 'lon': 9.501785}, {'lat': 56.26392, 'lon': 9.501785}, {'lat': 56.26392, 'lon': 9.501785}, {'lat': 56.26392, 'lon': 9.501785}, {'lat': 56.26392, 'lon': 9.501785}, {'lat': 56.26392, 'lon': 9.501785}, {'lat': 56.26392, 'lon': 9.501785}, {'lat': 56.26392, 'lon': 9.501785}, {'lat': 56.26392, 'lon': 9.501785}, {'lat': 56.26392, 'lon': 9.501785}, {'lat': 56.26392, 'lon': 9.501785}, {'lat': 56.26392, 'lon': 9.501785}, {'lat': 56.26392, 'lon': 9.501785}, {'lat': 56.26392, 'lon': 9.501785}, {'lat': 56.26392, 'lon': 9.501785}, {'lat': 56.26392, 'lon': 9.501785}, {'lat': 56.26392, 'lon': 9.501785}, {'lat': 56.26392, 'lon': 9.501785}, {'lat': 56.26392, 'lon': 9.501785}, {'lat': 56.26392, 'lon': 9.501785}, {'lat': 56.26392, 'lon': 9.501785}, {'lat': 56.26392, 'lon': 9.501785}, {'lat': 56.26392, 'lon': 9.501785}, {'lat': 56.26392, 'lon': 9.501785}, {'lat': 56.26392, 'lon': 9.501785}, {'lat': 56.26392, 'lon': 9.501785}, {'lat': 56.26392, 'lon': 9.501785}, {'lat': 56.26392, 'lon': 9.501785}, {'lat': 56.26392, 'lon': 9.501785}, {'lat': 56.26392, 'lon': 9.501785}, {'lat': 56.26392, 'lon': 9.501785}, {'lat': 56.26392, 'lon': 9.501785}, {'lat': 56.26392, 'lon': 9.501785}, {'lat': 56.26392, 'lon': 9.501785}, {'lat': 56.26392, 'lon': 9.501785}, {'lat': 56.26392, 'lon': 9.501785}, {'lat': 56.26392, 'lon': 9.501785}, {'lat': 41.87194, 'lon': 12.56738}, {'lat': 41.87194, 'lon': 12.56738}, {'lat': 41.87194, 'lon': 12.56738}, {'lat': 41.87194, 'lon': 12.56738}, {'lat': 41.87194, 'lon': 12.56738}, {'lat': 41.87194, 'lon': 12.56738}, {'lat': 41.87194, 'lon': 12.56738}, {'lat': 41.87194, 'lon': 12.56738}, {'lat': 41.87194, 'lon': 12.56738}, {'lat': 41.87194, 'lon': 12.56738}, {'lat': 41.87194, 'lon': 12.56738}, {'lat': 41.87194, 'lon': 12.56738}, {'lat': 41.87194, 'lon': 12.56738}, {'lat': 41.87194, 'lon': 12.56738}, {'lat': 41.87194, 'lon': 12.56738}, {'lat': 41.87194, 'lon': 12.56738}, {'lat': 41.87194, 'lon': 12.56738}, {'lat': 41.87194, 'lon': 12.56738}, {'lat': 41.87194, 'lon': 12.56738}, {'lat': 41.87194, 'lon': 12.56738}, {'lat': 41.87194, 'lon': 12.56738}, {'lat': 41.87194, 'lon': 12.56738}, {'lat': 41.87194, 'lon': 12.56738}, {'lat': 41.87194, 'lon': 12.56738}, {'lat': 41.87194, 'lon': 12.56738}, {'lat': 41.87194, 'lon': 12.56738}, {'lat': 41.87194, 'lon': 12.56738}, {'lat': 41.87194, 'lon': 12.56738}, {'lat': 41.87194, 'lon': 12.56738}, {'lat': 41.87194, 'lon': 12.56738}, {'lat': 41.87194, 'lon': 12.56738}, {'lat': 41.87194, 'lon': 12.56738}, {'lat': 41.87194, 'lon': 12.56738}, {'lat': 41.87194, 'lon': 12.56738}, {'lat': 41.87194, 'lon': 12.56738}, {'lat': 41.87194, 'lon': 12.56738}, {'lat': 41.87194, 'lon': 12.56738}, {'lat': 41.87194, 'lon': 12.56738}, {'lat': 41.87194, 'lon': 12.56738}, {'lat': 41.87194, 'lon': 12.56738}, {'lat': 41.87194, 'lon': 12.56738}, {'lat': 41.87194, 'lon': 12.56738}, {'lat': 41.87194, 'lon': 12.56738}, {'lat': 41.87194, 'lon': 12.56738}, {'lat': 41.87194, 'lon': 12.56738}, {'lat': 41.87194, 'lon': 12.56738}, {'lat': 41.87194, 'lon': 12.56738}, {'lat': 41.87194, 'lon': 12.56738}, {'lat': 41.87194, 'lon': 12.56738}, {'lat': 41.87194, 'lon': 12.56738}, {'lat': 41.87194, 'lon': 12.56738}, {'lat': 41.87194, 'lon': 12.56738}, {'lat': 41.87194, 'lon': 12.56738}, {'lat': 41.87194, 'lon': 12.56738}, {'lat': 41.87194, 'lon': 12.56738}, {'lat': 41.87194, 'lon': 12.56738}, {'lat': 41.87194, 'lon': 12.56738}, {'lat': 41.87194, 'lon': 12.56738}, {'lat': 41.87194, 'lon': 12.56738}, {'lat': 41.87194, 'lon': 12.56738}, {'lat': 41.87194, 'lon': 12.56738}, {'lat': 41.87194, 'lon': 12.56738}, {'lat': 41.87194, 'lon': 12.56738}, {'lat': 41.87194, 'lon': 12.56738}, {'lat': 41.87194, 'lon': 12.56738}, {'lat': 41.87194, 'lon': 12.56738}, {'lat': 41.87194, 'lon': 12.56738}, {'lat': 41.87194, 'lon': 12.56738}, {'lat': 41.87194, 'lon': 12.56738}, {'lat': 41.87194, 'lon': 12.56738}, {'lat': 41.87194, 'lon': 12.56738}, {'lat': 41.87194, 'lon': 12.56738}, {'lat': 41.87194, 'lon': 12.56738}, {'lat': 41.87194, 'lon': 12.56738}, {'lat': 41.87194, 'lon': 12.56738}, {'lat': 41.87194, 'lon': 12.56738}, {'lat': 41.87194, 'lon': 12.56738}, {'lat': 41.87194, 'lon': 12.56738}, {'lat': 41.87194, 'lon': 12.56738}, {'lat': 41.87194, 'lon': 12.56738}, {'lat': 41.87194, 'lon': 12.56738}, {'lat': 41.87194, 'lon': 12.56738}, {'lat': 41.87194, 'lon': 12.56738}, {'lat': 41.87194, 'lon': 12.56738}, {'lat': 41.87194, 'lon': 12.56738}, {'lat': 41.87194, 'lon': 12.56738}, {'lat': 41.87194, 'lon': 12.56738}, {'lat': 41.87194, 'lon': 12.56738}, {'lat': 41.87194, 'lon': 12.56738}, {'lat': 41.87194, 'lon': 12.56738}, {'lat': 41.87194, 'lon': 12.56738}, {'lat': 41.87194, 'lon': 12.56738}, {'lat': 41.87194, 'lon': 12.56738}, {'lat': 41.87194, 'lon': 12.56738}, {'lat': 41.87194, 'lon': 12.56738}, {'lat': 41.87194, 'lon': 12.56738}, {'lat': 41.87194, 'lon': 12.56738}, {'lat': 41.87194, 'lon': 12.56738}, {'lat': 41.87194, 'lon': 12.56738}, {'lat': 41.87194, 'lon': 12.56738}, {'lat': 41.87194, 'lon': 12.56738}, {'lat': 41.87194, 'lon': 12.56738}, {'lat': 41.87194, 'lon': 12.56738}, {'lat': 41.87194, 'lon': 12.56738}, {'lat': 41.87194, 'lon': 12.56738}, {'lat': 41.87194, 'lon': 12.56738}, {'lat': 41.87194, 'lon': 12.56738}, {'lat': 41.87194, 'lon': 12.56738}, {'lat': 60.472024, 'lon': 8.468946}, {'lat': 60.472024, 'lon': 8.468946}, {'lat': 60.472024, 'lon': 8.468946}, {'lat': 60.472024, 'lon': 8.468946}, {'lat': 32.427908, 'lon': 53.68804599999999}, {'lat': 32.427908, 'lon': 53.68804599999999}, {'lat': 32.427908, 'lon': 53.68804599999999}, {'lat': 32.427908, 'lon': 53.68804599999999}, {'lat': 40.463667, 'lon': -3.7492199999999998}, {'lat': nan, 'lon': nan}, {'lat': 38.963745, 'lon': 35.243322}, {'lat': 38.963745, 'lon': 35.243322}, {'lat': 38.963745, 'lon': 35.243322}, {'lat': 60.472024, 'lon': 8.468946}, {'lat': 60.472024, 'lon': 8.468946}, {'lat': 60.472024, 'lon': 8.468946}, {'lat': 60.472024, 'lon': 8.468946}, {'lat': nan, 'lon': nan}, {'lat': nan, 'lon': nan}, {'lat': nan, 'lon': nan}, {'lat': nan, 'lon': nan}, {'lat': nan, 'lon': nan}, {'lat': nan, 'lon': nan}, {'lat': nan, 'lon': nan}, {'lat': nan, 'lon': nan}, {'lat': nan, 'lon': nan}, {'lat': nan, 'lon': nan}, {'lat': nan, 'lon': nan}, {'lat': nan, 'lon': nan}, {'lat': nan, 'lon': nan}, {'lat': nan, 'lon': nan}, {'lat': nan, 'lon': nan}, {'lat': nan, 'lon': nan}, {'lat': nan, 'lon': nan}, {'lat': nan, 'lon': nan}, {'lat': nan, 'lon': nan}, {'lat': nan, 'lon': nan}, {'lat': nan, 'lon': nan}, {'lat': nan, 'lon': nan}, {'lat': nan, 'lon': nan}, {'lat': nan, 'lon': nan}, {'lat': 35.907757000000004, 'lon': 127.766922}, {'lat': 35.907757000000004, 'lon': 127.766922}, {'lat': 56.26392, 'lon': 9.501785}, {'lat': 56.26392, 'lon': 9.501785}, {'lat': 56.26392, 'lon': 9.501785}, {'lat': 56.26392, 'lon': 9.501785}, {'lat': 56.26392, 'lon': 9.501785}, {'lat': 56.26392, 'lon': 9.501785}, {'lat': 56.26392, 'lon': 9.501785}, {'lat': 56.26392, 'lon': 9.501785}, {'lat': 56.26392, 'lon': 9.501785}, {'lat': 56.26392, 'lon': 9.501785}, {'lat': 56.26392, 'lon': 9.501785}, {'lat': 56.26392, 'lon': 9.501785}, {'lat': 56.26392, 'lon': 9.501785}, {'lat': 56.26392, 'lon': 9.501785}, {'lat': 56.26392, 'lon': 9.501785}, {'lat': 56.26392, 'lon': 9.501785}, {'lat': 56.26392, 'lon': 9.501785}, {'lat': 56.26392, 'lon': 9.501785}, {'lat': 56.26392, 'lon': 9.501785}, {'lat': 56.26392, 'lon': 9.501785}, {'lat': 56.26392, 'lon': 9.501785}, {'lat': 56.26392, 'lon': 9.501785}, {'lat': 56.26392, 'lon': 9.501785}, {'lat': 56.26392, 'lon': 9.501785}, {'lat': 56.26392, 'lon': 9.501785}, {'lat': 56.26392, 'lon': 9.501785}, {'lat': 56.26392, 'lon': 9.501785}, {'lat': 56.26392, 'lon': 9.501785}, {'lat': 56.26392, 'lon': 9.501785}, {'lat': 56.26392, 'lon': 9.501785}, {'lat': 56.26392, 'lon': 9.501785}, {'lat': 56.26392, 'lon': 9.501785}, {'lat': 56.26392, 'lon': 9.501785}, {'lat': 56.26392, 'lon': 9.501785}, {'lat': 56.26392, 'lon': 9.501785}, {'lat': 56.26392, 'lon': 9.501785}, {'lat': 56.26392, 'lon': 9.501785}, {'lat': 56.26392, 'lon': 9.501785}, {'lat': 56.26392, 'lon': 9.501785}, {'lat': 56.26392, 'lon': 9.501785}, {'lat': 56.26392, 'lon': 9.501785}, {'lat': 56.26392, 'lon': 9.501785}, {'lat': 56.26392, 'lon': 9.501785}, {'lat': 56.26392, 'lon': 9.501785}, {'lat': 56.26392, 'lon': 9.501785}, {'lat': 56.26392, 'lon': 9.501785}, {'lat': 56.26392, 'lon': 9.501785}, {'lat': 56.26392, 'lon': 9.501785}, {'lat': 56.26392, 'lon': 9.501785}, {'lat': 56.26392, 'lon': 9.501785}, {'lat': 56.26392, 'lon': 9.501785}, {'lat': 56.26392, 'lon': 9.501785}, {'lat': 56.26392, 'lon': 9.501785}, {'lat': 56.26392, 'lon': 9.501785}, {'lat': 56.26392, 'lon': 9.501785}, {'lat': 56.26392, 'lon': 9.501785}, {'lat': 56.26392, 'lon': 9.501785}, {'lat': 56.26392, 'lon': 9.501785}, {'lat': 56.26392, 'lon': 9.501785}, {'lat': 61.92411, 'lon': 25.748151}, {'lat': 61.92411, 'lon': 25.748151}, {'lat': 61.92411, 'lon': 25.748151}, {'lat': 61.92411, 'lon': 25.748151}, {'lat': 61.92411, 'lon': 25.748151}, {'lat': 61.92411, 'lon': 25.748151}, {'lat': 61.92411, 'lon': 25.748151}, {'lat': 61.92411, 'lon': 25.748151}, {'lat': 61.92411, 'lon': 25.748151}, {'lat': 61.92411, 'lon': 25.748151}, {'lat': 61.92411, 'lon': 25.748151}, {'lat': 61.92411, 'lon': 25.748151}, {'lat': 61.92411, 'lon': 25.748151}, {'lat': 61.92411, 'lon': 25.748151}, {'lat': 61.92411, 'lon': 25.748151}, {'lat': 61.92411, 'lon': 25.748151}, {'lat': 61.92411, 'lon': 25.748151}, {'lat': 61.92411, 'lon': 25.748151}, {'lat': nan, 'lon': nan}, {'lat': nan, 'lon': nan}, {'lat': nan, 'lon': nan}, {'lat': nan, 'lon': nan}, {'lat': nan, 'lon': nan}, {'lat': nan, 'lon': nan}, {'lat': nan, 'lon': nan}, {'lat': nan, 'lon': nan}, {'lat': nan, 'lon': nan}, {'lat': nan, 'lon': nan}, {'lat': nan, 'lon': nan}, {'lat': nan, 'lon': nan}, {'lat': nan, 'lon': nan}, {'lat': nan, 'lon': nan}, {'lat': nan, 'lon': nan}, {'lat': nan, 'lon': nan}, {'lat': nan, 'lon': nan}, {'lat': nan, 'lon': nan}, {'lat': nan, 'lon': nan}, {'lat': nan, 'lon': nan}, {'lat': nan, 'lon': nan}, {'lat': nan, 'lon': nan}, {'lat': nan, 'lon': nan}, {'lat': nan, 'lon': nan}, {'lat': nan, 'lon': nan}, {'lat': nan, 'lon': nan}, {'lat': nan, 'lon': nan}, {'lat': nan, 'lon': nan}, {'lat': nan, 'lon': nan}, {'lat': nan, 'lon': nan}, {'lat': nan, 'lon': nan}, {'lat': nan, 'lon': nan}, {'lat': nan, 'lon': nan}, {'lat': nan, 'lon': nan}, {'lat': nan, 'lon': nan}, {'lat': nan, 'lon': nan}, {'lat': nan, 'lon': nan}, {'lat': nan, 'lon': nan}, {'lat': nan, 'lon': nan}, {'lat': nan, 'lon': nan}, {'lat': nan, 'lon': nan}, {'lat': nan, 'lon': nan}, {'lat': nan, 'lon': nan}, {'lat': nan, 'lon': nan}, {'lat': nan, 'lon': nan}, {'lat': nan, 'lon': nan}, {'lat': nan, 'lon': nan}, {'lat': nan, 'lon': nan}, {'lat': nan, 'lon': nan}, {'lat': nan, 'lon': nan}, {'lat': nan, 'lon': nan}, {'lat': nan, 'lon': nan}, {'lat': nan, 'lon': nan}, {'lat': nan, 'lon': nan}, {'lat': nan, 'lon': nan}, {'lat': nan, 'lon': nan}, {'lat': nan, 'lon': nan}, {'lat': nan, 'lon': nan}, {'lat': nan, 'lon': nan}, {'lat': nan, 'lon': nan}, {'lat': nan, 'lon': nan}, {'lat': nan, 'lon': nan}, {'lat': nan, 'lon': nan}, {'lat': 60.472024, 'lon': 8.468946}, {'lat': 60.472024, 'lon': 8.468946}, {'lat': 60.472024, 'lon': 8.468946}, {'lat': 56.130366, 'lon': -106.34677099999999}, {'lat': 56.130366, 'lon': -106.34677099999999}, {'lat': 37.09024, 'lon': -95.712891}, {'lat': 37.09024, 'lon': -95.712891}, {'lat': 36.204824, 'lon': 138.252924}, {'lat': 36.204824, 'lon': 138.252924}, {'lat': 37.09024, 'lon': -95.712891}, {'lat': 56.130366, 'lon': -106.34677099999999}, {'lat': 56.130366, 'lon': -106.34677099999999}, {'lat': 56.130366, 'lon': -106.34677099999999}, {'lat': 46.151241, 'lon': 14.995463}, {'lat': 60.472024, 'lon': 8.468946}]\n",
      " \n",
      "-|-|-|-|-|-|-|-|-|-|-|-|-|-|-|-|-|-|-|-|-|-|-|-|-|-|-|-|-|-|-|-|-|-\n",
      " \n",
      "['MH836523.1', 'MH836522.1', 'MF176930.1', 'MF176929.1', 'MF176928.1', 'MF176927.1', 'MF176926.1', 'MF176925.1', 'KU728262.1', 'KU728261.1', 'KU728260.1', 'KU728259.1', 'KU728258.1', 'KU728257.1', 'KU728256.1', 'KU728255.1', 'KU728254.1', 'KU728253.1', 'KU728252.1', 'KU728251.1', 'KU728250.1', 'KU728249.1', 'KU728248.1', 'KU728247.1', 'KU728246.1', 'KU728245.1', 'KU728244.1', 'KU728243.1', 'KU728242.1', 'KU728241.1', 'KU728240.1', 'KU728239.1', 'KU728238.1', 'KU728237.1', 'KU728236.1', 'KU728235.1', 'KU728234.1', 'KU728233.1', 'KU728232.1', 'KU728231.1', 'KU728230.1', 'KU728229.1', 'KU728228.1', 'KU728227.1', 'KU728226.1', 'KU728225.1', 'KU728224.1', 'KU728223.1', 'KU728222.1', 'KU728221.1', 'KU728220.1', 'KU728219.1', 'KU728218.1', 'KU728217.1', 'KU736825.1', 'KU736824.1', 'KU736823.1', 'KU736822.1', 'KU736821.1', 'KU736820.1', 'KU736819.1', 'KU736818.1', 'KU736817.1', 'KU736816.1', 'KU736815.1', 'KU736814.1', 'KU736813.1', 'KU736812.1', 'KU736811.1', 'KU736810.1', 'KU736809.1', 'KU736808.1', 'KU736807.1', 'KU736806.1', 'KU736805.1', 'KU736804.1', 'KU736803.1', 'KU736802.1', 'KU736801.1', 'KU736800.1', 'KU736799.1', 'KU736798.1', 'KU736797.1', 'KU736796.1', 'KU878272.1', 'KU878271.1', 'KU878270.1', 'KU878269.1', 'KU878268.1', 'KU878267.1', 'KU878266.1', 'KU878265.1', 'KU878264.1', 'KU878263.1', 'KU878262.1', 'KU878261.1', 'KU878260.1', 'KU878259.1', 'KU878258.1', 'KU878257.1', 'KU878256.1', 'KU878255.1', 'KU878254.1', 'KU878253.1', 'KU878252.1', 'KU878251.1', 'KU878250.1', 'KU878249.1', 'KU878248.1', 'KU878247.1', 'KU878246.1', 'KU878245.1', 'KU878244.1', 'KU878243.1', 'KU878242.1', 'KU878241.1', 'KU878240.1', 'KU878239.1', 'KU878238.1', 'KU878237.1', 'KU878236.1', 'KU878235.1', 'KU878234.1', 'KU878233.1', 'KU878232.1', 'KU878231.1', 'KU878230.1', 'KU878229.1', 'KU878228.1', 'KU878227.1', 'KU878226.1', 'KU878225.1', 'KU878224.1', 'KU878223.1', 'KU878222.1', 'KU878221.1', 'KU878220.1', 'KU878219.1', 'KU878218.1', 'KU878217.1', 'KU878216.1', 'KU878215.1', 'KU878214.1', 'KU878213.1', 'KU878212.1', 'KU878211.1', 'KU878210.1', 'KU878209.1', 'KU878208.1', 'KU878207.1', 'KU878206.1', 'KU878205.1', 'KU878204.1', 'KU878203.1', 'KU878202.1', 'KU878201.1', 'KU878200.1', 'KU878199.1', 'KU878198.1', 'KU878197.1', 'KU878196.1', 'KU878195.1', 'KU878194.1', 'KU878193.1', 'KU878192.1', 'KU878191.1', 'KU878190.1', 'KU878189.1', 'KU878188.1', 'KU878187.1', 'KU878186.1', 'KU878185.1', 'KU878184.1', 'KU878183.1', 'KU878182.1', 'KU878181.1', 'KU878180.1', 'KU878179.1', 'KU878178.1', 'KU878177.1', 'KU878176.1', 'KU878175.1', 'KU878174.1', 'KU878173.1', 'KU878172.1', 'KU878171.1', 'KU878170.1', 'KU878169.1', 'KU878168.1', 'KU878167.1', 'KU878166.1', 'KU878165.1', 'FJ362515.1', 'FJ362514.1', 'FJ362513.1', 'FJ362512.1', 'KP866928.1', 'KP866927.1', 'KP866926.1', 'KP861241.1', 'KM244768.1', 'KM972680.1', 'KM972679.1', 'KM972678.1', 'KJ768664.1', 'HM632035.1', 'JQ755265.1', 'JQ755260.1', 'JQ651393.1', 'JQ651388.1', 'JF681360.1', 'JF681359.1', 'JF681358.1', 'JF681357.1', 'JF681356.1', 'JF681355.1', 'JF681354.1', 'JF681353.1', 'JF681352.1', 'JF681351.1', 'JF681350.1', 'JF681349.1', 'JF681348.1', 'JF681347.1', 'JF681346.1', 'JF681345.1', 'JF681344.1', 'JF681343.1', 'JF681342.1', 'JF681341.1', 'JF681340.1', 'JF681339.1', 'JF681338.1', 'JF681337.1', 'JF681336.1', 'JF681335.1', 'JF681334.1', 'JF681333.1', 'JF681332.1', 'JF681331.1', 'JF681330.1', 'JF681329.1', 'JF681328.1', 'JF681327.1', 'JF681326.1', 'JF681325.1', 'JF681324.1', 'JF681323.1', 'JF681322.1', 'JF681321.1', 'JF681320.1', 'JF681319.1', 'JF681318.1', 'JF681317.1', 'JF681316.1', 'JF681315.1', 'JF681314.1', 'JF681313.1', 'JF681312.1', 'JF681311.1', 'JF681310.1', 'JF681309.1', 'JF681308.1', 'JF681307.1', 'JF681306.1', 'JF681305.1', 'JF681304.1', 'JF681303.1', 'JF681302.1', 'HQ112248.1', 'HQ112247.1', 'HQ112246.1', 'HQ112245.1', 'HQ112244.1', 'HQ112243.1', 'HQ112242.1', 'HQ112241.1', 'HQ112240.1', 'HQ112239.1', 'HQ112238.1', 'HQ112237.1', 'HQ112236.1', 'HQ112235.1', 'HQ112234.1', 'HQ112233.1', 'GQ504014.1', 'GQ504013.1', 'GU121101.1', 'GU121099.1', 'FJ384761.1', 'DQ401195.1', 'DQ401194.1', 'DQ401193.1', 'DQ401192.1', 'DQ401191.1', 'DQ401190.1', 'DQ401189.1', 'DQ401188.1', 'DQ401187.1', 'DQ401186.1', 'GQ292534.1', 'EU547740.1']\n"
     ]
    }
   ],
   "source": [
    "index = 0\n",
    "name = []\n",
    "\n",
    "for i in range(len(lat_lon)):\n",
    "    current_lat_lon = {'lat': float('nan'), 'lon': float('nan')}\n",
    "    if lat_lon[i]['lat'] != None:\n",
    "        current_country = country[i]\n",
    "        if current_country != 'NA':\n",
    "            index = index + 1\n",
    "            idx_country = list(country_latlon['country']).index(country[i])\n",
    "            current_lat_lon['lat'] = country_latlon['latitude'][idx_country]\n",
    "            current_lat_lon['lon'] = country_latlon['longitude'][idx_country]\n",
    "            lat_lon[i] = current_lat_lon\n",
    "            name.append(protein_info[i]['GBSeq_accession-version'])\n",
    "\n",
    "print(index)\n",
    "print(' ')\n",
    "print('-|-|-|-|-|-|-|-|-|-|-|-|-|-|-|-|-|-|-|-|-|-|-|-|-|-|-|-|-|-|-|-|-|-')\n",
    "print(' ')\n",
    "print(lat_lon)\n",
    "print(' ')\n",
    "print('-|-|-|-|-|-|-|-|-|-|-|-|-|-|-|-|-|-|-|-|-|-|-|-|-|-|-|-|-|-|-|-|-|-')\n",
    "print(' ')\n",
    "print(name)"
   ]
  },
  {
   "cell_type": "markdown",
   "metadata": {},
   "source": [
    "<b>→ Connaissant la latitude et la longitude de la majorité des isolats, représentez-les graphiquement sur une carte du monde:</b>\n"
   ]
  },
  {
   "cell_type": "code",
   "execution_count": 45,
   "metadata": {
    "scrolled": true
   },
   "outputs": [
    {
     "data": {
      "image/png": "[encoded data removed]",
      "text/plain": [
       "<Figure size 1500x1050 with 1 Axes>"
      ]
     },
     "metadata": {},
     "output_type": "display_data"
    }
   ],
   "source": [
    "%matplotlib inline\n",
    "import matplotlib.pyplot as plt\n",
    "from mpl_toolkits.basemap import Basemap\n",
    "\n",
    "# print(len(lat))\n",
    "\n",
    "fig = plt.figure(num=None,figsize=(10,7),dpi=150) # ouvre une fenêtre\n",
    "m = Basemap(projection='kav7',lon_0=0,lat_0=60) # carte du monde avec projection\n",
    "for current_lat_lon in lat_lon: # On parcourt chaqunes des latitudes et longitudes enregistrée\n",
    "    x, y = m(current_lat_lon['lon'],current_lat_lon['lat']) # transforme lat,lon avec la projection utilisée\n",
    "    m.scatter(x,y,7,marker='.',color='r') # représente les isolats en rouge\n",
    "m.fillcontinents(zorder=0) # dessine les continents\n",
    "plt.show()     \n",
    "fig.savefig('map_isolats.png', dpi=fig.dpi) # sauve la figure"
   ]
  },
  {
   "cell_type": "markdown",
   "metadata": {},
   "source": [
    "<p style=\"background-color:#AFEEEE;padding:3px\"><font size=\"4\"><b>1.6 </b></font>A votre avis, s’agit-il d’un virus qui se reproduit dans les eaux chaudes ou plutôt dans les eaux froides?</p>"
   ]
  },
  {
   "cell_type": "markdown",
   "metadata": {},
   "source": [
    "Plutôt dans les eaux froides"
   ]
  },
  {
   "cell_type": "markdown",
   "metadata": {},
   "source": [
    "\n",
    "\n",
    "\n",
    "## 2. Alignement des séquences protéiques pour pouvoir les comparer\n",
    "Afin de comprendre comment le virus s’est propagé dans le monde, nous allons comparer les séquences protéiques des différents isolats. Ceci nous permettra de regrouper les isolats “les plus similaires” et nous ferons l’hypothèse vraisemblable qu’il ont une origine commune du fait de leur similarité.\n",
    "\n",
    "Pour comparer les séquences protéiques et voir à quel point elles diffèrent, il est nécessaire de commencer par les aligner. Vous allez apprendre à utiliser l’outil graphique Aliview pour aligner les séquences et les inspecter visuellement. Vous verrez par la suite comment réaliser ces mêmes opérations directement en python avec la librairie biopython, ce qui vous permettra d’automatiser le processus.\n",
    "\n",
    "<b>→ Utilisez la liste de gi pour pouvoir générer un fichier fasta contenant toutes les séquences protéiques qui nous intéressent (pour rappel, notre requête initiale était: <font face='courier'>'G[gene] AND VHSV[orgn] NOT \"mRNA\"[title]\"</font></b>\n"
   ]
  },
  {
   "cell_type": "code",
   "execution_count": 46,
   "metadata": {},
   "outputs": [
    {
     "name": "stdout",
     "output_type": "stream",
     "text": [
      "390\n",
      "410\n"
     ]
    }
   ],
   "source": [
    "from Bio import SeqIO\n",
    "print(len(gi))\n",
    "#print(len(giWCountry))\n",
    "protein_seq = Entrez.efetch(db=\"nucleotide\",id=gi,rettype=\"fasta_cds_aa\",retmode=\"text\")\n",
    "#protein_seq = Entrez.efetch(db=\"nucleotide\",id=giWCountry,rettype=\"fasta_cds_aa\",retmode=\"text\")\n",
    "protein_seq = list(SeqIO.parse(protein_seq, \"fasta\"))\n",
    "print(len(protein_seq))"
   ]
  },
  {
   "cell_type": "markdown",
   "metadata": {},
   "source": [
    "<b>→ Imprimez l’élément 0 et l’élément 212 de <font face='courier'>protein_seq</font></b>"
   ]
  },
  {
   "cell_type": "code",
   "execution_count": 50,
   "metadata": {},
   "outputs": [
    {
     "data": {
      "text/plain": [
       "\" \\nfor i in range(len(protein_seq)):\\n    print('--> '+str(i))\\n    print(protein_seq[i])\\n    print('')\\n    #pas besoin de cette cellule dans le questionnaire des étudiants 194\\n\""
      ]
     },
     "execution_count": 50,
     "metadata": {},
     "output_type": "execute_result"
    }
   ],
   "source": [
    "#pas dans le labo juste pour moi\n",
    "\"\"\" \n",
    "for i in range(len(protein_seq)):\n",
    "    print('--> '+str(i))\n",
    "    print(protein_seq[i])\n",
    "    print('')\n",
    "    #pas besoin de cette cellule dans le questionnaire des étudiants 194\n",
    "\"\"\""
   ]
  },
  {
   "cell_type": "code",
   "execution_count": 48,
   "metadata": {},
   "outputs": [
    {
     "name": "stdout",
     "output_type": "stream",
     "text": [
      "ID: lcl|MH836523.1_prot_AZH81386.1_1\n",
      "Name: lcl|MH836523.1_prot_AZH81386.1_1\n",
      "Description: lcl|MH836523.1_prot_AZH81386.1_1 [gene=G] [protein=glycoprotein] [protein_id=AZH81386.1] [location=1..1524] [gbkey=CDS]\n",
      "Number of features: 0\n",
      "Seq('MEWNTFFLVILIIIIKSTTSQITQRPPVENISTYHADWDTPLYTHPSNCRKNSF...QMV', SingleLetterAlphabet())\n",
      "\n",
      "ID: lcl|KM244768.1_prot_AKC42401.1_3\n",
      "Name: lcl|KM244768.1_prot_AKC42401.1_3\n",
      "Description: lcl|KM244768.1_prot_AKC42401.1_3 [gene=M] [protein=matrix protein] [protein_id=AKC42401.1] [location=2217..2822] [gbkey=CDS]\n",
      "Number of features: 0\n",
      "Seq('MTLFKRKRTILVPPPHITSNDEDRVSTILTEGTLTITGPPPGNQVDKICMAMKL...QPR', SingleLetterAlphabet())\n",
      "\n",
      "410\n"
     ]
    }
   ],
   "source": [
    "print(protein_seq[0])\n",
    "print('')\n",
    "#print(protein_seq[192])\n",
    "#print('')\n",
    "#print(protein_seq[193])\n",
    "#print('')\n",
    "print(protein_seq[212])\n",
    "print('')\n",
    "#print(protein_seq[195])\n",
    "#print('')\n",
    "print(len(protein_seq))"
   ]
  },
  {
   "cell_type": "markdown",
   "metadata": {},
   "source": [
    "<p style=\"background-color:#AFEEEE;padding:3px\"><font size=\"4\"><b>2.1 </b></font>Que constatez-vous concernant le nom du gène de <font face='courier'>protein_seq[212]</font> et le nombre d'entrées retournées? Pourquoi ce gène apparaît-il dans notre liste si la requête initiale exigeait “G[gene]” (astuce: allez voir sur le site de Genbank l'entrée correspondant à l’identifiant KM244768).</p>"
   ]
  },
  {
   "cell_type": "markdown",
   "metadata": {},
   "source": [
    "Le nom du gène est M et non **G** comme demandé dans la requête. Dans une de ses features, le gene **G** apparait: \n",
    "```\n",
    "gene    2911..4434\n",
    "        /gene=\"G\"```\n",
    "[source](https://www.ncbi.nlm.nih.gov/nuccore/KM244768)"
   ]
  },
  {
   "cell_type": "markdown",
   "metadata": {},
   "source": [
    "Avant de continuer, nous devons donc nous assurer que seules les séquences protéiques correspondant au gène G sont gardées.\n",
    "\n",
    "<b>→ Faites une boucle pour tester le nom du gène</b>\n"
   ]
  },
  {
   "cell_type": "code",
   "execution_count": 49,
   "metadata": {},
   "outputs": [
    {
     "name": "stdout",
     "output_type": "stream",
     "text": [
      "410\n",
      "390\n"
     ]
    },
    {
     "data": {
      "text/plain": [
       "['lcl|MH836523.1_prot_AZH81386.1_1 [gene=G] [protein=glycoprotein] [protein_id=AZH81386.1] [location=1..1524] [gbkey=CDS]',\n",
       " 'lcl|MH836522.1_prot_AZH81385.1_1 [gene=G] [protein=glycoprotein] [protein_id=AZH81385.1] [location=1..1524] [gbkey=CDS]',\n",
       " 'lcl|MF176930.1_prot_ATO91455.1_1 [gene=G] [protein=glycoprotein] [protein_id=ATO91455.1] [location=1..1524] [gbkey=CDS]',\n",
       " 'lcl|MF176929.1_prot_ATO91454.1_1 [gene=G] [protein=glycoprotein] [protein_id=ATO91454.1] [location=1..1524] [gbkey=CDS]',\n",
       " 'lcl|MF176928.1_prot_ATO91453.1_1 [gene=G] [protein=glycoprotein] [protein_id=ATO91453.1] [location=1..1524] [gbkey=CDS]',\n",
       " 'lcl|MF176927.1_prot_ATO92013.1_1 [gene=G] [protein=glycoprotein] [protein_id=ATO92013.1] [location=1..1524] [gbkey=CDS]',\n",
       " 'lcl|MF176926.1_prot_ATO92012.1_1 [gene=G] [protein=glycoprotein] [protein_id=ATO92012.1] [location=1..1524] [gbkey=CDS]',\n",
       " 'lcl|MF176925.1_prot_ATO92011.1_1 [gene=G] [protein=glycoprotein] [protein_id=ATO92011.1] [location=1..1524] [gbkey=CDS]',\n",
       " 'lcl|KU728262.1_prot_AQT19224.1_1 [gene=G] [protein=glycoprotein] [protein_id=AQT19224.1] [location=1..1524] [gbkey=CDS]',\n",
       " 'lcl|KU728261.1_prot_AQT19223.1_1 [gene=G] [protein=glycoprotein] [protein_id=AQT19223.1] [location=1..1524] [gbkey=CDS]',\n",
       " 'lcl|KU728260.1_prot_AQT19222.1_1 [gene=G] [protein=glycoprotein] [protein_id=AQT19222.1] [location=1..1524] [gbkey=CDS]',\n",
       " 'lcl|KU728259.1_prot_AQT19221.1_1 [gene=G] [protein=glycoprotein] [protein_id=AQT19221.1] [location=1..1524] [gbkey=CDS]',\n",
       " 'lcl|KU728258.1_prot_AQT19220.1_1 [gene=G] [protein=glycoprotein] [protein_id=AQT19220.1] [location=1..1524] [gbkey=CDS]',\n",
       " 'lcl|KU728257.1_prot_AQT19219.1_1 [gene=G] [protein=glycoprotein] [protein_id=AQT19219.1] [location=1..1524] [gbkey=CDS]',\n",
       " 'lcl|KU728256.1_prot_AQT19218.1_1 [gene=G] [protein=glycoprotein] [protein_id=AQT19218.1] [location=1..1524] [gbkey=CDS]',\n",
       " 'lcl|KU728255.1_prot_AQT19217.1_1 [gene=G] [protein=glycoprotein] [protein_id=AQT19217.1] [location=1..1524] [gbkey=CDS]',\n",
       " 'lcl|KU728254.1_prot_AQT19216.1_1 [gene=G] [protein=glycoprotein] [protein_id=AQT19216.1] [location=1..1524] [gbkey=CDS]',\n",
       " 'lcl|KU728253.1_prot_AQT19215.1_1 [gene=G] [protein=glycoprotein] [protein_id=AQT19215.1] [location=1..1524] [gbkey=CDS]',\n",
       " 'lcl|KU728252.1_prot_AQT19214.1_1 [gene=G] [protein=glycoprotein] [protein_id=AQT19214.1] [location=1..1524] [gbkey=CDS]',\n",
       " 'lcl|KU728251.1_prot_AQT19213.1_1 [gene=G] [protein=glycoprotein] [protein_id=AQT19213.1] [location=1..1524] [gbkey=CDS]',\n",
       " 'lcl|KU728250.1_prot_AQT19212.1_1 [gene=G] [protein=glycoprotein] [protein_id=AQT19212.1] [location=1..1524] [gbkey=CDS]',\n",
       " 'lcl|KU728249.1_prot_AQT19211.1_1 [gene=G] [protein=glycoprotein] [protein_id=AQT19211.1] [location=1..1524] [gbkey=CDS]',\n",
       " 'lcl|KU728248.1_prot_AQT19210.1_1 [gene=G] [protein=glycoprotein] [protein_id=AQT19210.1] [location=1..1524] [gbkey=CDS]',\n",
       " 'lcl|KU728247.1_prot_AQT19209.1_1 [gene=G] [protein=glycoprotein] [protein_id=AQT19209.1] [location=1..1524] [gbkey=CDS]',\n",
       " 'lcl|KU728246.1_prot_AQT19208.1_1 [gene=G] [protein=glycoprotein] [protein_id=AQT19208.1] [location=1..1524] [gbkey=CDS]',\n",
       " 'lcl|KU728245.1_prot_AQT19207.1_1 [gene=G] [protein=glycoprotein] [protein_id=AQT19207.1] [location=1..1524] [gbkey=CDS]',\n",
       " 'lcl|KU728244.1_prot_AQT19206.1_1 [gene=G] [protein=glycoprotein] [protein_id=AQT19206.1] [location=1..1524] [gbkey=CDS]',\n",
       " 'lcl|KU728243.1_prot_AQT19205.1_1 [gene=G] [protein=glycoprotein] [protein_id=AQT19205.1] [location=1..1524] [gbkey=CDS]',\n",
       " 'lcl|KU728242.1_prot_AQT19204.1_1 [gene=G] [protein=glycoprotein] [protein_id=AQT19204.1] [location=1..1524] [gbkey=CDS]',\n",
       " 'lcl|KU728241.1_prot_AQT19203.1_1 [gene=G] [protein=glycoprotein] [protein_id=AQT19203.1] [location=1..1524] [gbkey=CDS]',\n",
       " 'lcl|KU728240.1_prot_AQT19202.1_1 [gene=G] [protein=glycoprotein] [protein_id=AQT19202.1] [location=1..1524] [gbkey=CDS]',\n",
       " 'lcl|KU728239.1_prot_AQT19201.1_1 [gene=G] [protein=glycoprotein] [protein_id=AQT19201.1] [location=1..1524] [gbkey=CDS]',\n",
       " 'lcl|KU728238.1_prot_AQT19200.1_1 [gene=G] [protein=glycoprotein] [protein_id=AQT19200.1] [location=1..1524] [gbkey=CDS]',\n",
       " 'lcl|KU728237.1_prot_AQT19199.1_1 [gene=G] [protein=glycoprotein] [protein_id=AQT19199.1] [location=1..1524] [gbkey=CDS]',\n",
       " 'lcl|KU728236.1_prot_AQT19198.1_1 [gene=G] [protein=glycoprotein] [protein_id=AQT19198.1] [location=1..1524] [gbkey=CDS]',\n",
       " 'lcl|KU728235.1_prot_AQT19197.1_1 [gene=G] [protein=glycoprotein] [protein_id=AQT19197.1] [location=1..1524] [gbkey=CDS]',\n",
       " 'lcl|KU728234.1_prot_AQT19196.1_1 [gene=G] [protein=glycoprotein] [protein_id=AQT19196.1] [location=1..1524] [gbkey=CDS]',\n",
       " 'lcl|KU728233.1_prot_AQT19195.1_1 [gene=G] [protein=glycoprotein] [protein_id=AQT19195.1] [location=1..1524] [gbkey=CDS]',\n",
       " 'lcl|KU728232.1_prot_AQT19194.1_1 [gene=G] [protein=glycoprotein] [protein_id=AQT19194.1] [location=1..1524] [gbkey=CDS]',\n",
       " 'lcl|KU728231.1_prot_AQT19193.1_1 [gene=G] [protein=glycoprotein] [protein_id=AQT19193.1] [location=1..1524] [gbkey=CDS]',\n",
       " 'lcl|KU728230.1_prot_AQT19192.1_1 [gene=G] [protein=glycoprotein] [protein_id=AQT19192.1] [location=1..1524] [gbkey=CDS]',\n",
       " 'lcl|KU728229.1_prot_AQT19191.1_1 [gene=G] [protein=glycoprotein] [protein_id=AQT19191.1] [location=1..1524] [gbkey=CDS]',\n",
       " 'lcl|KU728228.1_prot_AQT19190.1_1 [gene=G] [protein=glycoprotein] [protein_id=AQT19190.1] [location=1..1524] [gbkey=CDS]',\n",
       " 'lcl|KU728227.1_prot_AQT19189.1_1 [gene=G] [protein=glycoprotein] [protein_id=AQT19189.1] [location=1..1524] [gbkey=CDS]',\n",
       " 'lcl|KU728226.1_prot_AQT19188.1_1 [gene=G] [protein=glycoprotein] [protein_id=AQT19188.1] [location=1..1524] [gbkey=CDS]',\n",
       " 'lcl|KU728225.1_prot_AQT19187.1_1 [gene=G] [protein=glycoprotein] [protein_id=AQT19187.1] [location=1..1524] [gbkey=CDS]',\n",
       " 'lcl|KU728224.1_prot_AQT19186.1_1 [gene=G] [protein=glycoprotein] [protein_id=AQT19186.1] [location=1..1524] [gbkey=CDS]',\n",
       " 'lcl|KU728223.1_prot_AQT19185.1_1 [gene=G] [protein=glycoprotein] [protein_id=AQT19185.1] [location=1..1524] [gbkey=CDS]',\n",
       " 'lcl|KU728222.1_prot_AQT19184.1_1 [gene=G] [protein=glycoprotein] [protein_id=AQT19184.1] [location=1..1524] [gbkey=CDS]',\n",
       " 'lcl|KU728221.1_prot_AQT19183.1_1 [gene=G] [protein=glycoprotein] [protein_id=AQT19183.1] [location=1..1524] [gbkey=CDS]',\n",
       " 'lcl|KU728220.1_prot_AQT19182.1_1 [gene=G] [protein=glycoprotein] [protein_id=AQT19182.1] [location=1..1524] [gbkey=CDS]',\n",
       " 'lcl|KU728219.1_prot_AQT19181.1_1 [gene=G] [protein=glycoprotein] [protein_id=AQT19181.1] [location=1..1524] [gbkey=CDS]',\n",
       " 'lcl|KU728218.1_prot_AQT19180.1_1 [gene=G] [protein=glycoprotein] [protein_id=AQT19180.1] [location=1..1524] [gbkey=CDS]',\n",
       " 'lcl|KU728217.1_prot_AQT19179.1_1 [gene=G] [protein=glycoprotein] [protein_id=AQT19179.1] [location=1..1524] [gbkey=CDS]',\n",
       " 'lcl|KU736825.1_prot_APZ77071.1_1 [gene=G] [protein=glycoprotein] [protein_id=APZ77071.1] [location=1..1524] [gbkey=CDS]',\n",
       " 'lcl|KU736824.1_prot_APZ77070.1_1 [gene=G] [protein=glycoprotein] [protein_id=APZ77070.1] [location=1..1524] [gbkey=CDS]',\n",
       " 'lcl|KU736823.1_prot_APZ77069.1_1 [gene=G] [protein=glycoprotein] [protein_id=APZ77069.1] [location=1..1524] [gbkey=CDS]',\n",
       " 'lcl|KU736822.1_prot_APZ77068.1_1 [gene=G] [protein=glycoprotein] [protein_id=APZ77068.1] [location=1..1524] [gbkey=CDS]',\n",
       " 'lcl|KU736821.1_prot_APZ77067.1_1 [gene=G] [protein=glycoprotein] [protein_id=APZ77067.1] [location=1..1524] [gbkey=CDS]',\n",
       " 'lcl|KU736820.1_prot_APZ77066.1_1 [gene=G] [protein=glycoprotein] [protein_id=APZ77066.1] [location=1..1524] [gbkey=CDS]',\n",
       " 'lcl|KU736819.1_prot_APZ77065.1_1 [gene=G] [protein=glycoprotein] [protein_id=APZ77065.1] [location=1..1524] [gbkey=CDS]',\n",
       " 'lcl|KU736818.1_prot_APZ77064.1_1 [gene=G] [protein=glycoprotein] [protein_id=APZ77064.1] [location=1..1524] [gbkey=CDS]',\n",
       " 'lcl|KU736817.1_prot_APZ77063.1_1 [gene=G] [protein=glycoprotein] [protein_id=APZ77063.1] [location=1..1524] [gbkey=CDS]',\n",
       " 'lcl|KU736816.1_prot_APZ77062.1_1 [gene=G] [protein=glycoprotein] [protein_id=APZ77062.1] [location=1..1524] [gbkey=CDS]',\n",
       " 'lcl|KU736815.1_prot_APZ77061.1_1 [gene=G] [protein=glycoprotein] [protein_id=APZ77061.1] [location=1..1524] [gbkey=CDS]',\n",
       " 'lcl|KU736814.1_prot_APZ77060.1_1 [gene=G] [protein=glycoprotein] [protein_id=APZ77060.1] [location=1..1524] [gbkey=CDS]',\n",
       " 'lcl|KU736813.1_prot_APZ77059.1_1 [gene=G] [protein=glycoprotein] [protein_id=APZ77059.1] [location=1..1524] [gbkey=CDS]',\n",
       " 'lcl|KU736812.1_prot_APZ77058.1_1 [gene=G] [protein=glycoprotein] [protein_id=APZ77058.1] [location=1..1524] [gbkey=CDS]',\n",
       " 'lcl|KU736811.1_prot_APZ77057.1_1 [gene=G] [protein=glycoprotein] [protein_id=APZ77057.1] [location=1..1524] [gbkey=CDS]',\n",
       " 'lcl|KU736810.1_prot_APZ77056.1_1 [gene=G] [protein=glycoprotein] [protein_id=APZ77056.1] [location=1..1524] [gbkey=CDS]',\n",
       " 'lcl|KU736809.1_prot_APZ77055.1_1 [gene=G] [protein=glycoprotein] [protein_id=APZ77055.1] [location=1..1524] [gbkey=CDS]',\n",
       " 'lcl|KU736808.1_prot_APZ77054.1_1 [gene=G] [protein=glycoprotein] [protein_id=APZ77054.1] [location=1..1524] [gbkey=CDS]',\n",
       " 'lcl|KU736807.1_prot_APZ77053.1_1 [gene=G] [protein=glycoprotein] [protein_id=APZ77053.1] [location=1..1524] [gbkey=CDS]',\n",
       " 'lcl|KU736806.1_prot_APZ77052.1_1 [gene=G] [protein=glycoprotein] [protein_id=APZ77052.1] [location=1..1524] [gbkey=CDS]',\n",
       " 'lcl|KU736805.1_prot_APZ77051.1_1 [gene=G] [protein=glycoprotein] [protein_id=APZ77051.1] [location=1..1524] [gbkey=CDS]',\n",
       " 'lcl|KU736804.1_prot_APZ77050.1_1 [gene=G] [protein=glycoprotein] [protein_id=APZ77050.1] [location=1..1524] [gbkey=CDS]',\n",
       " 'lcl|KU736803.1_prot_APZ77049.1_1 [gene=G] [protein=glycoprotein] [protein_id=APZ77049.1] [location=1..1524] [gbkey=CDS]',\n",
       " 'lcl|KU736802.1_prot_APZ77048.1_1 [gene=G] [protein=glycoprotein] [protein_id=APZ77048.1] [location=1..1524] [gbkey=CDS]',\n",
       " 'lcl|KU736801.1_prot_APZ77047.1_1 [gene=G] [protein=glycoprotein] [protein_id=APZ77047.1] [location=1..1524] [gbkey=CDS]',\n",
       " 'lcl|KU736800.1_prot_APZ77046.1_1 [gene=G] [protein=glycoprotein] [protein_id=APZ77046.1] [location=1..1524] [gbkey=CDS]',\n",
       " 'lcl|KU736799.1_prot_APZ77045.1_1 [gene=G] [protein=glycoprotein] [protein_id=APZ77045.1] [location=1..1524] [gbkey=CDS]',\n",
       " 'lcl|KU736798.1_prot_APZ77044.1_1 [gene=G] [protein=glycoprotein] [protein_id=APZ77044.1] [location=1..1524] [gbkey=CDS]',\n",
       " 'lcl|KU736797.1_prot_APZ77043.1_1 [gene=G] [protein=glycoprotein] [protein_id=APZ77043.1] [location=1..1524] [gbkey=CDS]',\n",
       " 'lcl|KU736796.1_prot_APZ77042.1_1 [gene=G] [protein=glycoprotein] [protein_id=APZ77042.1] [location=1..1524] [gbkey=CDS]',\n",
       " 'lcl|KU878272.1_prot_AOG30705.1_1 [gene=G] [protein=glycoprotein] [protein_id=AOG30705.1] [location=1..1524] [gbkey=CDS]',\n",
       " 'lcl|KU878271.1_prot_AOG30704.1_1 [gene=G] [protein=glycoprotein] [protein_id=AOG30704.1] [location=1..1524] [gbkey=CDS]',\n",
       " 'lcl|KU878270.1_prot_AOG30703.1_1 [gene=G] [protein=glycoprotein] [protein_id=AOG30703.1] [location=1..1524] [gbkey=CDS]',\n",
       " 'lcl|KU878269.1_prot_AOG30702.1_1 [gene=G] [protein=glycoprotein] [protein_id=AOG30702.1] [location=1..1524] [gbkey=CDS]',\n",
       " 'lcl|KU878268.1_prot_AOG30701.1_1 [gene=G] [protein=glycoprotein] [protein_id=AOG30701.1] [location=1..1524] [gbkey=CDS]',\n",
       " 'lcl|KU878267.1_prot_AOG30700.1_1 [gene=G] [protein=glycoprotein] [protein_id=AOG30700.1] [location=1..1524] [gbkey=CDS]',\n",
       " 'lcl|KU878266.1_prot_AOG30699.1_1 [gene=G] [protein=glycoprotein] [protein_id=AOG30699.1] [location=1..1524] [gbkey=CDS]',\n",
       " 'lcl|KU878265.1_prot_AOG30698.1_1 [gene=G] [protein=glycoprotein] [protein_id=AOG30698.1] [location=1..1524] [gbkey=CDS]',\n",
       " 'lcl|KU878264.1_prot_AOG30697.1_1 [gene=G] [protein=glycoprotein] [protein_id=AOG30697.1] [location=1..1524] [gbkey=CDS]',\n",
       " 'lcl|KU878263.1_prot_AOG30696.1_1 [gene=G] [protein=glycoprotein] [protein_id=AOG30696.1] [location=1..1524] [gbkey=CDS]',\n",
       " 'lcl|KU878262.1_prot_AOG30695.1_1 [gene=G] [protein=glycoprotein] [protein_id=AOG30695.1] [location=1..1524] [gbkey=CDS]',\n",
       " 'lcl|KU878261.1_prot_AOG30694.1_1 [gene=G] [protein=glycoprotein] [protein_id=AOG30694.1] [location=1..1524] [gbkey=CDS]',\n",
       " 'lcl|KU878260.1_prot_AOG30693.1_1 [gene=G] [protein=glycoprotein] [protein_id=AOG30693.1] [location=1..1524] [gbkey=CDS]',\n",
       " 'lcl|KU878259.1_prot_AOG30692.1_1 [gene=G] [protein=glycoprotein] [protein_id=AOG30692.1] [location=1..1524] [gbkey=CDS]',\n",
       " 'lcl|KU878258.1_prot_AOG30691.1_1 [gene=G] [protein=glycoprotein] [protein_id=AOG30691.1] [location=1..1524] [gbkey=CDS]',\n",
       " 'lcl|KU878257.1_prot_AOG30690.1_1 [gene=G] [protein=glycoprotein] [protein_id=AOG30690.1] [location=1..1524] [gbkey=CDS]',\n",
       " 'lcl|KU878256.1_prot_AOG30689.1_1 [gene=G] [protein=glycoprotein] [protein_id=AOG30689.1] [location=1..1524] [gbkey=CDS]',\n",
       " 'lcl|KU878255.1_prot_AOG30688.1_1 [gene=G] [protein=glycoprotein] [protein_id=AOG30688.1] [location=1..1524] [gbkey=CDS]',\n",
       " 'lcl|KU878254.1_prot_AOG30687.1_1 [gene=G] [protein=glycoprotein] [protein_id=AOG30687.1] [location=1..1524] [gbkey=CDS]',\n",
       " 'lcl|KU878253.1_prot_AOG30686.1_1 [gene=G] [protein=glycoprotein] [protein_id=AOG30686.1] [location=1..1524] [gbkey=CDS]',\n",
       " 'lcl|KU878252.1_prot_AOG30685.1_1 [gene=G] [protein=glycoprotein] [protein_id=AOG30685.1] [location=1..1524] [gbkey=CDS]',\n",
       " 'lcl|KU878251.1_prot_AOG30684.1_1 [gene=G] [protein=glycoprotein] [protein_id=AOG30684.1] [location=1..1524] [gbkey=CDS]',\n",
       " 'lcl|KU878250.1_prot_AOG30683.1_1 [gene=G] [protein=glycoprotein] [protein_id=AOG30683.1] [location=1..1524] [gbkey=CDS]',\n",
       " 'lcl|KU878249.1_prot_AOG30682.1_1 [gene=G] [protein=glycoprotein] [protein_id=AOG30682.1] [location=1..1524] [gbkey=CDS]',\n",
       " 'lcl|KU878248.1_prot_AOG30681.1_1 [gene=G] [protein=glycoprotein] [protein_id=AOG30681.1] [location=1..1524] [gbkey=CDS]',\n",
       " 'lcl|KU878247.1_prot_AOG30680.1_1 [gene=G] [protein=glycoprotein] [protein_id=AOG30680.1] [location=1..1524] [gbkey=CDS]',\n",
       " 'lcl|KU878246.1_prot_AOG30679.1_1 [gene=G] [protein=glycoprotein] [protein_id=AOG30679.1] [location=1..1524] [gbkey=CDS]',\n",
       " 'lcl|KU878245.1_prot_AOG30678.1_1 [gene=G] [protein=glycoprotein] [protein_id=AOG30678.1] [location=1..1524] [gbkey=CDS]',\n",
       " 'lcl|KU878244.1_prot_AOG30677.1_1 [gene=G] [protein=glycoprotein] [protein_id=AOG30677.1] [location=1..1524] [gbkey=CDS]',\n",
       " 'lcl|KU878243.1_prot_AOG30676.1_1 [gene=G] [protein=glycoprotein] [protein_id=AOG30676.1] [location=1..1524] [gbkey=CDS]',\n",
       " 'lcl|KU878242.1_prot_AOG30675.1_1 [gene=G] [protein=glycoprotein] [protein_id=AOG30675.1] [location=1..1524] [gbkey=CDS]',\n",
       " 'lcl|KU878241.1_prot_AOG30674.1_1 [gene=G] [protein=glycoprotein] [protein_id=AOG30674.1] [location=1..1524] [gbkey=CDS]',\n",
       " 'lcl|KU878240.1_prot_AOG30673.1_1 [gene=G] [protein=glycoprotein] [protein_id=AOG30673.1] [location=1..1524] [gbkey=CDS]',\n",
       " 'lcl|KU878239.1_prot_AOG30672.1_1 [gene=G] [protein=glycoprotein] [protein_id=AOG30672.1] [location=1..1524] [gbkey=CDS]',\n",
       " 'lcl|KU878238.1_prot_AOG30671.1_1 [gene=G] [protein=glycoprotein] [protein_id=AOG30671.1] [location=1..1524] [gbkey=CDS]',\n",
       " 'lcl|KU878237.1_prot_AOG30670.1_1 [gene=G] [protein=glycoprotein] [protein_id=AOG30670.1] [location=1..1524] [gbkey=CDS]',\n",
       " 'lcl|KU878236.1_prot_AOG30669.1_1 [gene=G] [protein=glycoprotein] [protein_id=AOG30669.1] [location=1..1524] [gbkey=CDS]',\n",
       " 'lcl|KU878235.1_prot_AOG30668.1_1 [gene=G] [protein=glycoprotein] [protein_id=AOG30668.1] [location=1..1524] [gbkey=CDS]',\n",
       " 'lcl|KU878234.1_prot_AOG30667.1_1 [gene=G] [protein=glycoprotein] [protein_id=AOG30667.1] [location=1..1524] [gbkey=CDS]',\n",
       " 'lcl|KU878233.1_prot_AOG30666.1_1 [gene=G] [protein=glycoprotein] [protein_id=AOG30666.1] [location=1..1524] [gbkey=CDS]',\n",
       " 'lcl|KU878232.1_prot_AOG30665.1_1 [gene=G] [protein=glycoprotein] [protein_id=AOG30665.1] [location=1..1524] [gbkey=CDS]',\n",
       " 'lcl|KU878231.1_prot_AOG30664.1_1 [gene=G] [protein=glycoprotein] [protein_id=AOG30664.1] [location=1..1524] [gbkey=CDS]',\n",
       " 'lcl|KU878230.1_prot_AOG30663.1_1 [gene=G] [protein=glycoprotein] [protein_id=AOG30663.1] [location=1..1524] [gbkey=CDS]',\n",
       " 'lcl|KU878229.1_prot_AOG30662.1_1 [gene=G] [protein=glycoprotein] [protein_id=AOG30662.1] [location=1..1524] [gbkey=CDS]',\n",
       " 'lcl|KU878228.1_prot_AOG30661.1_1 [gene=G] [protein=glycoprotein] [protein_id=AOG30661.1] [location=1..1524] [gbkey=CDS]',\n",
       " 'lcl|KU878227.1_prot_AOG30660.1_1 [gene=G] [protein=glycoprotein] [protein_id=AOG30660.1] [location=1..1524] [gbkey=CDS]',\n",
       " 'lcl|KU878226.1_prot_AOG30659.1_1 [gene=G] [protein=glycoprotein] [protein_id=AOG30659.1] [location=1..1524] [gbkey=CDS]',\n",
       " 'lcl|KU878225.1_prot_AOG30658.1_1 [gene=G] [protein=glycoprotein] [protein_id=AOG30658.1] [location=1..1524] [gbkey=CDS]',\n",
       " 'lcl|KU878224.1_prot_AOG30657.1_1 [gene=G] [protein=glycoprotein] [protein_id=AOG30657.1] [location=1..1524] [gbkey=CDS]',\n",
       " 'lcl|KU878223.1_prot_AOG30656.1_1 [gene=G] [protein=glycoprotein] [protein_id=AOG30656.1] [location=1..1524] [gbkey=CDS]',\n",
       " 'lcl|KU878222.1_prot_AOG30655.1_1 [gene=G] [protein=glycoprotein] [protein_id=AOG30655.1] [location=1..1524] [gbkey=CDS]',\n",
       " 'lcl|KU878221.1_prot_AOG30654.1_1 [gene=G] [protein=glycoprotein] [protein_id=AOG30654.1] [location=1..1524] [gbkey=CDS]',\n",
       " 'lcl|KU878220.1_prot_AOG30653.1_1 [gene=G] [protein=glycoprotein] [protein_id=AOG30653.1] [location=1..1524] [gbkey=CDS]',\n",
       " 'lcl|KU878219.1_prot_AOG30652.1_1 [gene=G] [protein=glycoprotein] [protein_id=AOG30652.1] [location=1..1524] [gbkey=CDS]',\n",
       " 'lcl|KU878218.1_prot_AOG30651.1_1 [gene=G] [protein=glycoprotein] [protein_id=AOG30651.1] [location=1..1524] [gbkey=CDS]',\n",
       " 'lcl|KU878217.1_prot_AOG30650.1_1 [gene=G] [protein=glycoprotein] [protein_id=AOG30650.1] [location=1..1524] [gbkey=CDS]',\n",
       " 'lcl|KU878216.1_prot_AOG30649.1_1 [gene=G] [protein=glycoprotein] [protein_id=AOG30649.1] [location=1..1524] [gbkey=CDS]',\n",
       " 'lcl|KU878215.1_prot_AOG30648.1_1 [gene=G] [protein=glycoprotein] [protein_id=AOG30648.1] [location=1..1524] [gbkey=CDS]',\n",
       " 'lcl|KU878214.1_prot_AOG30647.1_1 [gene=G] [protein=glycoprotein] [protein_id=AOG30647.1] [location=1..1524] [gbkey=CDS]',\n",
       " 'lcl|KU878213.1_prot_AOG30646.1_1 [gene=G] [protein=glycoprotein] [protein_id=AOG30646.1] [location=1..1524] [gbkey=CDS]',\n",
       " 'lcl|KU878212.1_prot_AOG30645.1_1 [gene=G] [protein=glycoprotein] [protein_id=AOG30645.1] [location=1..1524] [gbkey=CDS]',\n",
       " 'lcl|KU878211.1_prot_AOG30644.1_1 [gene=G] [protein=glycoprotein] [protein_id=AOG30644.1] [location=1..1524] [gbkey=CDS]',\n",
       " 'lcl|KU878210.1_prot_AOG30643.1_1 [gene=G] [protein=glycoprotein] [protein_id=AOG30643.1] [location=1..1524] [gbkey=CDS]',\n",
       " 'lcl|KU878209.1_prot_AOG30642.1_1 [gene=G] [protein=glycoprotein] [protein_id=AOG30642.1] [location=1..1524] [gbkey=CDS]',\n",
       " 'lcl|KU878208.1_prot_AOG30641.1_1 [gene=G] [protein=glycoprotein] [protein_id=AOG30641.1] [location=1..1524] [gbkey=CDS]',\n",
       " 'lcl|KU878207.1_prot_AOG30640.1_1 [gene=G] [protein=glycoprotein] [protein_id=AOG30640.1] [location=1..1524] [gbkey=CDS]',\n",
       " 'lcl|KU878206.1_prot_AOG30639.1_1 [gene=G] [protein=glycoprotein] [protein_id=AOG30639.1] [location=1..1524] [gbkey=CDS]',\n",
       " 'lcl|KU878205.1_prot_AOG30638.1_1 [gene=G] [protein=glycoprotein] [protein_id=AOG30638.1] [location=1..1524] [gbkey=CDS]',\n",
       " 'lcl|KU878204.1_prot_AOG30637.1_1 [gene=G] [protein=glycoprotein] [protein_id=AOG30637.1] [location=1..1524] [gbkey=CDS]',\n",
       " 'lcl|KU878203.1_prot_AOG30636.1_1 [gene=G] [protein=glycoprotein] [protein_id=AOG30636.1] [location=1..1524] [gbkey=CDS]',\n",
       " 'lcl|KU878202.1_prot_AOG30635.1_1 [gene=G] [protein=glycoprotein] [protein_id=AOG30635.1] [location=1..1524] [gbkey=CDS]',\n",
       " 'lcl|KU878201.1_prot_AOG30634.1_1 [gene=G] [protein=glycoprotein] [protein_id=AOG30634.1] [location=1..1524] [gbkey=CDS]',\n",
       " 'lcl|KU878200.1_prot_AOG30633.1_1 [gene=G] [protein=glycoprotein] [protein_id=AOG30633.1] [location=1..1524] [gbkey=CDS]',\n",
       " 'lcl|KU878199.1_prot_AOG30632.1_1 [gene=G] [protein=glycoprotein] [protein_id=AOG30632.1] [location=1..1524] [gbkey=CDS]',\n",
       " 'lcl|KU878198.1_prot_AOG30631.1_1 [gene=G] [protein=glycoprotein] [protein_id=AOG30631.1] [location=1..1524] [gbkey=CDS]',\n",
       " 'lcl|KU878197.1_prot_AOG30630.1_1 [gene=G] [protein=glycoprotein] [protein_id=AOG30630.1] [location=1..1524] [gbkey=CDS]',\n",
       " 'lcl|KU878196.1_prot_AOG30629.1_1 [gene=G] [protein=glycoprotein] [protein_id=AOG30629.1] [location=1..1524] [gbkey=CDS]',\n",
       " 'lcl|KU878195.1_prot_AOG30628.1_1 [gene=G] [protein=glycoprotein] [protein_id=AOG30628.1] [location=1..1524] [gbkey=CDS]',\n",
       " 'lcl|KU878194.1_prot_AOG30627.1_1 [gene=G] [protein=glycoprotein] [protein_id=AOG30627.1] [location=1..1524] [gbkey=CDS]',\n",
       " 'lcl|KU878193.1_prot_AOG30626.1_1 [gene=G] [protein=glycoprotein] [protein_id=AOG30626.1] [location=1..1524] [gbkey=CDS]',\n",
       " 'lcl|KU878192.1_prot_AOG30625.1_1 [gene=G] [protein=glycoprotein] [protein_id=AOG30625.1] [location=1..1524] [gbkey=CDS]',\n",
       " 'lcl|KU878191.1_prot_AOG30624.1_1 [gene=G] [protein=glycoprotein] [protein_id=AOG30624.1] [location=1..1524] [gbkey=CDS]',\n",
       " 'lcl|KU878190.1_prot_AOG30623.1_1 [gene=G] [protein=glycoprotein] [protein_id=AOG30623.1] [location=1..1524] [gbkey=CDS]',\n",
       " 'lcl|KU878189.1_prot_AOG30622.1_1 [gene=G] [protein=glycoprotein] [protein_id=AOG30622.1] [location=1..1524] [gbkey=CDS]',\n",
       " 'lcl|KU878188.1_prot_AOG30621.1_1 [gene=G] [protein=glycoprotein] [protein_id=AOG30621.1] [location=1..1524] [gbkey=CDS]',\n",
       " 'lcl|KU878187.1_prot_AOG30620.1_1 [gene=G] [protein=glycoprotein] [protein_id=AOG30620.1] [location=1..1524] [gbkey=CDS]',\n",
       " 'lcl|KU878186.1_prot_AOG30619.1_1 [gene=G] [protein=glycoprotein] [protein_id=AOG30619.1] [location=1..1524] [gbkey=CDS]',\n",
       " 'lcl|KU878185.1_prot_AOG30618.1_1 [gene=G] [protein=glycoprotein] [protein_id=AOG30618.1] [location=1..1524] [gbkey=CDS]',\n",
       " 'lcl|KU878184.1_prot_AOG30617.1_1 [gene=G] [protein=glycoprotein] [protein_id=AOG30617.1] [location=1..1524] [gbkey=CDS]',\n",
       " 'lcl|KU878183.1_prot_AOG30616.1_1 [gene=G] [protein=glycoprotein] [protein_id=AOG30616.1] [location=1..1524] [gbkey=CDS]',\n",
       " 'lcl|KU878182.1_prot_AOG30615.1_1 [gene=G] [protein=glycoprotein] [protein_id=AOG30615.1] [location=1..1524] [gbkey=CDS]',\n",
       " 'lcl|KU878181.1_prot_AOG30614.1_1 [gene=G] [protein=glycoprotein] [protein_id=AOG30614.1] [location=1..1524] [gbkey=CDS]',\n",
       " 'lcl|KU878180.1_prot_AOG30613.1_1 [gene=G] [protein=glycoprotein] [protein_id=AOG30613.1] [location=1..1524] [gbkey=CDS]',\n",
       " 'lcl|KU878179.1_prot_AOG30612.1_1 [gene=G] [protein=glycoprotein] [protein_id=AOG30612.1] [location=1..1524] [gbkey=CDS]',\n",
       " 'lcl|KU878178.1_prot_AOG30611.1_1 [gene=G] [protein=glycoprotein] [protein_id=AOG30611.1] [location=1..1524] [gbkey=CDS]',\n",
       " 'lcl|KU878177.1_prot_AOG30610.1_1 [gene=G] [protein=glycoprotein] [protein_id=AOG30610.1] [location=1..1524] [gbkey=CDS]',\n",
       " 'lcl|KU878176.1_prot_AOG30609.1_1 [gene=G] [protein=glycoprotein] [protein_id=AOG30609.1] [location=1..1524] [gbkey=CDS]',\n",
       " 'lcl|KU878175.1_prot_AOG30608.1_1 [gene=G] [protein=glycoprotein] [protein_id=AOG30608.1] [location=1..1524] [gbkey=CDS]',\n",
       " 'lcl|KU878174.1_prot_AOG30607.1_1 [gene=G] [protein=glycoprotein] [protein_id=AOG30607.1] [location=1..1524] [gbkey=CDS]',\n",
       " 'lcl|KU878173.1_prot_AOG30606.1_1 [gene=G] [protein=glycoprotein] [protein_id=AOG30606.1] [location=1..1524] [gbkey=CDS]',\n",
       " 'lcl|KU878172.1_prot_AOG30605.1_1 [gene=G] [protein=glycoprotein] [protein_id=AOG30605.1] [location=1..1524] [gbkey=CDS]',\n",
       " 'lcl|KU878171.1_prot_AOG30604.1_1 [gene=G] [protein=glycoprotein] [protein_id=AOG30604.1] [location=1..1524] [gbkey=CDS]',\n",
       " 'lcl|KU878170.1_prot_AOG30603.1_1 [gene=G] [protein=glycoprotein] [protein_id=AOG30603.1] [location=1..1524] [gbkey=CDS]',\n",
       " 'lcl|KU878169.1_prot_AOG30602.1_1 [gene=G] [protein=glycoprotein] [protein_id=AOG30602.1] [location=1..1524] [gbkey=CDS]',\n",
       " 'lcl|KU878168.1_prot_AOG30601.1_1 [gene=G] [protein=glycoprotein] [protein_id=AOG30601.1] [location=1..1524] [gbkey=CDS]',\n",
       " 'lcl|KU878167.1_prot_AOG30600.1_1 [gene=G] [protein=glycoprotein] [protein_id=AOG30600.1] [location=1..1524] [gbkey=CDS]',\n",
       " 'lcl|KU878166.1_prot_AOG30599.1_1 [gene=G] [protein=glycoprotein] [protein_id=AOG30599.1] [location=1..1524] [gbkey=CDS]',\n",
       " 'lcl|KU878165.1_prot_AOG30598.1_1 [gene=G] [protein=glycoprotein] [protein_id=AOG30598.1] [location=1..1524] [gbkey=CDS]',\n",
       " 'lcl|FJ362515.1_prot_ACQ44591.1_4 [gene=G] [protein=glycoprotein] [protein_id=ACQ44591.1] [location=2689..4212] [gbkey=CDS]',\n",
       " 'lcl|FJ362514.1_prot_ACQ44587.1_4 [gene=G] [protein=glycoprotein] [protein_id=ACQ44587.1] [location=2912..>3587] [gbkey=CDS]',\n",
       " 'lcl|FJ362513.1_prot_ACQ44582.1_1 [gene=G] [protein=glycoprotein] [frame=3] [protein_id=ACQ44582.1] [location=<1..1502] [gbkey=CDS]',\n",
       " 'lcl|FJ362512.1_prot_ACQ44580.1_1 [gene=G] [protein=glycoprotein] [frame=3] [protein_id=ACQ44580.1] [location=<1..1502] [gbkey=CDS]',\n",
       " 'lcl|KP866928.1_prot_AKV56269.1_1 [gene=G] [protein=glycoprotein] [protein_id=AKV56269.1] [location=1..1524] [gbkey=CDS]',\n",
       " 'lcl|KP866927.1_prot_AKV56268.1_1 [gene=G] [protein=glycoprotein] [protein_id=AKV56268.1] [location=1..1524] [gbkey=CDS]',\n",
       " 'lcl|KP866926.1_prot_AKV56267.1_1 [gene=G] [protein=glycoprotein] [protein_id=AKV56267.1] [location=1..1524] [gbkey=CDS]',\n",
       " 'lcl|KP861241.1_prot_AKV56247.1_1 [gene=G] [protein=glycoprotein] [protein_id=AKV56247.1] [location=1..1524] [gbkey=CDS]',\n",
       " 'lcl|KM244768.1_prot_AKC42402.1_4 [gene=G] [protein=glycoprotein] [protein_id=AKC42402.1] [location=2911..4434] [gbkey=CDS]',\n",
       " 'lcl|KM244767.1_prot_AKC42398.1_4 [gene=G] [protein=glycoprotein] [protein_id=AKC42398.1] [location=2915..4438] [gbkey=CDS]',\n",
       " 'lcl|KM972680.1_prot_AJK26920.1_1 [gene=G] [protein=glycoprotein] [protein_id=AJK26920.1] [location=1..1524] [gbkey=CDS]',\n",
       " 'lcl|KM972679.1_prot_AJK26919.1_1 [gene=G] [protein=glycoprotein] [protein_id=AJK26919.1] [location=1..1524] [gbkey=CDS]',\n",
       " 'lcl|KM972678.1_prot_AJK26918.1_1 [gene=G] [protein=glycoprotein] [protein_id=AJK26918.1] [location=1..1524] [gbkey=CDS]',\n",
       " 'lcl|KJ768664.1_prot_AIG59191.1_1 [gene=G] [protein=glycoprotein] [protein_id=AIG59191.1] [location=146..1669] [gbkey=CDS]',\n",
       " 'lcl|HM632035.1_prot_ADR30472.1_1 [gene=G] [protein=glycoprotein] [protein_id=ADR30472.1] [location=111..1634] [gbkey=CDS]',\n",
       " 'lcl|JQ755265.1_prot_AFK76179.1_1 [gene=G] [protein=glycoprotein] [protein_id=AFK76179.1] [location=162..1685] [gbkey=CDS]',\n",
       " 'lcl|JQ755260.1_prot_AFK76174.1_1 [gene=G] [protein=glycoprotein] [protein_id=AFK76174.1] [location=146..1669] [gbkey=CDS]',\n",
       " 'lcl|JF781267.1_prot_AFC78150.1_1 [gene=G] [protein=glycoprotein] [protein_id=AFC78150.1] [location=1..1524] [gbkey=CDS]',\n",
       " 'lcl|JF781266.1_prot_AFC78149.1_1 [gene=G] [protein=glycoprotein] [protein_id=AFC78149.1] [location=1..1524] [gbkey=CDS]',\n",
       " 'lcl|JF781265.1_prot_AFC78148.1_1 [gene=G] [protein=glycoprotein] [protein_id=AFC78148.1] [location=1..1524] [gbkey=CDS]',\n",
       " 'lcl|JF781264.1_prot_AFC78147.1_1 [gene=G] [protein=glycoprotein] [protein_id=AFC78147.1] [location=1..1524] [gbkey=CDS]',\n",
       " 'lcl|JF781263.1_prot_AFC78146.1_1 [gene=G] [protein=glycoprotein] [protein_id=AFC78146.1] [location=1..1524] [gbkey=CDS]',\n",
       " 'lcl|JF781262.1_prot_AFC78145.1_1 [gene=G] [protein=glycoprotein] [protein_id=AFC78145.1] [location=1..1524] [gbkey=CDS]',\n",
       " 'lcl|JF781261.1_prot_AFC78144.1_1 [gene=G] [protein=glycoprotein] [protein_id=AFC78144.1] [location=1..1524] [gbkey=CDS]',\n",
       " 'lcl|JF781260.1_prot_AFC78143.1_1 [gene=G] [protein=glycoprotein] [protein_id=AFC78143.1] [location=1..1524] [gbkey=CDS]',\n",
       " 'lcl|JF781259.1_prot_AFC78142.1_1 [gene=G] [protein=glycoprotein] [protein_id=AFC78142.1] [location=1..1524] [gbkey=CDS]',\n",
       " 'lcl|JF781258.1_prot_AFC78141.1_1 [gene=G] [protein=glycoprotein] [protein_id=AFC78141.1] [location=1..1524] [gbkey=CDS]',\n",
       " 'lcl|JF781257.1_prot_AFC78140.1_1 [gene=G] [protein=glycoprotein] [protein_id=AFC78140.1] [location=1..1524] [gbkey=CDS]',\n",
       " 'lcl|JF781256.1_prot_AFC78139.1_1 [gene=G] [protein=glycoprotein] [protein_id=AFC78139.1] [location=1..1524] [gbkey=CDS]',\n",
       " 'lcl|JF781255.1_prot_AFC78138.1_1 [gene=G] [protein=glycoprotein] [protein_id=AFC78138.1] [location=1..1524] [gbkey=CDS]',\n",
       " 'lcl|JF781254.1_prot_AFC78137.1_1 [gene=G] [protein=glycoprotein] [protein_id=AFC78137.1] [location=1..1524] [gbkey=CDS]',\n",
       " 'lcl|JF781253.1_prot_AFC78136.1_1 [gene=G] [protein=glycoprotein] [protein_id=AFC78136.1] [location=1..1524] [gbkey=CDS]',\n",
       " 'lcl|JF781252.1_prot_AFC78135.1_1 [gene=G] [protein=glycoprotein] [protein_id=AFC78135.1] [location=1..1524] [gbkey=CDS]',\n",
       " 'lcl|JF781251.1_prot_AFC78134.1_1 [gene=G] [protein=glycoprotein] [protein_id=AFC78134.1] [location=1..1524] [gbkey=CDS]',\n",
       " 'lcl|JF781250.1_prot_AFC78133.1_1 [gene=G] [protein=glycoprotein] [protein_id=AFC78133.1] [location=1..1524] [gbkey=CDS]',\n",
       " 'lcl|JF781249.1_prot_AFC78132.1_1 [gene=G] [protein=glycoprotein] [protein_id=AFC78132.1] [location=1..1524] [gbkey=CDS]',\n",
       " 'lcl|JF781248.1_prot_AFC78131.1_1 [gene=G] [protein=glycoprotein] [protein_id=AFC78131.1] [location=1..1524] [gbkey=CDS]',\n",
       " 'lcl|JF781247.1_prot_AFC78130.1_1 [gene=G] [protein=glycoprotein] [protein_id=AFC78130.1] [location=1..1524] [gbkey=CDS]',\n",
       " 'lcl|JF781246.1_prot_AFC78129.1_1 [gene=G] [protein=glycoprotein] [protein_id=AFC78129.1] [location=1..1524] [gbkey=CDS]',\n",
       " 'lcl|JF781245.1_prot_AFC78128.1_1 [gene=G] [protein=glycoprotein] [protein_id=AFC78128.1] [location=1..1524] [gbkey=CDS]',\n",
       " 'lcl|JF781244.1_prot_AFC78127.1_1 [gene=G] [protein=glycoprotein] [protein_id=AFC78127.1] [location=1..1524] [gbkey=CDS]',\n",
       " 'lcl|JQ651393.1_prot_AFJ44185.1_1 [gene=G] [protein=glycoprotein] [protein_id=AFJ44185.1] [location=37..1560] [gbkey=CDS]',\n",
       " 'lcl|JQ651388.1_prot_AFJ44180.1_1 [gene=G] [protein=glycoprotein] [protein_id=AFJ44180.1] [location=37..1560] [gbkey=CDS]',\n",
       " 'lcl|JF681360.1_prot_AFC78124.1_1 [gene=G] [protein=glycoprotein] [protein_id=AFC78124.1] [location=1..1524] [gbkey=CDS]',\n",
       " 'lcl|JF681359.1_prot_AFC78123.1_1 [gene=G] [protein=glycoprotein] [protein_id=AFC78123.1] [location=1..1524] [gbkey=CDS]',\n",
       " 'lcl|JF681358.1_prot_AFC78122.1_1 [gene=G] [protein=glycoprotein] [protein_id=AFC78122.1] [location=1..1524] [gbkey=CDS]',\n",
       " 'lcl|JF681357.1_prot_AFC78121.1_1 [gene=G] [protein=glycoprotein] [protein_id=AFC78121.1] [location=1..1524] [gbkey=CDS]',\n",
       " 'lcl|JF681356.1_prot_AFC78120.1_1 [gene=G] [protein=glycoprotein] [protein_id=AFC78120.1] [location=1..1524] [gbkey=CDS]',\n",
       " 'lcl|JF681355.1_prot_AFC78119.1_1 [gene=G] [protein=glycoprotein] [protein_id=AFC78119.1] [location=1..1524] [gbkey=CDS]',\n",
       " 'lcl|JF681354.1_prot_AFC78118.1_1 [gene=G] [protein=glycoprotein] [protein_id=AFC78118.1] [location=1..1524] [gbkey=CDS]',\n",
       " 'lcl|JF681353.1_prot_AFC78117.1_1 [gene=G] [protein=glycoprotein] [protein_id=AFC78117.1] [location=1..1524] [gbkey=CDS]',\n",
       " 'lcl|JF681352.1_prot_AFC78116.1_1 [gene=G] [protein=glycoprotein] [protein_id=AFC78116.1] [location=1..1524] [gbkey=CDS]',\n",
       " 'lcl|JF681351.1_prot_AFC78115.1_1 [gene=G] [protein=glycoprotein] [protein_id=AFC78115.1] [location=1..1524] [gbkey=CDS]',\n",
       " 'lcl|JF681350.1_prot_AFC78114.1_1 [gene=G] [protein=glycoprotein] [protein_id=AFC78114.1] [location=1..1524] [gbkey=CDS]',\n",
       " 'lcl|JF681349.1_prot_AFC78113.1_1 [gene=G] [protein=glycoprotein] [protein_id=AFC78113.1] [location=1..1524] [gbkey=CDS]',\n",
       " 'lcl|JF681348.1_prot_AFC78112.1_1 [gene=G] [protein=glycoprotein] [protein_id=AFC78112.1] [location=1..1524] [gbkey=CDS]',\n",
       " 'lcl|JF681347.1_prot_AFC78111.1_1 [gene=G] [protein=glycoprotein] [protein_id=AFC78111.1] [location=1..1524] [gbkey=CDS]',\n",
       " 'lcl|JF681346.1_prot_AFC78110.1_1 [gene=G] [protein=glycoprotein] [protein_id=AFC78110.1] [location=1..1524] [gbkey=CDS]',\n",
       " 'lcl|JF681345.1_prot_AFC78109.1_1 [gene=G] [protein=glycoprotein] [protein_id=AFC78109.1] [location=1..1524] [gbkey=CDS]',\n",
       " 'lcl|JF681344.1_prot_AFC78108.1_1 [gene=G] [protein=glycoprotein] [protein_id=AFC78108.1] [location=1..1524] [gbkey=CDS]',\n",
       " 'lcl|JF681343.1_prot_AFC78107.1_1 [gene=G] [protein=glycoprotein] [protein_id=AFC78107.1] [location=1..1524] [gbkey=CDS]',\n",
       " 'lcl|JF681342.1_prot_AFC78106.1_1 [gene=G] [protein=glycoprotein] [protein_id=AFC78106.1] [location=1..1524] [gbkey=CDS]',\n",
       " 'lcl|JF681341.1_prot_AFC78105.1_1 [gene=G] [protein=glycoprotein] [protein_id=AFC78105.1] [location=1..1524] [gbkey=CDS]',\n",
       " 'lcl|JF681340.1_prot_AFC78104.1_1 [gene=G] [protein=glycoprotein] [protein_id=AFC78104.1] [location=1..1524] [gbkey=CDS]',\n",
       " 'lcl|JF681339.1_prot_AFC78103.1_1 [gene=G] [protein=glycoprotein] [protein_id=AFC78103.1] [location=1..1524] [gbkey=CDS]',\n",
       " 'lcl|JF681338.1_prot_AFC78102.1_1 [gene=G] [protein=glycoprotein] [protein_id=AFC78102.1] [location=1..1524] [gbkey=CDS]',\n",
       " 'lcl|JF681337.1_prot_AFC78101.1_1 [gene=G] [protein=glycoprotein] [protein_id=AFC78101.1] [location=1..1524] [gbkey=CDS]',\n",
       " 'lcl|JF681336.1_prot_AFC78100.1_1 [gene=G] [protein=glycoprotein] [protein_id=AFC78100.1] [location=1..1524] [gbkey=CDS]',\n",
       " 'lcl|JF681335.1_prot_AFC78099.1_1 [gene=G] [protein=glycoprotein] [protein_id=AFC78099.1] [location=1..1524] [gbkey=CDS]',\n",
       " 'lcl|JF681334.1_prot_AFC78098.1_1 [gene=G] [protein=glycoprotein] [protein_id=AFC78098.1] [location=1..1524] [gbkey=CDS]',\n",
       " 'lcl|JF681333.1_prot_AFC78097.1_1 [gene=G] [protein=glycoprotein] [protein_id=AFC78097.1] [location=1..1524] [gbkey=CDS]',\n",
       " 'lcl|JF681332.1_prot_AFC78096.1_1 [gene=G] [protein=glycoprotein] [protein_id=AFC78096.1] [location=1..1524] [gbkey=CDS]',\n",
       " 'lcl|JF681331.1_prot_AFC78095.1_1 [gene=G] [protein=glycoprotein] [protein_id=AFC78095.1] [location=1..1524] [gbkey=CDS]',\n",
       " 'lcl|JF681330.1_prot_AFC78094.1_1 [gene=G] [protein=glycoprotein] [protein_id=AFC78094.1] [location=1..1524] [gbkey=CDS]',\n",
       " 'lcl|JF681329.1_prot_AFC78093.1_1 [gene=G] [protein=glycoprotein] [protein_id=AFC78093.1] [location=1..1524] [gbkey=CDS]',\n",
       " 'lcl|JF681328.1_prot_AFC78092.1_1 [gene=G] [protein=glycoprotein] [protein_id=AFC78092.1] [location=1..1524] [gbkey=CDS]',\n",
       " 'lcl|JF681327.1_prot_AFC78091.1_1 [gene=G] [protein=glycoprotein] [protein_id=AFC78091.1] [location=1..1524] [gbkey=CDS]',\n",
       " 'lcl|JF681326.1_prot_AFC78090.1_1 [gene=G] [protein=glycoprotein] [protein_id=AFC78090.1] [location=1..1524] [gbkey=CDS]',\n",
       " 'lcl|JF681325.1_prot_AFC78089.1_1 [gene=G] [protein=glycoprotein] [protein_id=AFC78089.1] [location=1..1524] [gbkey=CDS]',\n",
       " 'lcl|JF681324.1_prot_AFC78088.1_1 [gene=G] [protein=glycoprotein] [protein_id=AFC78088.1] [location=1..1524] [gbkey=CDS]',\n",
       " 'lcl|JF681323.1_prot_AFC78087.1_1 [gene=G] [protein=glycoprotein] [protein_id=AFC78087.1] [location=1..1524] [gbkey=CDS]',\n",
       " 'lcl|JF681322.1_prot_AFC78086.1_1 [gene=G] [protein=glycoprotein] [protein_id=AFC78086.1] [location=1..1524] [gbkey=CDS]',\n",
       " 'lcl|JF681321.1_prot_AFC78085.1_1 [gene=G] [protein=glycoprotein] [protein_id=AFC78085.1] [location=1..1524] [gbkey=CDS]',\n",
       " 'lcl|JF681320.1_prot_AFC78084.1_1 [gene=G] [protein=glycoprotein] [protein_id=AFC78084.1] [location=1..1524] [gbkey=CDS]',\n",
       " 'lcl|JF681319.1_prot_AFC78083.1_1 [gene=G] [protein=glycoprotein] [protein_id=AFC78083.1] [location=1..1524] [gbkey=CDS]',\n",
       " 'lcl|JF681318.1_prot_AFC78082.1_1 [gene=G] [protein=glycoprotein] [protein_id=AFC78082.1] [location=1..1524] [gbkey=CDS]',\n",
       " 'lcl|JF681317.1_prot_AFC78081.1_1 [gene=G] [protein=glycoprotein] [protein_id=AFC78081.1] [location=1..1524] [gbkey=CDS]',\n",
       " 'lcl|JF681316.1_prot_AFC78080.1_1 [gene=G] [protein=glycoprotein] [protein_id=AFC78080.1] [location=1..1524] [gbkey=CDS]',\n",
       " 'lcl|JF681315.1_prot_AFC78079.1_1 [gene=G] [protein=glycoprotein] [protein_id=AFC78079.1] [location=1..1524] [gbkey=CDS]',\n",
       " 'lcl|JF681314.1_prot_AFC78078.1_1 [gene=G] [protein=glycoprotein] [protein_id=AFC78078.1] [location=1..1524] [gbkey=CDS]',\n",
       " 'lcl|JF681313.1_prot_AFC78077.1_1 [gene=G] [protein=glycoprotein] [protein_id=AFC78077.1] [location=1..1524] [gbkey=CDS]',\n",
       " 'lcl|JF681312.1_prot_AFC78076.1_1 [gene=G] [protein=glycoprotein] [protein_id=AFC78076.1] [location=1..1524] [gbkey=CDS]',\n",
       " 'lcl|JF681311.1_prot_AFC78075.1_1 [gene=G] [protein=glycoprotein] [protein_id=AFC78075.1] [location=1..1524] [gbkey=CDS]',\n",
       " 'lcl|JF681310.1_prot_AFC78074.1_1 [gene=G] [protein=glycoprotein] [protein_id=AFC78074.1] [location=1..1524] [gbkey=CDS]',\n",
       " 'lcl|JF681309.1_prot_AFC78073.1_1 [gene=G] [protein=glycoprotein] [protein_id=AFC78073.1] [location=1..1524] [gbkey=CDS]',\n",
       " 'lcl|JF681308.1_prot_AFC78072.1_1 [gene=G] [protein=glycoprotein] [protein_id=AFC78072.1] [location=1..1524] [gbkey=CDS]',\n",
       " 'lcl|JF681307.1_prot_AFC78071.1_1 [gene=G] [protein=glycoprotein] [protein_id=AFC78071.1] [location=1..1524] [gbkey=CDS]',\n",
       " 'lcl|JF681306.1_prot_AFC78070.1_1 [gene=G] [protein=glycoprotein] [protein_id=AFC78070.1] [location=1..1524] [gbkey=CDS]',\n",
       " 'lcl|JF681305.1_prot_AFC78069.1_1 [gene=G] [protein=glycoprotein] [protein_id=AFC78069.1] [location=1..1524] [gbkey=CDS]',\n",
       " 'lcl|JF681304.1_prot_AFC78068.1_1 [gene=G] [protein=glycoprotein] [protein_id=AFC78068.1] [location=1..1524] [gbkey=CDS]',\n",
       " 'lcl|JF681303.1_prot_AFC78067.1_1 [gene=G] [protein=glycoprotein] [protein_id=AFC78067.1] [location=1..1524] [gbkey=CDS]',\n",
       " 'lcl|JF681302.1_prot_AFC78066.1_1 [gene=G] [protein=glycoprotein] [protein_id=AFC78066.1] [location=1..1524] [gbkey=CDS]',\n",
       " 'lcl|HQ112248.1_prot_AEL00513.1_1 [gene=G] [protein=glycoprotein] [protein_id=AEL00513.1] [location=1..1524] [gbkey=CDS]',\n",
       " 'lcl|HQ112247.1_prot_AEL00512.1_1 [gene=G] [protein=glycoprotein] [protein_id=AEL00512.1] [location=1..1524] [gbkey=CDS]',\n",
       " 'lcl|HQ112246.1_prot_AEL00511.1_1 [gene=G] [protein=glycoprotein] [protein_id=AEL00511.1] [location=1..1524] [gbkey=CDS]',\n",
       " 'lcl|HQ112245.1_prot_AEL00510.1_1 [gene=G] [protein=glycoprotein] [protein_id=AEL00510.1] [location=1..1524] [gbkey=CDS]',\n",
       " 'lcl|HQ112244.1_prot_AEL00509.1_1 [gene=G] [protein=glycoprotein] [protein_id=AEL00509.1] [location=1..1524] [gbkey=CDS]',\n",
       " 'lcl|HQ112243.1_prot_AEL00508.1_1 [gene=G] [protein=glycoprotein] [protein_id=AEL00508.1] [location=1..1524] [gbkey=CDS]',\n",
       " 'lcl|HQ112242.1_prot_AEL00507.1_1 [gene=G] [protein=glycoprotein] [protein_id=AEL00507.1] [location=1..1524] [gbkey=CDS]',\n",
       " 'lcl|HQ112241.1_prot_AEL00506.1_1 [gene=G] [protein=glycoprotein] [protein_id=AEL00506.1] [location=1..1524] [gbkey=CDS]',\n",
       " 'lcl|HQ112240.1_prot_AEL00505.1_1 [gene=G] [protein=glycoprotein] [protein_id=AEL00505.1] [location=1..1524] [gbkey=CDS]',\n",
       " 'lcl|HQ112239.1_prot_AEL00504.1_1 [gene=G] [protein=glycoprotein] [protein_id=AEL00504.1] [location=1..1524] [gbkey=CDS]',\n",
       " 'lcl|HQ112238.1_prot_AEL00503.1_1 [gene=G] [protein=glycoprotein] [protein_id=AEL00503.1] [location=1..1524] [gbkey=CDS]',\n",
       " 'lcl|HQ112237.1_prot_AEL00502.1_1 [gene=G] [protein=glycoprotein] [protein_id=AEL00502.1] [location=1..1524] [gbkey=CDS]',\n",
       " 'lcl|HQ112236.1_prot_AEL00501.1_1 [gene=G] [protein=glycoprotein] [protein_id=AEL00501.1] [location=1..1524] [gbkey=CDS]',\n",
       " 'lcl|HQ112235.1_prot_AEL00500.1_1 [gene=G] [protein=glycoprotein] [protein_id=AEL00500.1] [location=1..1524] [gbkey=CDS]',\n",
       " 'lcl|HQ112234.1_prot_AEL00499.1_1 [gene=G] [protein=glycoprotein] [protein_id=AEL00499.1] [location=1..1524] [gbkey=CDS]',\n",
       " 'lcl|HQ112233.1_prot_AEL00498.1_1 [gene=G] [protein=glycoprotein] [protein_id=AEL00498.1] [location=1..1524] [gbkey=CDS]',\n",
       " 'lcl|GQ504014.1_prot_ADI58773.1_1 [gene=G] [protein=glycoprotein] [protein_id=ADI58773.1] [location=1..1524] [gbkey=CDS]',\n",
       " 'lcl|GQ504013.1_prot_ADI58772.1_1 [gene=G] [protein=glycoprotein] [protein_id=ADI58772.1] [location=1..1524] [gbkey=CDS]',\n",
       " 'lcl|AY546632.1_prot_AAT01207.1_1 [gene=G] [protein=glycoprotein] [protein_id=AAT01207.1] [location=1..1524] [gbkey=CDS]',\n",
       " 'lcl|AY546631.1_prot_AAT01206.1_1 [gene=G] [protein=glycoprotein] [protein_id=AAT01206.1] [location=1..1524] [gbkey=CDS]',\n",
       " 'lcl|AY546630.1_prot_AAT01205.1_1 [gene=G] [protein=glycoprotein] [protein_id=AAT01205.1] [location=1..1524] [gbkey=CDS]',\n",
       " 'lcl|AY546629.1_prot_AAT01204.1_1 [gene=G] [protein=glycoprotein] [protein_id=AAT01204.1] [location=1..1524] [gbkey=CDS]',\n",
       " 'lcl|AY546628.1_prot_AAT01203.1_1 [gene=G] [protein=glycoprotein] [protein_id=AAT01203.1] [location=1..1524] [gbkey=CDS]',\n",
       " 'lcl|AY546627.1_prot_AAT01202.1_1 [gene=G] [protein=glycoprotein] [protein_id=AAT01202.1] [location=1..1524] [gbkey=CDS]',\n",
       " 'lcl|AY546626.1_prot_AAT01201.1_1 [gene=G] [protein=glycoprotein] [protein_id=AAT01201.1] [location=1..1524] [gbkey=CDS]',\n",
       " 'lcl|AY546625.1_prot_AAT01200.1_1 [gene=G] [protein=glycoprotein] [protein_id=AAT01200.1] [location=1..1524] [gbkey=CDS]',\n",
       " 'lcl|AY546624.1_prot_AAT01199.1_1 [gene=G] [protein=glycoprotein] [protein_id=AAT01199.1] [location=1..1524] [gbkey=CDS]',\n",
       " 'lcl|AY546623.1_prot_AAT01198.1_1 [gene=G] [protein=glycoprotein] [protein_id=AAT01198.1] [location=1..1524] [gbkey=CDS]',\n",
       " 'lcl|AY546622.1_prot_AAT01197.1_1 [gene=G] [protein=glycoprotein] [protein_id=AAT01197.1] [location=1..1524] [gbkey=CDS]',\n",
       " 'lcl|AY546621.1_prot_AAT01196.1_1 [gene=G] [protein=glycoprotein] [protein_id=AAT01196.1] [location=1..1524] [gbkey=CDS]',\n",
       " 'lcl|AY546620.1_prot_AAT01195.1_1 [gene=G] [protein=glycoprotein] [protein_id=AAT01195.1] [location=1..1524] [gbkey=CDS]',\n",
       " 'lcl|AY546619.1_prot_AAT01194.1_1 [gene=G] [protein=glycoprotein] [protein_id=AAT01194.1] [location=1..1524] [gbkey=CDS]',\n",
       " 'lcl|AY546618.1_prot_AAT01193.1_1 [gene=G] [protein=glycoprotein] [protein_id=AAT01193.1] [location=1..1524] [gbkey=CDS]',\n",
       " 'lcl|AY546617.1_prot_AAT01192.1_1 [gene=G] [protein=glycoprotein] [protein_id=AAT01192.1] [location=1..1524] [gbkey=CDS]',\n",
       " 'lcl|AY546616.1_prot_AAT01191.1_1 [gene=G] [protein=glycoprotein] [protein_id=AAT01191.1] [location=1..1524] [gbkey=CDS]',\n",
       " 'lcl|AY546615.1_prot_AAT01190.1_1 [gene=G] [protein=glycoprotein] [protein_id=AAT01190.1] [location=1..1524] [gbkey=CDS]',\n",
       " 'lcl|AY546614.1_prot_AAT01189.1_1 [gene=G] [protein=glycoprotein] [protein_id=AAT01189.1] [location=1..1524] [gbkey=CDS]',\n",
       " 'lcl|AY546613.1_prot_AAT01188.1_1 [gene=G] [protein=glycoprotein] [protein_id=AAT01188.1] [location=1..1524] [gbkey=CDS]',\n",
       " 'lcl|AY546612.1_prot_AAT01187.1_1 [gene=G] [protein=glycoprotein] [protein_id=AAT01187.1] [location=1..1524] [gbkey=CDS]',\n",
       " 'lcl|AY546611.1_prot_AAT01186.1_1 [gene=G] [protein=glycoprotein] [protein_id=AAT01186.1] [location=1..1524] [gbkey=CDS]',\n",
       " 'lcl|AY546610.1_prot_AAT01185.1_1 [gene=G] [protein=glycoprotein] [protein_id=AAT01185.1] [location=1..1524] [gbkey=CDS]',\n",
       " 'lcl|AY546609.1_prot_AAT01184.1_1 [gene=G] [protein=glycoprotein] [protein_id=AAT01184.1] [location=1..1524] [gbkey=CDS]',\n",
       " 'lcl|AY546608.1_prot_AAT01183.1_1 [gene=G] [protein=glycoprotein] [protein_id=AAT01183.1] [location=1..1524] [gbkey=CDS]',\n",
       " 'lcl|AY546607.1_prot_AAT01182.1_1 [gene=G] [protein=glycoprotein] [protein_id=AAT01182.1] [location=1..1524] [gbkey=CDS]',\n",
       " 'lcl|AY546606.1_prot_AAT01181.1_1 [gene=G] [protein=glycoprotein] [protein_id=AAT01181.1] [location=1..1524] [gbkey=CDS]',\n",
       " 'lcl|AY546605.1_prot_AAT01180.1_1 [gene=G] [protein=glycoprotein] [protein_id=AAT01180.1] [location=1..1524] [gbkey=CDS]',\n",
       " 'lcl|AY546604.1_prot_AAT01179.1_1 [gene=G] [protein=glycoprotein] [protein_id=AAT01179.1] [location=1..1524] [gbkey=CDS]',\n",
       " 'lcl|AY546603.1_prot_AAT01178.1_1 [gene=G] [protein=glycoprotein] [protein_id=AAT01178.1] [location=1..1524] [gbkey=CDS]',\n",
       " 'lcl|AY546602.1_prot_AAT01177.1_1 [gene=G] [protein=glycoprotein] [protein_id=AAT01177.1] [location=1..1524] [gbkey=CDS]',\n",
       " 'lcl|AY546601.1_prot_AAT01176.1_1 [gene=G] [protein=glycoprotein] [protein_id=AAT01176.1] [location=1..1524] [gbkey=CDS]',\n",
       " 'lcl|AY546600.1_prot_AAT01175.1_1 [gene=G] [protein=glycoprotein] [protein_id=AAT01175.1] [location=1..1524] [gbkey=CDS]',\n",
       " 'lcl|AY546599.1_prot_AAT01174.1_1 [gene=G] [protein=glycoprotein] [protein_id=AAT01174.1] [location=1..1524] [gbkey=CDS]',\n",
       " 'lcl|AY546598.1_prot_AAT01173.1_1 [gene=G] [protein=glycoprotein] [protein_id=AAT01173.1] [location=1..1524] [gbkey=CDS]',\n",
       " 'lcl|AY546597.1_prot_AAT01172.1_1 [gene=G] [protein=glycoprotein] [protein_id=AAT01172.1] [location=1..1524] [gbkey=CDS]',\n",
       " 'lcl|AY546596.1_prot_AAT01171.1_1 [gene=G] [protein=glycoprotein] [protein_id=AAT01171.1] [location=1..1524] [gbkey=CDS]',\n",
       " 'lcl|AY546595.1_prot_AAT01170.1_1 [gene=G] [protein=glycoprotein] [protein_id=AAT01170.1] [location=1..1524] [gbkey=CDS]',\n",
       " 'lcl|AY546594.1_prot_AAT01169.1_1 [gene=G] [protein=glycoprotein] [protein_id=AAT01169.1] [location=1..1524] [gbkey=CDS]',\n",
       " 'lcl|AY546593.1_prot_AAT01168.1_1 [gene=G] [protein=glycoprotein] [protein_id=AAT01168.1] [location=1..1524] [gbkey=CDS]',\n",
       " 'lcl|AY546592.1_prot_AAT01167.1_1 [gene=G] [protein=glycoprotein] [protein_id=AAT01167.1] [location=1..1524] [gbkey=CDS]',\n",
       " 'lcl|AY546591.1_prot_AAT01166.1_1 [gene=G] [protein=glycoprotein] [protein_id=AAT01166.1] [location=1..1524] [gbkey=CDS]',\n",
       " 'lcl|AY546590.1_prot_AAT01165.1_1 [gene=G] [protein=glycoprotein] [protein_id=AAT01165.1] [location=1..1524] [gbkey=CDS]',\n",
       " 'lcl|AY546589.1_prot_AAT01164.1_1 [gene=G] [protein=glycoprotein] [protein_id=AAT01164.1] [location=1..1524] [gbkey=CDS]',\n",
       " 'lcl|AY546588.1_prot_AAT01163.1_1 [gene=G] [protein=glycoprotein] [protein_id=AAT01163.1] [location=1..1524] [gbkey=CDS]',\n",
       " 'lcl|AY546587.1_prot_AAT01162.1_1 [gene=G] [protein=glycoprotein] [protein_id=AAT01162.1] [location=1..1524] [gbkey=CDS]',\n",
       " 'lcl|AY546586.1_prot_AAT01161.1_1 [gene=G] [protein=glycoprotein] [protein_id=AAT01161.1] [location=1..1524] [gbkey=CDS]',\n",
       " 'lcl|AY546585.1_prot_AAT01160.1_1 [gene=G] [protein=glycoprotein] [protein_id=AAT01160.1] [location=1..1524] [gbkey=CDS]',\n",
       " 'lcl|AY546584.1_prot_AAT01159.1_1 [gene=G] [protein=glycoprotein] [protein_id=AAT01159.1] [location=1..1524] [gbkey=CDS]',\n",
       " 'lcl|AY546583.1_prot_AAT01158.1_1 [gene=G] [protein=glycoprotein] [protein_id=AAT01158.1] [location=1..1524] [gbkey=CDS]',\n",
       " 'lcl|AY546582.1_prot_AAT01157.1_1 [gene=G] [protein=glycoprotein] [protein_id=AAT01157.1] [location=1..1524] [gbkey=CDS]',\n",
       " 'lcl|AY546581.1_prot_AAT01156.1_1 [gene=G] [protein=glycoprotein] [protein_id=AAT01156.1] [location=1..1524] [gbkey=CDS]',\n",
       " 'lcl|AY546580.1_prot_AAT01155.1_1 [gene=G] [protein=glycoprotein] [protein_id=AAT01155.1] [location=1..1524] [gbkey=CDS]',\n",
       " 'lcl|AY546579.1_prot_AAT01154.1_1 [gene=G] [protein=glycoprotein] [protein_id=AAT01154.1] [location=1..1524] [gbkey=CDS]',\n",
       " 'lcl|AY546578.1_prot_AAT01153.1_1 [gene=G] [protein=glycoprotein] [protein_id=AAT01153.1] [location=1..1524] [gbkey=CDS]',\n",
       " 'lcl|AY546577.1_prot_AAT01152.1_1 [gene=G] [protein=glycoprotein] [protein_id=AAT01152.1] [location=1..1524] [gbkey=CDS]',\n",
       " 'lcl|AY546576.1_prot_AAT01151.1_1 [gene=G] [protein=glycoprotein] [protein_id=AAT01151.1] [location=1..1524] [gbkey=CDS]',\n",
       " 'lcl|AY546575.1_prot_AAT01150.1_1 [gene=G] [protein=glycoprotein] [protein_id=AAT01150.1] [location=1..1524] [gbkey=CDS]',\n",
       " 'lcl|AY546574.1_prot_AAT01149.1_1 [gene=G] [protein=glycoprotein] [protein_id=AAT01149.1] [location=1..1524] [gbkey=CDS]',\n",
       " 'lcl|AY546573.1_prot_AAT01148.1_1 [gene=G] [protein=glycoprotein] [protein_id=AAT01148.1] [location=1..1524] [gbkey=CDS]',\n",
       " 'lcl|AY546572.1_prot_AAT01147.1_1 [gene=G] [protein=glycoprotein] [protein_id=AAT01147.1] [location=1..1524] [gbkey=CDS]',\n",
       " 'lcl|AY546571.1_prot_AAT01146.1_1 [gene=G] [protein=glycoprotein] [protein_id=AAT01146.1] [location=1..1524] [gbkey=CDS]',\n",
       " 'lcl|AY546570.1_prot_AAT01145.1_1 [gene=G] [protein=glycoprotein] [protein_id=AAT01145.1] [location=1..1524] [gbkey=CDS]',\n",
       " 'lcl|GU121101.1_prot_ADE61844.1_1 [gene=G] [protein=glycoprotein] [protein_id=ADE61844.1] [location=1..1524] [gbkey=CDS]',\n",
       " 'lcl|GU121099.1_prot_ADE61842.1_1 [gene=G] [protein=glycoprotein] [protein_id=ADE61842.1] [location=1..1524] [gbkey=CDS]',\n",
       " 'lcl|FJ384761.1_prot_ACP43438.1_1 [gene=G] [protein=glycoprotein] [protein_id=ACP43438.1] [location=1..1524] [gbkey=CDS]',\n",
       " 'lcl|DQ401195.1_prot_ABD64588.1_1 [gene=G] [protein=glycoprotein] [protein_id=ABD64588.1] [location=12..1535] [gbkey=CDS]',\n",
       " 'lcl|DQ401194.1_prot_ABD64587.1_1 [gene=G] [protein=glycoprotein] [protein_id=ABD64587.1] [location=12..1535] [gbkey=CDS]',\n",
       " 'lcl|DQ401193.1_prot_ABD64586.1_1 [gene=G] [protein=glycoprotein] [protein_id=ABD64586.1] [location=35..1558] [gbkey=CDS]',\n",
       " 'lcl|DQ401192.1_prot_ABD64585.1_1 [gene=G] [protein=glycoprotein] [protein_id=ABD64585.1] [location=35..1558] [gbkey=CDS]',\n",
       " 'lcl|DQ401191.1_prot_ABD64584.1_1 [gene=G] [protein=glycoprotein] [protein_id=ABD64584.1] [location=35..1558] [gbkey=CDS]',\n",
       " 'lcl|DQ401190.1_prot_ABD64583.1_1 [gene=G] [protein=glycoprotein] [protein_id=ABD64583.1] [location=35..1558] [gbkey=CDS]',\n",
       " 'lcl|DQ401189.1_prot_ABD64582.1_1 [gene=G] [protein=glycoprotein] [protein_id=ABD64582.1] [location=35..1558] [gbkey=CDS]',\n",
       " 'lcl|DQ401188.1_prot_ABD64581.1_1 [gene=G] [protein=glycoprotein] [protein_id=ABD64581.1] [location=12..1535] [gbkey=CDS]',\n",
       " 'lcl|DQ401187.1_prot_ABD64580.1_1 [gene=G] [protein=glycoprotein] [protein_id=ABD64580.1] [location=12..1535] [gbkey=CDS]',\n",
       " 'lcl|DQ401186.1_prot_ABD64579.1_1 [gene=G] [protein=glycoprotein] [protein_id=ABD64579.1] [location=12..1535] [gbkey=CDS]',\n",
       " 'lcl|GQ292534.1_prot_ACT66003.1_1 [gene=G] [protein=glycoprotein] [protein_id=ACT66003.1] [location=1..1524] [gbkey=CDS]',\n",
       " 'lcl|EU547740.1_prot_ACD74588.1_1 [gene=G] [protein=glycoprotein] [protein_id=ACD74588.1] [location=1..1524] [gbkey=CDS]']"
      ]
     },
     "execution_count": 49,
     "metadata": {},
     "output_type": "execute_result"
    }
   ],
   "source": [
    "print(len(protein_seq))\n",
    "updated_protein_seq = [ ps for i,ps in enumerate(protein_seq) if ps.description.find('gene=G')>0 ]\n",
    "print(len(updated_protein_seq))\n",
    "\n",
    "# verify visually that only G genes are left\n",
    "desc = [ps.description for i,ps in enumerate(updated_protein_seq)]\n",
    "desc"
   ]
  },
  {
   "cell_type": "markdown",
   "metadata": {},
   "source": [
    "<b>→ Maintenant que vous avez les séquences du gène G uniquement, remplacez l'id par le numéro d'accès et le nom du pays source (ceci facilitera les analyses par la suite).</b>"
   ]
  },
  {
   "cell_type": "code",
   "execution_count": 51,
   "metadata": {},
   "outputs": [
    {
     "name": "stdout",
     "output_type": "stream",
     "text": [
      "390\n",
      "0 Iceland\n",
      "1 Iceland\n",
      "2 Finland\n",
      "3 Finland\n",
      "4 Finland\n",
      "5 Finland\n",
      "6 Finland\n",
      "7 Finland\n",
      "8 Denmark\n",
      "9 Denmark\n",
      "10 Denmark\n",
      "11 Denmark\n",
      "12 Denmark\n",
      "13 Denmark\n",
      "14 Denmark\n",
      "15 Denmark\n",
      "16 Denmark\n",
      "17 Denmark\n",
      "18 Denmark\n",
      "19 Denmark\n",
      "20 Denmark\n",
      "21 Denmark\n",
      "22 Denmark\n",
      "23 Denmark\n",
      "24 Denmark\n",
      "25 Denmark\n",
      "26 Denmark\n",
      "27 Denmark\n",
      "28 Denmark\n",
      "29 Denmark\n",
      "30 Denmark\n",
      "31 Denmark\n",
      "32 Denmark\n",
      "33 Denmark\n",
      "34 Denmark\n",
      "35 Denmark\n",
      "36 Denmark\n",
      "37 Denmark\n",
      "38 Denmark\n",
      "39 Denmark\n",
      "40 Denmark\n",
      "41 Denmark\n",
      "42 Denmark\n",
      "43 Denmark\n",
      "44 Denmark\n",
      "45 Denmark\n",
      "46 Denmark\n",
      "47 Denmark\n",
      "48 Denmark\n",
      "49 Denmark\n",
      "50 Denmark\n",
      "51 Denmark\n",
      "52 Denmark\n",
      "53 Denmark\n",
      "54 Denmark\n",
      "55 Denmark\n",
      "56 Denmark\n",
      "57 Denmark\n",
      "58 Denmark\n",
      "59 Denmark\n",
      "60 Denmark\n",
      "61 Denmark\n",
      "62 Denmark\n",
      "63 Denmark\n",
      "64 Denmark\n",
      "65 Denmark\n",
      "66 Denmark\n",
      "67 Denmark\n",
      "68 Denmark\n",
      "69 Denmark\n",
      "70 Denmark\n",
      "71 Denmark\n",
      "72 Denmark\n",
      "73 Denmark\n",
      "74 Denmark\n",
      "75 Denmark\n",
      "76 Denmark\n",
      "77 Denmark\n",
      "78 Denmark\n",
      "79 Denmark\n",
      "80 Denmark\n",
      "81 Denmark\n",
      "82 Denmark\n",
      "83 Denmark\n",
      "84 Italy\n",
      "85 Italy\n",
      "86 Italy\n",
      "87 Italy\n",
      "88 Italy\n",
      "89 Italy\n",
      "90 Italy\n",
      "91 Italy\n",
      "92 Italy\n",
      "93 Italy\n",
      "94 Italy\n",
      "95 Italy\n",
      "96 Italy\n",
      "97 Italy\n",
      "98 Italy\n",
      "99 Italy\n",
      "100 Italy\n",
      "101 Italy\n",
      "102 Italy\n",
      "103 Italy\n",
      "104 Italy\n",
      "105 Italy\n",
      "106 Italy\n",
      "107 Italy\n",
      "108 Italy\n",
      "109 Italy\n",
      "110 Italy\n",
      "111 Italy\n",
      "112 Italy\n",
      "113 Italy\n",
      "114 Italy\n",
      "115 Italy\n",
      "116 Italy\n",
      "117 Italy\n",
      "118 Italy\n",
      "119 Italy\n",
      "120 Italy\n",
      "121 Italy\n",
      "122 Italy\n",
      "123 Italy\n",
      "124 Italy\n",
      "125 Italy\n",
      "126 Italy\n",
      "127 Italy\n",
      "128 Italy\n",
      "129 Italy\n",
      "130 Italy\n",
      "131 Italy\n",
      "132 Italy\n",
      "133 Italy\n",
      "134 Italy\n",
      "135 Italy\n",
      "136 Italy\n",
      "137 Italy\n",
      "138 Italy\n",
      "139 Italy\n",
      "140 Italy\n",
      "141 Italy\n",
      "142 Italy\n",
      "143 Italy\n",
      "144 Italy\n",
      "145 Italy\n",
      "146 Italy\n",
      "147 Italy\n",
      "148 Italy\n",
      "149 Italy\n",
      "150 Italy\n",
      "151 Italy\n",
      "152 Italy\n",
      "153 Italy\n",
      "154 Italy\n",
      "155 Italy\n",
      "156 Italy\n",
      "157 Italy\n",
      "158 Italy\n",
      "159 Italy\n",
      "160 Italy\n",
      "161 Italy\n",
      "162 Italy\n",
      "163 Italy\n",
      "164 Italy\n",
      "165 Italy\n",
      "166 Italy\n",
      "167 Italy\n",
      "168 Italy\n",
      "169 Italy\n",
      "170 Italy\n",
      "171 Italy\n",
      "172 Italy\n",
      "173 Italy\n",
      "174 Italy\n",
      "175 Italy\n",
      "176 Italy\n",
      "177 Italy\n",
      "178 Italy\n",
      "179 Italy\n",
      "180 Italy\n",
      "181 Italy\n",
      "182 Italy\n",
      "183 Italy\n",
      "184 Italy\n",
      "185 Italy\n",
      "186 Italy\n",
      "187 Italy\n",
      "188 Italy\n",
      "189 Italy\n",
      "190 Italy\n",
      "191 Italy\n",
      "192 Norway\n",
      "193 Norway\n",
      "194 Norway\n",
      "195 Norway\n",
      "196 Iran\n",
      "197 Iran\n",
      "198 Iran\n",
      "199 Iran\n",
      "200 Spain\n",
      "201 NA\n",
      "202 Turkey\n",
      "203 Turkey\n",
      "204 Turkey\n",
      "205 Norway\n",
      "206 Norway\n",
      "207 Norway\n",
      "208 Norway\n",
      "209 NA\n",
      "210 NA\n",
      "211 NA\n",
      "212 NA\n",
      "213 NA\n",
      "214 NA\n",
      "215 NA\n",
      "216 NA\n",
      "217 NA\n",
      "218 NA\n",
      "219 NA\n",
      "220 NA\n",
      "221 NA\n",
      "222 NA\n",
      "223 NA\n",
      "224 NA\n",
      "225 NA\n",
      "226 NA\n",
      "227 NA\n",
      "228 NA\n",
      "229 NA\n",
      "230 NA\n",
      "231 NA\n",
      "232 NA\n",
      "233 South Korea\n",
      "234 South Korea\n",
      "235 Denmark\n",
      "236 Denmark\n",
      "237 Denmark\n",
      "238 Denmark\n",
      "239 Denmark\n",
      "240 Denmark\n",
      "241 Denmark\n",
      "242 Denmark\n",
      "243 Denmark\n",
      "244 Denmark\n",
      "245 Denmark\n",
      "246 Denmark\n",
      "247 Denmark\n",
      "248 Denmark\n",
      "249 Denmark\n",
      "250 Denmark\n",
      "251 Denmark\n",
      "252 Denmark\n",
      "253 Denmark\n",
      "254 Denmark\n",
      "255 Denmark\n",
      "256 Denmark\n",
      "257 Denmark\n",
      "258 Denmark\n",
      "259 Denmark\n",
      "260 Denmark\n",
      "261 Denmark\n",
      "262 Denmark\n",
      "263 Denmark\n",
      "264 Denmark\n",
      "265 Denmark\n",
      "266 Denmark\n",
      "267 Denmark\n",
      "268 Denmark\n",
      "269 Denmark\n",
      "270 Denmark\n",
      "271 Denmark\n",
      "272 Denmark\n",
      "273 Denmark\n",
      "274 Denmark\n",
      "275 Denmark\n",
      "276 Denmark\n",
      "277 Denmark\n",
      "278 Denmark\n",
      "279 Denmark\n",
      "280 Denmark\n",
      "281 Denmark\n",
      "282 Denmark\n",
      "283 Denmark\n",
      "284 Denmark\n",
      "285 Denmark\n",
      "286 Denmark\n",
      "287 Denmark\n",
      "288 Denmark\n",
      "289 Denmark\n",
      "290 Denmark\n",
      "291 Denmark\n",
      "292 Denmark\n",
      "293 Denmark\n",
      "294 Finland\n",
      "295 Finland\n",
      "296 Finland\n",
      "297 Finland\n",
      "298 Finland\n",
      "299 Finland\n",
      "300 Finland\n",
      "301 Finland\n",
      "302 Finland\n",
      "303 Finland\n",
      "304 Finland\n",
      "305 Finland\n",
      "306 Finland\n",
      "307 Finland\n",
      "308 Finland\n",
      "309 Finland\n",
      "310 Finland\n",
      "311 Finland\n",
      "312 NA\n",
      "313 NA\n",
      "314 NA\n",
      "315 NA\n",
      "316 NA\n",
      "317 NA\n",
      "318 NA\n",
      "319 NA\n",
      "320 NA\n",
      "321 NA\n",
      "322 NA\n",
      "323 NA\n",
      "324 NA\n",
      "325 NA\n",
      "326 NA\n",
      "327 NA\n",
      "328 NA\n",
      "329 NA\n",
      "330 NA\n",
      "331 NA\n",
      "332 NA\n",
      "333 NA\n",
      "334 NA\n",
      "335 NA\n",
      "336 NA\n",
      "337 NA\n",
      "338 NA\n",
      "339 NA\n",
      "340 NA\n",
      "341 NA\n",
      "342 NA\n",
      "343 NA\n",
      "344 NA\n",
      "345 NA\n",
      "346 NA\n",
      "347 NA\n",
      "348 NA\n",
      "349 NA\n",
      "350 NA\n",
      "351 NA\n",
      "352 NA\n",
      "353 NA\n",
      "354 NA\n",
      "355 NA\n",
      "356 NA\n",
      "357 NA\n",
      "358 NA\n",
      "359 NA\n",
      "360 NA\n",
      "361 NA\n",
      "362 NA\n",
      "363 NA\n",
      "364 NA\n",
      "365 NA\n",
      "366 NA\n",
      "367 NA\n",
      "368 NA\n",
      "369 NA\n",
      "370 NA\n",
      "371 NA\n",
      "372 NA\n",
      "373 NA\n",
      "374 NA\n",
      "375 Norway\n",
      "376 Norway\n",
      "377 Norway\n",
      "378 Canada\n",
      "379 Canada\n",
      "380 USA\n",
      "381 USA\n",
      "382 Japan\n",
      "383 Japan\n",
      "384 USA\n",
      "385 Canada\n",
      "386 Canada\n",
      "387 Canada\n",
      "388 Slovenia\n",
      "389 Norway\n"
     ]
    }
   ],
   "source": [
    "print(len(updated_protein_seq))\n",
    "for i,ps in enumerate(updated_protein_seq):\n",
    "    access_number = ps.name.split('|')[1].split('_')[0]\n",
    "    #print(ps) del liste[1]\n",
    "    #if(country[i]):\n",
    "    print(str(i)+\" \"+country[i])\n",
    "    country_tmp = country[i].replace(' ','-')\n",
    "    #print(country_tmp)\n",
    "    updated_protein_seq[i].description = ''\n",
    "    updated_protein_seq[i].id = access_number+'_'+country_tmp"
   ]
  },
  {
   "cell_type": "markdown",
   "metadata": {},
   "source": [
    "<b>→ Créez un fichier FASTA avec ces séquences et ouvrez-le avec un éditeur de texte pour voir ce qu'il contient.</b>"
   ]
  },
  {
   "cell_type": "code",
   "execution_count": 52,
   "metadata": {},
   "outputs": [],
   "source": [
    "output_handle = open('labo-2_protein-sequences.fasta', 'w')\n",
    "SeqIO.write(updated_protein_seq, output_handle, \"fasta\")\n",
    "output_handle.close()"
   ]
  },
  {
   "cell_type": "markdown",
   "metadata": {},
   "source": [
    "Instalation de Aliview: https://ormbunkar.se/aliview/\n",
    "\n",
    "<b>→ Sur votre ordinateur, lancez le programme Aliview et utilisez File > Open File pour ouvrir le fichier que vous venez de créer.</b>"
   ]
  },
  {
   "cell_type": "markdown",
   "metadata": {},
   "source": [
    "<b>→ Sur Aliview, allez sur Align > Realign everything et cliquez sur Ok.</b>\n",
    "\n",
    "Par défaut, Aliview utilise l’algorithme MUSCLE pour aligner les séquences. \n",
    "\n",
    "<b>→ Sur Aliview, inspectez l’alignement visuellement et assurez-vous que tout semble normal.</b>\n",
    "\n",
    "<p style=\"background-color:#AFEEEE;padding:3px\"><font size=\"4\"><b>2.2 </b></font>Pourquoi est-ce que l'une des séquences est plus courte que les autres? Astuce: allez sur Genbank depuis votre navigateur pour voir l'entrée correspondant à la séquence très courte.</p>\n"
   ]
  },
  {
   "cell_type": "markdown",
   "metadata": {},
   "source": [
    "Ce n'est pas la séquence complète\n",
    "\n",
    "Viral hemorrhagic septicemia virus isolate KV010308-4 nucleoprotein (N), phosphoprotein (P), and matrix protein (M) genes, complete cds; and glycoprotein (G) gene, **partial cds**.\n",
    "\n",
    "[FJ362514.1](https://www.ncbi.nlm.nih.gov/nuccore/FJ362514.1)\n",
    "\n",
    "[What is the mean of Cds, when it say in a sequence \"partial Cds\"?](https://www.researchgate.net/post/What_is_the_mean_of_Cds_when_it_say_in_a_sequence_partial_Cds)"
   ]
  },
  {
   "cell_type": "markdown",
   "metadata": {},
   "source": [
    "Sur Aliview, il est possible d’enregistrer l’alignement: File > Save as Clustal (aln). \n",
    "\n",
    "Pour la suite du labo, nous allons générer ce même alignement à l’aide de la librairie biopython et faire quelques analyses sur cet alignement.\n",
    "\n",
    "<b>→ Importez les modules suivants:</b>"
   ]
  },
  {
   "cell_type": "code",
   "execution_count": 53,
   "metadata": {},
   "outputs": [],
   "source": [
    "from Bio.Align.Applications import MuscleCommandline\n",
    "from Bio import AlignIO"
   ]
  },
  {
   "cell_type": "markdown",
   "metadata": {},
   "source": [
    "<b>→ Spécifiez le chemin vers votre exécutable muscle</b>\n",
    "#faute que j'installe muscle sur mon ordi...\n",
    "https://drive5.com/muscle/downloads.htm"
   ]
  },
  {
   "cell_type": "code",
   "execution_count": 58,
   "metadata": {},
   "outputs": [],
   "source": [
    "#muscle_loc = r'/usr/bin/muscle' # modifier si nécessaire\n",
    "#muscle_loc = r'/Users/xavierbrochet/Documents/programmes/muscle3.8.31_i86darwin64'\n",
    "muscle_loc = r'muscle3.8.31_i86win32'"
   ]
  },
  {
   "cell_type": "markdown",
   "metadata": {},
   "source": [
    "<b>→ Réalisez l’alignement à partir du fichier FASTA contenant les séquences</b>"
   ]
  },
  {
   "cell_type": "code",
   "execution_count": 60,
   "metadata": {
    "scrolled": true
   },
   "outputs": [
    {
     "name": "stdout",
     "output_type": "stream",
     "text": [
      "SingleLetterAlphabet() alignment with 390 rows and 507 columns\n",
      "MEWNTFFLVILIIIIKSTTSQITQRPPAENISTYHADWDTPLYT...QMI HQ112236.1_Finland\n",
      "MEWNTFFLVILIIIIKSTTSQITQRPPAENISTYHADWDTPLYT...QMI HQ112233.1_Finland\n",
      "MEWNTFFLVILIIIIKSTTSQITQRPPAENISTYHADWDTPLYT...QMI AY546577.1_NA\n",
      "MEWNTFFLVILIIIIKSTTSQITQRPPAENISTYHADWDTPLYT...QMI KM244767.1_NA\n",
      "MEWNTFFLVILIIIIKSTTSQITQRPPAENISTYHADWDTPLYT...QMI AY546578.1_NA\n",
      "MEWNTFFLVILIIIIKSTTSQITQRPPAENISTYHADWDTPLYT...QMI AY546576.1_NA\n",
      "MEWNTFFLVILIIIIKSTTSQITQRPPAENISTYHADWDTPLYT...QMI HQ112246.1_Finland\n",
      "MEWNTFFLVILIIIIKSTTSQITQRPPAENISTYHADWDTPLYT...QMI HQ112243.1_Finland\n",
      "MEWNTFFLVILIIIIKSTTSQIIQRPPAENISTYHADWDTPLYT...QMI HQ112245.1_Finland\n",
      "MEWNTFFLVILIIIIKSTTSQIIQRPPAENISTYHADWDTPLYT...QMI HQ112244.1_Finland\n",
      "MEWNTFFLVILIIIIKSTTSQIIQRPPAENISTYHADWDTPLYT...QMI HQ112239.1_Finland\n",
      "MEWNTFFLVILIIIIKSTTSQIIQRPPAENISTYHADWDTPLYT...QMI HQ112238.1_Finland\n",
      "MEWNTFFLVILIIIIKSTTSQIIQRPPAENISTYHADWDTPLYT...QMI HQ112237.1_Finland\n",
      "MEWNTFFLVILIIIIKSTTSQIIQRPPAENISTYHADWDTPLYT...QMI HQ112235.1_Finland\n",
      "MEWNTFFLVILIIIIKSTTSQIIQRPPAENISTYHADWDTPLYT...QMI HQ112234.1_Finland\n",
      "MEWNTFFLVILIIIIKSTTSQITQRPPAENISTYHADWDTPLYT...QMI HQ112248.1_Finland\n",
      "MEWNTFFLVILIIIIKSTTSQITQRPPAENISTYHADWDTPLYT...QMI HQ112241.1_Finland\n",
      "MEWNTFFLVILIIIIKSTTSQITQRPPAENISTYHADWDTPLYT...QMI HQ112242.1_Finland\n",
      "...\n",
      "MEWNTFFLVILIIIIKSTTSQITQRPPVENISTYHADWDTPLYT...QMV DQ401188.1_Canada\n"
     ]
    }
   ],
   "source": [
    "in_file = 'labo-2_protein-sequences.fasta'\n",
    "out_file = 'labo-2_protein-sequences.aln'\n",
    "\n",
    "muscle_cline = MuscleCommandline(cmd=muscle_loc,input=in_file,out=out_file,clwstrict=True)\n",
    "#print(muscle_cline)\n",
    "stdout, stderr = muscle_cline()\n",
    "\n",
    "muscle_align = AlignIO.read(out_file,'clustal') # this command actually performs the alignment\n",
    "print(muscle_align)"
   ]
  },
  {
   "cell_type": "markdown",
   "metadata": {},
   "source": [
    "![AliView](./AliView_2_2.JPG)"
   ]
  },
  {
   "cell_type": "markdown",
   "metadata": {},
   "source": [
    "Le fichier .aln généré peut être ouvert dans Aliview pour l’inspecter visuellement.\n",
    "\n",
    "## 3. Construction de l’arbre phylogénétique et clustering hiérarchique pour identifier des groupes similaires\n",
    "A partir de cet alignement, il est possible de générer un arbre phylogénétique. Par souci de temps, nous utiliserons FastTree qui est très rapide, même si cet outil n’est pas le mieux adapté pour construire un arbre phylogénétique à partir de séquences très proches comme c’est le cas ici.\n",
    "\n",
    "<b>→ Générez l’arbre avec FastTree</b>\n",
    "INSTALLTION: http://microbesonline.org/fasttree/#Install\n"
   ]
  },
  {
   "cell_type": "code",
   "execution_count": 61,
   "metadata": {
    "scrolled": true
   },
   "outputs": [
    {
     "name": "stdout",
     "output_type": "stream",
     "text": [
      "FastTree -fastest -out labo-2_protein-sequences.tre labo-2_protein-sequences.phy\n"
     ]
    }
   ],
   "source": [
    "from Bio.Phylo.Applications import FastTreeCommandline\n",
    "\n",
    "# convert aln to phy format\n",
    "out_phy = 'labo-2_protein-sequences.phy'\n",
    "AlignIO.convert(out_file,'clustal',out_phy, 'phylip-relaxed')\n",
    "\n",
    "# generate the phylogenetic tree with FastTree\n",
    "out_tree = 'labo-2_protein-sequences.tre'\n",
    "#cmd_fasttree = r'/home/aitana/Applications/FastTree' \n",
    "#cmd_fasttree = r'/Users/xavierbrochet/Documents/programmes/FastTree' # modifier si nécessaire\n",
    "cmd_fasttree = r'FastTree' # modifier si nécessaire\n",
    "\n",
    "fasttree_cmdline = FastTreeCommandline(cmd=cmd_fasttree,fastest=True,input=out_phy,out=out_tree)\n",
    "print(fasttree_cmdline)\n",
    "out_log, err_log = fasttree_cmdline()\n",
    "\n",
    "# load tree\n",
    "from Bio import Phylo\n",
    "tree = Phylo.read('labo-2_protein-sequences.tre', 'newick')\n",
    "#print(tree)\n",
    "#Phylo.draw(tree)"
   ]
  },
  {
   "cell_type": "markdown",
   "metadata": {},
   "source": [
    "<b>→ Ouvrez le fichier <font face='courier'>labo-2_protein-sequences.tre</font> dans TreeViewX et choisissez le mode de visualisation “phylogram” (bouton en haut à droite) et zoomez pour voir les groupes.</b>\n",
    "\n",
    "Utilisation de http://ab.inf.uni-tuebingen.de/data/software/dendroscope3/download/welcome.html\n",
    "ou de iToL en ligne... https://itol.embl.de/\n",
    "\n",
    "<p style=\"background-color:#AFEEEE;padding:3px\"><font size=\"4\"><b>3.1 </b></font>De quels pays vient l'isolat le plus proches des isolats de Corée du Sud?</p>"
   ]
  },
  {
   "cell_type": "markdown",
   "metadata": {},
   "source": [
    "Du japon\n",
    "\n",
    "![nearest](./tree.JPG)"
   ]
  },
  {
   "cell_type": "markdown",
   "metadata": {},
   "source": [
    "Combien de groupes voyez-vous? \n",
    "Ca dépend! Le nombre de groupes dépend du seuil utilisé pour admettre, ou non, que deux isolats font partie du même groupe. \n",
    "\n",
    "Afin de mieux visualiser la propagation du virus dans le monde, nous allons regrouper les séquences (i.e. les isolats) en 4 groupes et voir leur localisation géographique sur une carte du monde. Pour obtenir ces 4 groupes, nous allons commencer par calculer les distances (phylogénétiques) entre les isolats et réaliser un clustering hiérarchique à partir duquel nous obtiendrons 4 groupes.\n",
    "\n",
    "<b>→ Calculez les distances entre les isolats</b> (ceci peut prendre un petit moment...)\n"
   ]
  },
  {
   "cell_type": "code",
   "execution_count": null,
   "metadata": {},
   "outputs": [],
   "source": [
    "dmat = []\n",
    "leaves = [str(cladit) for k,cladit in enumerate(tree.get_terminals())]\n",
    "for l1,leave1 in enumerate(leaves):\n",
    "    d = []\n",
    "    for l2,leave2 in enumerate(leaves):\n",
    "        d.append(tree.distance(leave1,leave2))\n",
    "    dmat.append(d)"
   ]
  },
  {
   "cell_type": "markdown",
   "metadata": {},
   "source": [
    "<b>→ Réalisez le clustering hiérarchique et visualisez le dendrogram obtenu (double-cliquez sur le graphique pour l'agrandir)</b>"
   ]
  },
  {
   "cell_type": "code",
   "execution_count": 55,
   "metadata": {},
   "outputs": [
    {
     "ename": "NameError",
     "evalue": "name 'dmat' is not defined",
     "output_type": "error",
     "traceback": [
      "\u001b[1;31m---------------------------------------------------------------------------\u001b[0m",
      "\u001b[1;31mNameError\u001b[0m                                 Traceback (most recent call last)",
      "\u001b[1;32m<ipython-input-55-4f20e4660763>\u001b[0m in \u001b[0;36m<module>\u001b[1;34m\u001b[0m\n\u001b[0;32m      2\u001b[0m \u001b[1;32mimport\u001b[0m \u001b[0mscipy\u001b[0m\u001b[1;33m.\u001b[0m\u001b[0mspatial\u001b[0m\u001b[1;33m.\u001b[0m\u001b[0mdistance\u001b[0m \u001b[1;32mas\u001b[0m \u001b[0mssd\u001b[0m\u001b[1;33m\u001b[0m\u001b[1;33m\u001b[0m\u001b[0m\n\u001b[0;32m      3\u001b[0m \u001b[1;33m\u001b[0m\u001b[0m\n\u001b[1;32m----> 4\u001b[1;33m \u001b[0mZ\u001b[0m \u001b[1;33m=\u001b[0m \u001b[0mcl\u001b[0m\u001b[1;33m.\u001b[0m\u001b[0mlinkage\u001b[0m\u001b[1;33m(\u001b[0m\u001b[0mssd\u001b[0m\u001b[1;33m.\u001b[0m\u001b[0msquareform\u001b[0m\u001b[1;33m(\u001b[0m\u001b[0mdmat\u001b[0m\u001b[1;33m)\u001b[0m\u001b[1;33m,\u001b[0m\u001b[0mmethod\u001b[0m\u001b[1;33m=\u001b[0m\u001b[1;34m'average'\u001b[0m\u001b[1;33m,\u001b[0m\u001b[0mmetric\u001b[0m\u001b[1;33m=\u001b[0m\u001b[1;34m'euclidean'\u001b[0m\u001b[1;33m)\u001b[0m\u001b[1;33m\u001b[0m\u001b[1;33m\u001b[0m\u001b[0m\n\u001b[0m\u001b[0;32m      5\u001b[0m \u001b[0mfig\u001b[0m \u001b[1;33m=\u001b[0m \u001b[0mplt\u001b[0m\u001b[1;33m.\u001b[0m\u001b[0mfigure\u001b[0m\u001b[1;33m(\u001b[0m\u001b[0mnum\u001b[0m\u001b[1;33m=\u001b[0m\u001b[1;32mNone\u001b[0m\u001b[1;33m,\u001b[0m\u001b[0mfigsize\u001b[0m\u001b[1;33m=\u001b[0m\u001b[1;33m(\u001b[0m\u001b[1;36m60\u001b[0m\u001b[1;33m,\u001b[0m\u001b[1;36m15\u001b[0m\u001b[1;33m)\u001b[0m\u001b[1;33m,\u001b[0m\u001b[0mdpi\u001b[0m\u001b[1;33m=\u001b[0m\u001b[1;36m250\u001b[0m\u001b[1;33m)\u001b[0m\u001b[1;33m\u001b[0m\u001b[1;33m\u001b[0m\u001b[0m\n\u001b[0;32m      6\u001b[0m \u001b[0mdendro\u001b[0m\u001b[1;33m=\u001b[0m\u001b[0mcl\u001b[0m\u001b[1;33m.\u001b[0m\u001b[0mdendrogram\u001b[0m\u001b[1;33m(\u001b[0m\u001b[0mZ\u001b[0m\u001b[1;33m,\u001b[0m\u001b[0mlabels\u001b[0m\u001b[1;33m=\u001b[0m\u001b[0mleaves\u001b[0m\u001b[1;33m,\u001b[0m\u001b[0mcolor_threshold\u001b[0m\u001b[1;33m=\u001b[0m\u001b[1;36m0.06\u001b[0m\u001b[1;33m,\u001b[0m\u001b[0mleaf_rotation\u001b[0m\u001b[1;33m=\u001b[0m\u001b[1;36m90\u001b[0m\u001b[1;33m,\u001b[0m\u001b[0mleaf_font_size\u001b[0m\u001b[1;33m=\u001b[0m\u001b[1;36m9\u001b[0m\u001b[1;33m)\u001b[0m\u001b[1;33m\u001b[0m\u001b[1;33m\u001b[0m\u001b[0m\n",
      "\u001b[1;31mNameError\u001b[0m: name 'dmat' is not defined"
     ]
    }
   ],
   "source": [
    "import scipy.cluster.hierarchy as cl\n",
    "import scipy.spatial.distance as ssd\n",
    "\n",
    "Z = cl.linkage(ssd.squareform(dmat),method='average',metric='euclidean')\n",
    "fig = plt.figure(num=None,figsize=(60,15),dpi=250)\n",
    "dendro=cl.dendrogram(Z,labels=leaves,color_threshold=0.06,leaf_rotation=90,leaf_font_size=9)\n",
    "plt.show()"
   ]
  },
  {
   "cell_type": "markdown",
   "metadata": {},
   "source": [
    "<b>→ Représentez les isolats de chaque groupe sur une carte du monde</b>"
   ]
  },
  {
   "cell_type": "code",
   "execution_count": 54,
   "metadata": {},
   "outputs": [
    {
     "ename": "NameError",
     "evalue": "name 'cl' is not defined",
     "output_type": "error",
     "traceback": [
      "\u001b[1;31m---------------------------------------------------------------------------\u001b[0m",
      "\u001b[1;31mNameError\u001b[0m                                 Traceback (most recent call last)",
      "\u001b[1;32m<ipython-input-54-7a4314fa792f>\u001b[0m in \u001b[0;36m<module>\u001b[1;34m\u001b[0m\n\u001b[0;32m      1\u001b[0m \u001b[0mnb_clusters\u001b[0m \u001b[1;33m=\u001b[0m \u001b[1;36m4\u001b[0m\u001b[1;33m\u001b[0m\u001b[1;33m\u001b[0m\u001b[0m\n\u001b[1;32m----> 2\u001b[1;33m \u001b[0mclusters\u001b[0m \u001b[1;33m=\u001b[0m \u001b[0mcl\u001b[0m\u001b[1;33m.\u001b[0m\u001b[0mfcluster\u001b[0m\u001b[1;33m(\u001b[0m\u001b[0mZ\u001b[0m\u001b[1;33m,\u001b[0m\u001b[0mnb_clusters\u001b[0m\u001b[1;33m,\u001b[0m\u001b[0mcriterion\u001b[0m\u001b[1;33m=\u001b[0m\u001b[1;34m'maxclust'\u001b[0m\u001b[1;33m)\u001b[0m\u001b[1;33m\u001b[0m\u001b[1;33m\u001b[0m\u001b[0m\n\u001b[0m\u001b[0;32m      3\u001b[0m \u001b[1;33m\u001b[0m\u001b[0m\n\u001b[0;32m      4\u001b[0m \u001b[1;32mfor\u001b[0m \u001b[0mi\u001b[0m \u001b[1;32min\u001b[0m \u001b[0mrange\u001b[0m\u001b[1;33m(\u001b[0m\u001b[1;36m1\u001b[0m\u001b[1;33m,\u001b[0m\u001b[0mmax\u001b[0m\u001b[1;33m(\u001b[0m\u001b[0mclusters\u001b[0m\u001b[1;33m)\u001b[0m\u001b[1;33m+\u001b[0m\u001b[1;36m1\u001b[0m\u001b[1;33m)\u001b[0m\u001b[1;33m:\u001b[0m\u001b[1;33m\u001b[0m\u001b[1;33m\u001b[0m\u001b[0m\n\u001b[0;32m      5\u001b[0m \u001b[1;33m\u001b[0m\u001b[0m\n",
      "\u001b[1;31mNameError\u001b[0m: name 'cl' is not defined"
     ]
    }
   ],
   "source": [
    "nb_clusters = 4\n",
    "clusters = cl.fcluster(Z,nb_clusters,criterion='maxclust')\n",
    "\n",
    "for i in range(1,max(clusters)+1):\n",
    "\n",
    "    idxi = [j for j,cluster in enumerate(clusters) if cluster==i]\n",
    "    \n",
    "    lat_tmp = []\n",
    "    lon_tmp = []\n",
    "    for j,idxj in enumerate(idxi):\n",
    "        access_number_of_leave = leaves[idxj].split('_')[0]\n",
    "        lat_tmp.append(lat[name.index(access_number_of_leave)])\n",
    "        lon_tmp.append(long[name.index(access_number_of_leave)])\n",
    "        \n",
    "        #lat_tmp = [lat[name.index(access_number_of_leave)] for ]\n",
    "        #lon_tmp = [lon[name.index(access_number_of_leave)] for j,idxj in enumerate(idxi)]\n",
    "    \n",
    "    # plot\n",
    "    fig = plt.figure(num=None,figsize=(7,6),dpi=150)   \n",
    "    m = Basemap(projection='kav7',lon_0=0,lat_0=60)\n",
    "    x, y = m(lon_tmp,lat_tmp) # transform (lat,lon) with the projection\n",
    "    m.scatter(x,y,7,marker='.',color='k')\n",
    "    m.fillcontinents(zorder=0)\n",
    "    plt.title('Group '+str(i))\n",
    "    plt.show()        \n",
    "    fig.savefig('map_isolats-'+str(i)+'.png', dpi=fig.dpi)"
   ]
  },
  {
   "cell_type": "markdown",
   "metadata": {},
   "source": [
    "Sur plusieurs de ces figures, vous pouvez voir que le virus “voyage” parfois même de très longues distances. L’une des raisons principales de cette propagation vient de l’échange d’oeufs et de larves de poissons contaminés entre pisciculteurs du monde entier (p.ex. entre l’Amérique du Nord et l’Asie).\n",
    "\n",
    "<p style=\"background-color:#AFEEEE;padding:3px\"><font size=\"4\"><b>3.2 </b></font>A l’aide du tableau ci-dessous, définissez le(s) genotype(s) probable auxquels appartiennent les 4 groupes identifiés. \n",
    "</p>\n",
    "\n",
    "<i>Nota: Ces génotypes ont été définis en comparant les séquences des protéines G et N, alors qu’ici nous n’avons étudié que la protéine G.</i>\n",
    "\n",
    "<table>\n",
    "\n",
    "<tr>\n",
    "<td><b>Type</b></td>\n",
    "<td><b>Prevalent host type and location (source: <a href=\"https://en.wikipedia.org/wiki/Viral_hemorrhagic_septicemia\">Wikipedia</a>)</b></td>\n",
    "</tr>\n",
    "\n",
    "<tr>\n",
    "<td>I-a</td>\n",
    "<td>Farmed rainbow trout and a few other freshwater fish in continental Europe</td>\n",
    "</tr>\n",
    "\n",
    "<tr>\n",
    "<td>I-b</td>\n",
    "<td>Marine fish of the Baltic Sea, Skagerrak, Kattegat, North Sea, Japan</td>\n",
    "</tr>\n",
    "\n",
    "<tr>\n",
    "<td>I-c</td>\n",
    "<td>Farmed rainbow trout Denmark</td>\n",
    "</tr>\n",
    "\n",
    "<tr>\n",
    "<td>I-d</td>\n",
    "<td>Farmed rainbow trout in Norway, Finland, Gulf of Bothnia</td>\n",
    "</tr>\n",
    "\n",
    "<tr>\n",
    "<td>I-e</td>\n",
    "<td>Rainbow trout in Georgia, farmed and wild turbot in the Black Sea</td>\n",
    "</tr>\n",
    "\n",
    "<tr>\n",
    "<td>II</td>\n",
    "<td>Marine fish of the Baltic Sea</td>\n",
    "</tr>\n",
    "\n",
    "<tr>\n",
    "<td>III</td>\n",
    "<td>Marine fish of the British Isles and northern France, farmed turbot in the UK and Ireland, and Greenland halibut (Reinhardtius hippoglossoides) in Greenland</td>\n",
    "</tr>\n",
    "\n",
    "<tr>\n",
    "<td>IV-a</td>\n",
    "<td>Marine fish of the Northwest Pacific (North America), North American north Atlantic coast, Japan, and Korea</td>\n",
    "</tr>\n",
    "\n",
    "<tr>\n",
    "<td>IV-b</td>\n",
    "<td>Freshwater fish in North American Great Lakes region</td>\n",
    "</tr>\n",
    "\n",
    "</table>"
   ]
  },
  {
   "cell_type": "markdown",
   "metadata": {},
   "source": [
    "Votre réponse..."
   ]
  },
  {
   "cell_type": "markdown",
   "metadata": {},
   "source": [
    "## 4. Pour aller plus loin… L’épidémiologie\n",
    "\n",
    "Les virus évoluent très rapidement à l’échelle de la vie humaine, et peuvent se propager rapidement à travers le monde. Un exemple de virus qui évolue très rapidement est la grippe saisonnière. Après chaque hiver, une grande partie de la population développe des anticorps contre la grippe de cette année et est donc immunisée… Mais comme le virus de la grippe évolue rapidement, l’année suivante, un nouveau mutant apparaît pour lequel la majorité de la population n’est pas complètement immunisée. Le vaccin basé sur la grippe de l’année précédente ne protège donc que partiellement la population, et est totalement inefficace dans les rares cas où un nouveau sous-type de grippe apparaît, créant un grand risque de pandémie.\n",
    "La bioinformatique est très utile pour suivre l’évolution de la grippe et comprendre comment elle se propage.\n",
    "\n",
    "<p style=\"background-color:#AFEEEE;padding:3px\"><font size=\"4\"><b>4.1 </b></font>Par rapport à l’analyse faite ici, quel facteur important faudrait-il prendre en compte pour pouvoir identifier les “routes” empruntées par le virus pour se propager (i.e. “de où à où il va”)? (50 mots maximum)\n",
    "</p>"
   ]
  },
  {
   "cell_type": "markdown",
   "metadata": {},
   "source": [
    "Votre réponse..."
   ]
  },
  {
   "cell_type": "markdown",
   "metadata": {},
   "source": [
    "<p style=\"background-color:#AFEEEE;padding:3px\"><font size=\"4\"><b>4.2 </b></font>Le [virus Zika](https://www.who.int/wer/2015/wer9045.pdf) a fait la une de l'actualité il y a quelque temps (2015). En effet, au Brésil, les autorités sanitaires locales ont observé une recrudescence de cas atteints du syndrome Guillain-Barré qui coincident avec des cas d'infections à virus Zika dans le grand public, ainsi qu’une augmentation du nombre de nouveau-nés atteints de microcéphalie dans le nord-est du pays [source: site OMS]. Répétez l'analyse de la Section 1 avec la requête <font face=\"courier\">'zika virus[orgn] NOT \"mRNA\"[title]'</font>. Est-ce que le virus a été isolé et séquencé en Argentine (si oui, combien de fois)?\n",
    "</p>"
   ]
  },
  {
   "cell_type": "markdown",
   "metadata": {},
   "source": [
    "Votre réponse..."
   ]
  }
 ],
 "metadata": {
  "kernelspec": {
   "display_name": "Python 3",
   "language": "python",
   "name": "python3"
  },
  "language_info": {
   "codemirror_mode": {
    "name": "ipython",
    "version": 3
   },
   "file_extension": ".py",
   "mimetype": "text/x-python",
   "name": "python",
   "nbconvert_exporter": "python",
   "pygments_lexer": "ipython3",
   "version": "3.7.2"
  }
 },
 "nbformat": 4,
 "nbformat_minor": 1
}
