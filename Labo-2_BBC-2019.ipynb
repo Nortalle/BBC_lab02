{
 "cells": [
  {
   "cell_type": "markdown",
   "metadata": {},
   "source": [
    "# BBC - Laboratoire 2\n",
    "## Alignement de séquences et arbres phylogénétiques\n",
    "\n",
    "- Professeur: Carlos Peña (<a href=\"mailto:carlos.pena@heig-vd.ch\">carlos.pena@heig-vd.ch</a>)\n",
    "- Assistant: Xavier Brochet (<a href=\"mailto:xavier.brochet@heig-vd.ch\">xavier.brochet@heig-vd.ch</a>)\n",
    "\n",
    "Date: Printemps 2019"
   ]
  },
  {
   "cell_type": "markdown",
   "metadata": {},
   "source": [
    "> ## Objectifs pédagogiques\n",
    "Pour réaliser ce laboratoire, du vocabulaire et des notions de base en biologie seront introduits ou perfectionnés (revoir Labo-1 si nécessaire). A la fin du laboratoire, l’étudiant devrait:\n",
    "- Etre à l’aise avec l’utilisation d’Entrez Direct pour accéder à Genbank.\n",
    "- Savoir utiliser des outils d’alignement de séquence, à l’aide du logiciel Aliview et avec la librairie biopython.\n",
    "- Savoir construire un arbre phylogénétique à partir d’un alignement et l’interpréter.\n",
    "\n",
    "\n",
    "> ## But du labo\n",
    "La septicémie hémorragique virale est une maladie très contagieuse et mortelle qui touche les poissons de type salmonidés (les humains ne sont pas touchés). Elle est causée par un virus qui engendre chaque année de grosses pertes économiques pour les pisciculteurs. Votre but est de visualiser comment le virus se propage dans le monde, en comparant les séquences de la protéine G (glycoprotéine se trouvant à la surface du virus) de plusieurs isolats.\n",
    "\n",
    "> ## Démarche\n",
    "1. Visualisation de la présence du virus dans le monde (Genbank, Entrez Direct et biopython).\n",
    "2. Alignement des séquences protéiques pour pouvoir les comparer (MUSCLE, (ClustalW), Clustal Omega).\n",
    "3. Construction de l’arbre phylogénétique et clustering hiérarchique pour identifier des groupes d’isolats similaires.\n",
    "\n",
    "\n",
    "> ## Rapport de labo\n",
    "\n",
    "> <p >Merci de répondre aux questions posées sur fond cyan de façon concise dans la cellule située <u>juste en dessous</u>, et de nous retourner ce notebook.\n",
    "> <p style=\"background-color:#AFEEEE;padding:3px\"><font size=\"4\"><b>0. </b></font> Ceci est une question.</p>"
   ]
  },
  {
   "cell_type": "markdown",
   "metadata": {},
   "source": [
    "## 1. Le virus dans le monde - visualisation d’isolats séquencés\n",
    "\n",
    "Comme lors du premier labo, vous allez apprendre à utiliser certains outils à la fois en mode graphique et en mode ligne de commande.\n",
    "\n",
    "Votre premier objectif est de récupérer sur Genbank la localisation géographique de toutes les souches séquencées du virus (protéine G uniquement) et de les visualiser sur une carte du monde.\n",
    "\n",
    "<b>→ Depuis votre navigateur, allez sur le site de [Genbank](http://www.ncbi.nlm.nih.gov/genbank/) et dans la barre de recherche, tapez</b>: G[gene] AND VHSV[orgn] NOT \"mRNA\"[title] AND \"complete cds\"[title]\n",
    "\n",
    "Cette requête limite les recherches aux entrées dont le nom du gène s’intitule G, dont l’organisme est le VHSV (Viral Hemorrhagic Septicemia Virus), dont le titre ne contient pas le mot “mRNA” et dont la séquence est complète.\n",
    "\n",
    "<b>→ Cliquez sur la première entrée: https://www.ncbi.nlm.nih.gov/nuccore/MH836523.1</b>\n",
    "\n",
    "Dans la partie FEATURES - source, vous pouvez voir que le pays d’origine est Islande.\n",
    "\n",
    "<b>→ Cliquez sur cette entrée: [http://www.ncbi.nlm.nih.gov/nuccore/341904092](http://www.ncbi.nlm.nih.gov/nuccore/341904092) </b>\n",
    "Vous pouvez voir qu’en plus du pays, la latitude et la longitude sont également indiqués.\n",
    "\n",
    "<p style=\"background-color:#AFEEEE;padding:3px\"><font size=\"4\"><b>1.1 </b></font>Quelles sont les coordonnées (latitude, longitude) et pays d’origine de l’isolat dont l'ACCESSION=HQ112247 et gi=341904064 (attention le gi n'est officiellement plus utilisé)?</p>"
   ]
  },
  {
   "cell_type": "markdown",
   "metadata": {},
   "source": [
    "Originaire de Finlande aux latitudes et longitudes : 60.24 N 22.06 E"
   ]
  },
  {
   "cell_type": "markdown",
   "metadata": {},
   "source": [
    "Votre recherche avec la requête initiale a retourné 390 entrées. Afin de récupérer les données géographiques de tous les isolats, il vous faut avoir recours à un langage de script. Comme vu au Labo-1, nous ferons appel à Entrez Direct en utilisant la librairie biopython.\n",
    "\n",
    "<b>→ Importez les modules suivants</b>"
   ]
  },
  {
   "cell_type": "code",
   "execution_count": 1,
   "metadata": {},
   "outputs": [
    {
     "ename": "ModuleNotFoundError",
     "evalue": "No module named 'mpl_toolkits'",
     "output_type": "error",
     "traceback": [
      "\u001b[1;31m---------------------------------------------------------------------------\u001b[0m",
      "\u001b[1;31mModuleNotFoundError\u001b[0m                       Traceback (most recent call last)",
      "\u001b[1;32m<ipython-input-1-8cb209d5c7ae>\u001b[0m in \u001b[0;36m<module>\u001b[1;34m\u001b[0m\n\u001b[0;32m      1\u001b[0m \u001b[1;32mfrom\u001b[0m \u001b[0mBio\u001b[0m \u001b[1;32mimport\u001b[0m \u001b[0mEntrez\u001b[0m\u001b[1;33m\u001b[0m\u001b[1;33m\u001b[0m\u001b[0m\n\u001b[0;32m      2\u001b[0m \u001b[0mEntrez\u001b[0m\u001b[1;33m.\u001b[0m\u001b[0memail\u001b[0m \u001b[1;33m=\u001b[0m \u001b[1;34m\"vincent.guidoux@heig-vd.ch\"\u001b[0m \u001b[1;31m# une adresse email valide est nécessaire\u001b[0m\u001b[1;33m\u001b[0m\u001b[1;33m\u001b[0m\u001b[0m\n\u001b[1;32m----> 3\u001b[1;33m \u001b[1;32mfrom\u001b[0m \u001b[0mmpl_toolkits\u001b[0m\u001b[1;33m.\u001b[0m\u001b[0mbasemap\u001b[0m \u001b[1;32mimport\u001b[0m \u001b[0mBasemap\u001b[0m \u001b[1;31m# pour dessiner une carte du monde\u001b[0m\u001b[1;33m\u001b[0m\u001b[1;33m\u001b[0m\u001b[0m\n\u001b[0m\u001b[0;32m      4\u001b[0m \u001b[1;32mimport\u001b[0m \u001b[0mmatplotlib\u001b[0m\u001b[1;33m.\u001b[0m\u001b[0mpyplot\u001b[0m \u001b[1;32mas\u001b[0m \u001b[0mplt\u001b[0m \u001b[1;31m# pour générer des graphiques\u001b[0m\u001b[1;33m\u001b[0m\u001b[1;33m\u001b[0m\u001b[0m\n\u001b[0;32m      5\u001b[0m \u001b[0mget_ipython\u001b[0m\u001b[1;33m(\u001b[0m\u001b[1;33m)\u001b[0m\u001b[1;33m.\u001b[0m\u001b[0mrun_line_magic\u001b[0m\u001b[1;33m(\u001b[0m\u001b[1;34m'matplotlib'\u001b[0m\u001b[1;33m,\u001b[0m \u001b[1;34m'inline'\u001b[0m\u001b[1;33m)\u001b[0m\u001b[1;33m\u001b[0m\u001b[1;33m\u001b[0m\u001b[0m\n",
      "\u001b[1;31mModuleNotFoundError\u001b[0m: No module named 'mpl_toolkits'"
     ]
    }
   ],
   "source": [
    "from Bio import Entrez\n",
    "Entrez.email = \"vincent.guidoux@heig-vd.ch\" # une adresse email valide est nécessaire\n",
    "from mpl_toolkits.basemap import Basemap # pour dessiner une carte du monde\n",
    "import matplotlib.pyplot as plt # pour générer des graphiques\n",
    "%matplotlib inline\n",
    "#problème avec le module mpl_toolkits.basemap..\n",
    "#esssai pour le récupérer\n",
    "#j'ai mis a jour: \n",
    "#pip3.6 install --upgrade biopython --> pas fonctionné\n",
    "#pip3 install --upgrade jupyter matplotlib numpy pandas scipy scikit-learn six Collecting jupyter\n",
    "#pip3.6 install notebook --upgrade \n",
    "#conda install -c anaconda biopython\n"
   ]
  },
  {
   "cell_type": "markdown",
   "metadata": {},
   "source": [
    "<b>→ Commencez par récupérer les identifiants gi correspondant à la requête en utilisant Entrez.esearch()</b>"
   ]
  },
  {
   "cell_type": "code",
   "execution_count": 2,
   "metadata": {},
   "outputs": [
    {
     "name": "stdout",
     "output_type": "stream",
     "text": [
      "390\n"
     ]
    }
   ],
   "source": [
    "query = 'G[gene] AND VHSV[orgn] NOT \"mRNA\"[title] AND \"complete cds\"[title]'\n",
    "handle = Entrez.esearch(db='nucleotide',retmax=1000,term=query)\n",
    "record = Entrez.read(handle)\n",
    "gi = record['IdList']\n",
    "#print(gi)\n",
    "print(len(gi))"
   ]
  },
  {
   "cell_type": "markdown",
   "metadata": {},
   "source": [
    "<b>→ Allez chercher les informations Genbank sur ces séquences en utilisant Entrez.efetch()</b>"
   ]
  },
  {
   "cell_type": "code",
   "execution_count": 4,
   "metadata": {
    "scrolled": true
   },
   "outputs": [
    {
     "name": "stdout",
     "output_type": "stream",
     "text": [
      "390\n"
     ]
    }
   ],
   "source": [
    "protein_info = Entrez.efetch(db=\"nucleotide\",id=gi,rettype=\"gb\",retmode=\"xml\")\n",
    "protein_info = Entrez.read(protein_info)\n",
    "print(len(protein_info))"
   ]
  },
  {
   "cell_type": "markdown",
   "metadata": {},
   "source": [
    "<font face='courier'>protein_info</font> est une liste de 390 éléments. Chaque élément consiste en une structure de listes et dictionnaires contenant toute l’information de Genbank correpondant à la requête.\n",
    "\n",
    "<b>→ Imprimez le dixième élément de protein_info et quelques unes de ses caractéristiques.</b>\n"
   ]
  },
  {
   "cell_type": "code",
   "execution_count": 9,
   "metadata": {
    "scrolled": true
   },
   "outputs": [
    {
     "name": "stdout",
     "output_type": "stream",
     "text": [
      "DictElement({'GBSeq_locus': 'KU728260', 'GBSeq_length': '1524', 'GBSeq_strandedness': 'single', 'GBSeq_moltype': 'cRNA', 'GBSeq_topology': 'linear', 'GBSeq_division': 'VRL', 'GBSeq_update-date': '01-MAR-2017', 'GBSeq_create-date': '01-MAR-2017', 'GBSeq_definition': 'Viral hemorrhagic septicemia virus isolate DK-7690 glycoprotein (G) gene, complete cds', 'GBSeq_primary-accession': 'KU728260', 'GBSeq_accession-version': 'KU728260.1', 'GBSeq_other-seqids': ['gb|KU728260.1|', 'gi|1149552504'], 'GBSeq_source': 'Viral hemorrhagic septicemia virus', 'GBSeq_organism': 'Viral hemorrhagic septicemia virus', 'GBSeq_taxonomy': 'Viruses; ssRNA viruses; ssRNA negative-strand viruses; Mononegavirales; Rhabdoviridae; Novirhabdovirus', 'GBSeq_references': [DictElement({'GBReference_reference': '1', 'GBReference_position': '1..1524', 'GBReference_authors': ['Mikkelsen,S.S.', 'Panzarin,V.', 'Schuetze,H.', 'Skall,H.F.', 'Fusaro,A.', 'Korsholm,H.', 'Olesen,N.-J.'], 'GBReference_title': 'Molecular tracing of viral hemorrhagic septicemia outbreaks in Denmark', 'GBReference_journal': 'Unpublished'}, attributes={}), DictElement({'GBReference_reference': '2', 'GBReference_position': '1..1524', 'GBReference_authors': ['Mikkelsen,S.S.', 'Schuetze,H.'], 'GBReference_title': 'Direct Submission', 'GBReference_journal': 'Submitted (18-FEB-2016) Section for Diagnostics and Scientific Advice, DTU Veterinary Institute, Bulowsvej 27, Frederiksberg 1870, Denmark'}, attributes={})], 'GBSeq_comment': '##Assembly-Data-START## ; Sequencing Technology :: Sanger dideoxy sequencing ; ##Assembly-Data-END##', 'GBSeq_feature-table': [DictElement({'GBFeature_key': 'source', 'GBFeature_location': '1..1524', 'GBFeature_intervals': [DictElement({'GBInterval_from': '1', 'GBInterval_to': '1524', 'GBInterval_accession': 'KU728260.1'}, attributes={})], 'GBFeature_quals': [DictElement({'GBQualifier_name': 'organism', 'GBQualifier_value': 'Viral hemorrhagic septicemia virus'}, attributes={}), DictElement({'GBQualifier_name': 'mol_type', 'GBQualifier_value': 'viral cRNA'}, attributes={}), DictElement({'GBQualifier_name': 'isolate', 'GBQualifier_value': 'DK-7690'}, attributes={}), DictElement({'GBQualifier_name': 'host', 'GBQualifier_value': 'Oncorhynchus mykiss'}, attributes={}), DictElement({'GBQualifier_name': 'db_xref', 'GBQualifier_value': 'taxon:11287'}, attributes={}), DictElement({'GBQualifier_name': 'country', 'GBQualifier_value': 'Denmark'}, attributes={}), DictElement({'GBQualifier_name': 'collection_date', 'GBQualifier_value': '07-Dec-1994'}, attributes={}), DictElement({'GBQualifier_name': 'note', 'GBQualifier_value': 'genotype: 1a'}, attributes={})]}, attributes={}), DictElement({'GBFeature_key': 'gene', 'GBFeature_location': '1..1524', 'GBFeature_intervals': [DictElement({'GBInterval_from': '1', 'GBInterval_to': '1524', 'GBInterval_accession': 'KU728260.1'}, attributes={})], 'GBFeature_quals': [DictElement({'GBQualifier_name': 'gene', 'GBQualifier_value': 'G'}, attributes={})]}, attributes={}), DictElement({'GBFeature_key': 'CDS', 'GBFeature_location': '1..1524', 'GBFeature_intervals': [DictElement({'GBInterval_from': '1', 'GBInterval_to': '1524', 'GBInterval_accession': 'KU728260.1'}, attributes={})], 'GBFeature_quals': [DictElement({'GBQualifier_name': 'gene', 'GBQualifier_value': 'G'}, attributes={}), DictElement({'GBQualifier_name': 'codon_start', 'GBQualifier_value': '1'}, attributes={}), DictElement({'GBQualifier_name': 'transl_table', 'GBQualifier_value': '1'}, attributes={}), DictElement({'GBQualifier_name': 'product', 'GBQualifier_value': 'glycoprotein'}, attributes={}), DictElement({'GBQualifier_name': 'protein_id', 'GBQualifier_value': 'AQT19222.1'}, attributes={}), DictElement({'GBQualifier_name': 'translation', 'GBQualifier_value': 'MEWNTFFLVILIIIIKSTTPQITQRPPVENISTYHADWDTPLYTHPSNCRDDSFVPIRPAQLRCPHEFEDINRGLVSVPTKIIHLPLSVTSVSAVASGHYLHRVTYRVTCSTSFFGGQTIEKTILEAKLSRQEATDEASKDHEYPFFPEPSCIWMKNNVHKDITHYYKTPKTVSVDLYSRKFLNPDFIEGVCTTSPCQTHWQGVYWVGATPNAHCPTSETLEGHLFTRTHDHRVVKAIVAGHHPWGLTMACTVKFCGEDWIKTDLGDLIQVTGPGGTGKLTPNKCVNTDVQMRGATDDFSYLNHLITNMAQRTECLDAHSDITASGKVSSFLLSKFRPSHPGPGKAHYLLDGQIMRGDCDYEAVVSINYNSAQYKTVNNTWKSWKRVDNNTDGYDGMIFGDKLIIPDIEKYQSVYDSGMLVQRNLVEVPHLSIVFVSNTSDLSTNHIHTNLIPSDWSFHWSLWPSLSGMGVVGGAFLLLVLCCCCKASPPTPNYGIPMQQFSRSQTV'}, attributes={})]}, attributes={})], 'GBSeq_sequence': 'atggaatggaatactttcttcttggtgatcttgatcatcatcataaagagcaccacaccacagatcactcaacgacctccggttgaaaacatctcgacgtaccatgcagattgggacactccgctatacactcatccctccaactgcagggacgattcctttgtcccgattcgaccagctcaactcaggtgtcctcatgaatttgaagacataaacaggggactggtttccgtcccaaccaagatcatccatctcccgctatcagtcaccagcgtctccgcagtagcgagcggccactacctgcacagagtgacttatcgagtcacctgttcgaccagcttctttggagggcaaaccattgaaaagaccatcttggaggcgaaactgtctcgtcaggaggccacagacgaggcaagcaaggaccacgagtacccgttcttccctgaaccctcctgcatctggatgaaaaacaatgtccataaggacataactcactattacaagaccccaaaaacagtatcggtggatctctacagcaggaaatttctcaaccctgatttcatcgaaggggtctgcacaacctcgccctgtcaaactcattggcagggagtctattgggtcggcgccacacccaatgcccattgccccacgtcggaaacactagaaggacacctgttcaccaggacccatgatcacagggtggtcaaggcaattgtggcaggccatcatccctggggactcacaatggcatgcacagtgaaattctgcggggaagattggatcaagactgacctgggagacctgatccaggtgacaggaccggggggcacggggaaactgactccaaataagtgtgtcaatactgatgtccagatgaggggggcaacagacgacttttcttatctcaaccatctcatcaccaacatggctcaaagaaccgagtgcctagatgcccatagtgatatcaccgcttctgggaaagtgtcctcatttctcctctcaaagtttcgtcccagccaccctggacccggcaaggcacactatcttctagacggtcaaatcatgcgaggtgactgtgactatgaggcagtagtcagcatcaactacaacagcgctcaatacaagacggtgaacaacacatggaaatcatggaaacgggtggacaacaacacagacgggtacgatgggatgatatttggggacaaattgatcatcccggacatcgagaagtatcagagtgtctatgacagtggaatgctcgttcaaagaaaccttgtggaagtccctcatctgagcattgtgtttgtctccaacacatctgatctttccactaatcacatccacaccaacctaatcccttcggattggtcattccactggagtctttggccctcattgtctgggatgggggttgtgggaggggccttccttctactggtgctttgctgttgctgcaaggcgtcccctccaactccaaactacgggattccgatgcagcagttctccagaagtcagacggtctga'}, attributes={})\n",
      "\n",
      "\n",
      "dict_keys(['GBSeq_locus', 'GBSeq_length', 'GBSeq_strandedness', 'GBSeq_moltype', 'GBSeq_topology', 'GBSeq_division', 'GBSeq_update-date', 'GBSeq_create-date', 'GBSeq_definition', 'GBSeq_primary-accession', 'GBSeq_accession-version', 'GBSeq_other-seqids', 'GBSeq_source', 'GBSeq_organism', 'GBSeq_taxonomy', 'GBSeq_references', 'GBSeq_comment', 'GBSeq_feature-table', 'GBSeq_sequence'])\n",
      "\n",
      "\n",
      "[DictElement({'GBQualifier_name': 'organism', 'GBQualifier_value': 'Viral hemorrhagic septicemia virus'}, attributes={}), DictElement({'GBQualifier_name': 'mol_type', 'GBQualifier_value': 'viral cRNA'}, attributes={}), DictElement({'GBQualifier_name': 'isolate', 'GBQualifier_value': 'DK-7690'}, attributes={}), DictElement({'GBQualifier_name': 'host', 'GBQualifier_value': 'Oncorhynchus mykiss'}, attributes={}), DictElement({'GBQualifier_name': 'db_xref', 'GBQualifier_value': 'taxon:11287'}, attributes={}), DictElement({'GBQualifier_name': 'country', 'GBQualifier_value': 'Denmark'}, attributes={}), DictElement({'GBQualifier_name': 'collection_date', 'GBQualifier_value': '07-Dec-1994'}, attributes={}), DictElement({'GBQualifier_name': 'note', 'GBQualifier_value': 'genotype: 1a'}, attributes={})]\n"
     ]
    }
   ],
   "source": [
    "print(protein_info[10])\n",
    "print('')\n",
    "print('')\n",
    "print(protein_info[10].keys())\n",
    "print('')\n",
    "print('')\n",
    "features = protein_info[10]['GBSeq_feature-table'][0]['GBFeature_quals']\n",
    "# features = protein_info[60]['GBSeq_feature-table'][0]['GBFeature_quals']\n",
    "print(features)"
   ]
  },
  {
   "cell_type": "markdown",
   "metadata": {},
   "source": [
    "<p style=\"background-color:#AFEEEE;padding:3px\"><font size=\"4\"><b>1.2 </b></font> Quel est le pays d’origine du 60ème isolat dans notre liste?\n",
    "</p>"
   ]
  },
  {
   "cell_type": "markdown",
   "metadata": {},
   "source": [
    "Danemark"
   ]
  },
  {
   "cell_type": "markdown",
   "metadata": {},
   "source": [
    "<b>→ Pour extraire le pays automatiquement, faites une boucle sur les features jusqu’à tomber sur “country”:</b>"
   ]
  },
  {
   "cell_type": "code",
   "execution_count": 10,
   "metadata": {},
   "outputs": [
    {
     "name": "stdout",
     "output_type": "stream",
     "text": [
      "Pays d'origine: Denmark\n"
     ]
    }
   ],
   "source": [
    "for j,feat in enumerate(features):\n",
    "    if feat['GBQualifier_name']=='country':\n",
    "        print(\"Pays d'origine: \"+feat['GBQualifier_value'].split(':')[0])"
   ]
  },
  {
   "cell_type": "markdown",
   "metadata": {},
   "source": [
    "<p style=\"background-color:#AFEEEE;padding:3px\"><font size=\"4\"><b>1.3 </b></font> Généralisez ce code pour qu’il imprime le pays d’origine des 390 isolats et enregistre le résultat dans une variable (liste de 390 éléments) appelée <font face='courier'>country</font> (si le pays n’est pas disponible, ajoutez le texte ‘NA’ (not available) à la place).\n",
    "</p>"
   ]
  },
  {
   "cell_type": "code",
   "execution_count": 22,
   "metadata": {},
   "outputs": [
    {
     "name": "stdout",
     "output_type": "stream",
     "text": [
      "390\n"
     ]
    }
   ],
   "source": [
    "protein_info[60]\n",
    "\n",
    "country = []\n",
    "                                           \n",
    "for info in protein_info: \n",
    "    current_country = 'NA'\n",
    "    for j,feat in enumerate(info['GBSeq_feature-table'][0]['GBFeature_quals']):\n",
    "        \n",
    "        if feat['GBQualifier_name']=='country':\n",
    "            current_country = feat['GBQualifier_value'].split(':')[0]\n",
    "    country.append(current_country)\n",
    "    \n",
    "print(len(country))\n",
    "                                           "
   ]
  },
  {
   "cell_type": "markdown",
   "metadata": {},
   "source": [
    "<b>→ Pour certains isolats, la latitude et la longitude sont également indiqués. Par exemple, exécutez:</b>\n"
   ]
  },
  {
   "cell_type": "code",
   "execution_count": 15,
   "metadata": {},
   "outputs": [
    {
     "name": "stdout",
     "output_type": "stream",
     "text": [
      "[DictElement({'GBQualifier_name': 'organism', 'GBQualifier_value': 'Viral hemorrhagic septicemia virus'}, attributes={}), DictElement({'GBQualifier_name': 'mol_type', 'GBQualifier_value': 'viral cRNA'}, attributes={}), DictElement({'GBQualifier_name': 'isolate', 'GBQualifier_value': 'ka664_04'}, attributes={}), DictElement({'GBQualifier_name': 'db_xref', 'GBQualifier_value': 'taxon:11287'}, attributes={}), DictElement({'GBQualifier_name': 'country', 'GBQualifier_value': 'Finland: Archipelago Sea'}, attributes={}), DictElement({'GBQualifier_name': 'lat_lon', 'GBQualifier_value': '60.29 N 21.29 E'}, attributes={}), DictElement({'GBQualifier_name': 'collection_date', 'GBQualifier_value': '09-Jun-2004'}, attributes={}), DictElement({'GBQualifier_name': 'identified_by', 'GBQualifier_value': 'T. Gadd'}, attributes={}), DictElement({'GBQualifier_name': 'PCR_primers', 'GBQualifier_value': 'fwd_name: G1_forward, fwd_seq: cgggcaggcgaaggacta, fwd_name: G2_forward, fwd_seq: atggaatggaatacttttttc, fwd_seq: caacctcgccctgtcaaactcat, fwd_seq: tggacccggcaaggcacact, rev_name: G1_reverse, rev_seq: cggagacgctggtgactgata, rev_name: G2_reverse, rev_seq: tgtgatcatgggtcctggtg, rev_name: G3_reverse, rev_seq: gtccccaaatatcatcccatcgta, rev_name: NAH_reverse, rev_seq: ctaggagacttatcctcatgtc'}, attributes={})]\n"
     ]
    }
   ],
   "source": [
    "print(protein_info[294]['GBSeq_feature-table'][0]['GBFeature_quals'])"
   ]
  },
  {
   "cell_type": "markdown",
   "metadata": {},
   "source": [
    "Dans ce cas, <font face='courier'>lat_lon = 60.29 N 21.29 E</font> (latitude 60.29°, longitude 21.29°).\n",
    "\n",
    "<p style=\"background-color:#AFEEEE;padding:3px\"><font size=\"4\"><b>1.4 </b></font>  Généralisez votre code pour qu’il enregistre aussi la latitude et la longitude dans deux variables séparées (mettez un <font face='courier'>float(‘nan’)</font> si elles ne sont pas disponibles). Astuce: Utilisez la fonction split(‘ ‘) pour extraire les nombres qui vous intéressent de lat_lon (à convertir en float aussi). \n",
    "</p>"
   ]
  },
  {
   "cell_type": "code",
   "execution_count": 35,
   "metadata": {},
   "outputs": [
    {
     "name": "stdout",
     "output_type": "stream",
     "text": [
      "390\n"
     ]
    }
   ],
   "source": [
    "lat_lon = []\n",
    "\n",
    "for info in protein_info: \n",
    "    current_lat_lon = {'lat': float('nan'), 'lon': float('nan')}\n",
    "    for j,feat in enumerate(info['GBSeq_feature-table'][0]['GBFeature_quals']):\n",
    "        \n",
    "        if feat['GBQualifier_name']=='lat_lon':\n",
    "            current = feat['GBQualifier_value'].split('N')\n",
    "            lat = current[0]\n",
    "            lon = current[1].split('E')[0]\n",
    "            current_lat_lon['lat'] = lat\n",
    "            current_lat_lon['lon'] = lon\n",
    "    lat_lon.append(current_lat_lon)\n",
    "    \n",
    "print(len(lat_lon))"
   ]
  },
  {
   "cell_type": "markdown",
   "metadata": {},
   "source": [
    "Comme vous le verrez, la latitude et la longitude ne sont disponibles que pour un petit nombre d’isolats, alors que le pays d’origine est connu pour la majorité d’entre eux. Afin de pouvoir représenter les isolats sur une carte du monde, nous allons utiliser une valeur moyenne de latitude et de longitude par pays pour les isolats dont on ne connaît que le pays d’origine.\n",
    "\n",
    "<b>→ Utilisez la librairie pandas pour lire le fichier countries_latlon.csv.</b>\n",
    "> En cas de soucis d'encodage, ajoutez les lignes suivantes à ~./bash_profile et re-lancez ipython notebook:\n",
    "> <p>export LC_ALL=en_US.UTF-8</p>\n",
    "> export LANG=en_US.UTF-8"
   ]
  },
  {
   "cell_type": "code",
   "execution_count": 36,
   "metadata": {},
   "outputs": [
    {
     "name": "stdout",
     "output_type": "stream",
     "text": [
      "    iso-code   latitude   longitude                           country\n",
      "0         AD  42.546245    1.601554                           Andorra\n",
      "1         AE  23.424076   53.847818              United Arab Emirates\n",
      "2         AF  33.939110   67.709953                       Afghanistan\n",
      "3         AG  17.060816  -61.796428               Antigua and Barbuda\n",
      "4         AI  18.220554  -63.068615                          Anguilla\n",
      "5         AL  41.153332   20.168331                           Albania\n",
      "6         AM  40.069099   45.038189                           Armenia\n",
      "7         AN  12.226079  -69.060087              Netherlands Antilles\n",
      "8         AO -11.202692   17.873887                            Angola\n",
      "9         AQ -75.250973   -0.071389                        Antarctica\n",
      "10        AR -38.416097  -63.616672                         Argentina\n",
      "11        AS -14.270972 -170.132217                    American Samoa\n",
      "12        AT  47.516231   14.550072                           Austria\n",
      "13        AU -25.274398  133.775136                         Australia\n",
      "14        AW  12.521110  -69.968338                             Aruba\n",
      "15        AZ  40.143105   47.576927                        Azerbaijan\n",
      "16        BA  43.915886   17.679076            Bosnia and Herzegovina\n",
      "17        BB  13.193887  -59.543198                          Barbados\n",
      "18        BD  23.684994   90.356331                        Bangladesh\n",
      "19        BE  50.503887    4.469936                           Belgium\n",
      "20        BF  12.238333   -1.561593                      Burkina Faso\n",
      "21        BG  42.733883   25.485830                          Bulgaria\n",
      "22        BH  25.930414   50.637772                           Bahrain\n",
      "23        BI  -3.373056   29.918886                           Burundi\n",
      "24        BJ   9.307690    2.315834                             Benin\n",
      "25        BM  32.321384  -64.757370                           Bermuda\n",
      "26        BN   4.535277  114.727669                            Brunei\n",
      "27        BO -16.290154  -63.588653                           Bolivia\n",
      "28        BR -14.235004  -51.925280                            Brazil\n",
      "29        BS  25.034280  -77.396280                           Bahamas\n",
      "..       ...        ...         ...                               ...\n",
      "215       TL  -8.874217  125.727539                       Timor-Leste\n",
      "216       TM  38.969719   59.556278                      Turkmenistan\n",
      "217       TN  33.886917    9.537499                           Tunisia\n",
      "218       TO -21.178986 -175.198242                             Tonga\n",
      "219       TR  38.963745   35.243322                            Turkey\n",
      "220       TT  10.691803  -61.222503               Trinidad and Tobago\n",
      "221       TV  -7.109535  177.649330                            Tuvalu\n",
      "222       TW  23.697810  120.960515                            Taiwan\n",
      "223       TZ  -6.369028   34.888822                          Tanzania\n",
      "224       UA  48.379433   31.165580                           Ukraine\n",
      "225       UG   1.373333   32.290275                            Uganda\n",
      "226       UM        NaN         NaN       U.S. Minor Outlying Islands\n",
      "227       US  37.090240  -95.712891                               USA\n",
      "228       UY -32.522779  -55.765835                           Uruguay\n",
      "229       UZ  41.377491   64.585262                        Uzbekistan\n",
      "230       VA  41.902916   12.453389                      Vatican City\n",
      "231       VC  12.984305  -61.287228  Saint Vincent and the Grenadines\n",
      "232       VE   6.423750  -66.589730                         Venezuela\n",
      "233       VG  18.420695  -64.639968            British Virgin Islands\n",
      "234       VI  18.335765  -64.896335               U.S. Virgin Islands\n",
      "235       VN  14.058324  108.277199                           Vietnam\n",
      "236       VU -15.376706  166.959158                           Vanuatu\n",
      "237       WF -13.768752 -177.156097                 Wallis and Futuna\n",
      "238       WS -13.759029 -172.104629                             Samoa\n",
      "239       XK  42.602636   20.902977                            Kosovo\n",
      "240       YE  15.552727   48.516388                             Yemen\n",
      "241       YT -12.827500   45.166244                           Mayotte\n",
      "242       ZA -30.559482   22.937506                      South Africa\n",
      "243       ZM -13.133897   27.849332                            Zambia\n",
      "244       ZW -19.015438   29.154857                          Zimbabwe\n",
      "\n",
      "[245 rows x 4 columns]\n"
     ]
    }
   ],
   "source": [
    "import pandas as pd # très utile pour lire des fichiers du type csv, tsv, etc.\n",
    "country_latlon = pd.read_csv('countries_latlon.csv',sep='\\t',header=0)\n",
    "print(country_latlon)"
   ]
  },
  {
   "cell_type": "markdown",
   "metadata": {
    "collapsed": true
   },
   "source": [
    "<b>→ Pour trouver la latitude et la longitude moyenne de l’Iran par exemple, exécutez le code suivant:</b>"
   ]
  },
  {
   "cell_type": "code",
   "execution_count": 37,
   "metadata": {},
   "outputs": [
    {
     "name": "stdout",
     "output_type": "stream",
     "text": [
      "Latitude: 32.427908\n",
      "Longitude: 53.68804599999999\n"
     ]
    }
   ],
   "source": [
    "idx_country = list(country_latlon['country']).index('Iran')\n",
    "lat = country_latlon['latitude'][idx_country]\n",
    "lon = country_latlon['longitude'][idx_country]\n",
    "print('Latitude: '+str(lat))\n",
    "print('Longitude: '+str(lon))"
   ]
  },
  {
   "cell_type": "markdown",
   "metadata": {},
   "source": [
    "<p style=\"background-color:#AFEEEE;padding:3px\"><font size=\"4\"><b>1.5 (a) </b></font> Généralisez votre code pour qu’il enregistre la latitude et la longitude moyenne lorsque celles-ci ne sont pas disponibles mais que vous connaissez le pays d’origine.</p>\n",
    "\n",
    "<p style=\"background-color:#AFEEEE;padding:3px\"><font size=\"4\"><b>1.5 (b) </b></font>Afin de retrouver facilement les isolats par leur accession.version (en plus du gi), définissez aussi <font face='courier'>name=[]</font> et rajoutez dans votre boucle </b><font face='courier'>name.append(protein_info[i]['GBSeq_accession-version'])</font>\n",
    "</p>"
   ]
  },
  {
   "cell_type": "code",
   "execution_count": 39,
   "metadata": {},
   "outputs": [
    {
     "data": {
      "text/plain": [
       "245"
      ]
     },
     "execution_count": 39,
     "metadata": {},
     "output_type": "execute_result"
    }
   ],
   "source": [
    "len(country_latlon)\n",
    "\n",
    "for i in range(len(country_latlon)):\n",
    "    lat = country_latlon['latitude'][idx_country]\n",
    "    lon = country_latlon['longitude'][idx_country]"
   ]
  },
  {
   "cell_type": "markdown",
   "metadata": {},
   "source": [
    "<b>→ Connaissant la latitude et la longitude de la majorité des isolats, représentez-les graphiquement sur une carte du monde:</b>\n"
   ]
  },
  {
   "cell_type": "code",
   "execution_count": null,
   "metadata": {
    "scrolled": true
   },
   "outputs": [],
   "source": [
    "%matplotlib inline\n",
    "import matplotlib.pyplot as plt\n",
    "from mpl_toolkits.basemap import Basemap\n",
    "\n",
    "print(len(lat))\n",
    "\n",
    "fig = plt.figure(num=None,figsize=(10,7),dpi=150) # ouvre une fenêtre\n",
    "m = Basemap(projection='kav7',lon_0=0,lat_0=60) # carte du monde avec projection\n",
    "x, y = m(long,lat) # transforme lat,lon avec la projection utilisée\n",
    "m.scatter(x,y,7,marker='.',color='r') # représente les isolats en rouge\n",
    "m.fillcontinents(zorder=0) # dessine les continents\n",
    "plt.show()     \n",
    "fig.savefig('map_isolats.png', dpi=fig.dpi) # sauve la figure"
   ]
  },
  {
   "cell_type": "markdown",
   "metadata": {},
   "source": [
    "<p style=\"background-color:#AFEEEE;padding:3px\"><font size=\"4\"><b>1.6 </b></font>A votre avis, s’agit-il d’un virus qui se reproduit dans les eaux chaudes ou plutôt dans les eaux froides?</p>"
   ]
  },
  {
   "cell_type": "markdown",
   "metadata": {},
   "source": [
    "Votre réponse..."
   ]
  },
  {
   "cell_type": "markdown",
   "metadata": {},
   "source": [
    "\n",
    "\n",
    "\n",
    "## 2. Alignement des séquences protéiques pour pouvoir les comparer\n",
    "Afin de comprendre comment le virus s’est propagé dans le monde, nous allons comparer les séquences protéiques des différents isolats. Ceci nous permettra de regrouper les isolats “les plus similaires” et nous ferons l’hypothèse vraisemblable qu’il ont une origine commune du fait de leur similarité.\n",
    "\n",
    "Pour comparer les séquences protéiques et voir à quel point elles diffèrent, il est nécessaire de commencer par les aligner. Vous allez apprendre à utiliser l’outil graphique Aliview pour aligner les séquences et les inspecter visuellement. Vous verrez par la suite comment réaliser ces mêmes opérations directement en python avec la librairie biopython, ce qui vous permettra d’automatiser le processus.\n",
    "\n",
    "<b>→ Utilisez la liste de gi pour pouvoir générer un fichier fasta contenant toutes les séquences protéiques qui nous intéressent (pour rappel, notre requête initiale était: <font face='courier'>'G[gene] AND VHSV[orgn] NOT \"mRNA\"[title]\"</font></b>\n"
   ]
  },
  {
   "cell_type": "code",
   "execution_count": null,
   "metadata": {},
   "outputs": [],
   "source": [
    "from Bio import SeqIO\n",
    "print(len(gi))\n",
    "#print(len(giWCountry))\n",
    "protein_seq = Entrez.efetch(db=\"nucleotide\",id=gi,rettype=\"fasta_cds_aa\",retmode=\"text\")\n",
    "#protein_seq = Entrez.efetch(db=\"nucleotide\",id=giWCountry,rettype=\"fasta_cds_aa\",retmode=\"text\")\n",
    "protein_seq = list(SeqIO.parse(protein_seq, \"fasta\"))\n",
    "print(len(protein_seq))"
   ]
  },
  {
   "cell_type": "markdown",
   "metadata": {},
   "source": [
    "<b>→ Imprimez l’élément 0 et l’élément 212 de <font face='courier'>protein_seq</font></b>"
   ]
  },
  {
   "cell_type": "code",
   "execution_count": null,
   "metadata": {},
   "outputs": [],
   "source": [
    "#pas dans le labo juste pour moi\n",
    "for i in range(len(protein_seq)):\n",
    "    print('--> '+str(i))\n",
    "    print(protein_seq[i])\n",
    "    print('')\n",
    "    #pas besoin de cette cellule dans le questionnaire des étudiants 194"
   ]
  },
  {
   "cell_type": "code",
   "execution_count": null,
   "metadata": {},
   "outputs": [],
   "source": [
    "print(protein_seq[0])\n",
    "print('')\n",
    "#print(protein_seq[192])\n",
    "#print('')\n",
    "#print(protein_seq[193])\n",
    "#print('')\n",
    "print(protein_seq[212])\n",
    "print('')\n",
    "#print(protein_seq[195])\n",
    "#print('')\n",
    "print(len(protein_seq))"
   ]
  },
  {
   "cell_type": "markdown",
   "metadata": {},
   "source": [
    "<p style=\"background-color:#AFEEEE;padding:3px\"><font size=\"4\"><b>2.1 </b></font>Que constatez-vous concernant le nom du gène de <font face='courier'>protein_seq[212]</font> et le nombre d'entrées retournées? Pourquoi ce gène apparaît-il dans notre liste si la requête initiale exigeait “G[gene]” (astuce: allez voir sur le site de Genbank l'entrée correspondant à l’identifiant KM244768).</p>"
   ]
  },
  {
   "cell_type": "markdown",
   "metadata": {},
   "source": [
    "Votre réponse..."
   ]
  },
  {
   "cell_type": "markdown",
   "metadata": {},
   "source": [
    "Avant de continuer, nous devons donc nous assurer que seules les séquences protéiques correspondant au gène G sont gardées.\n",
    "\n",
    "<b>→ Faites une boucle pour tester le nom du gène</b>\n"
   ]
  },
  {
   "cell_type": "code",
   "execution_count": 4,
   "metadata": {},
   "outputs": [
    {
     "ename": "NameError",
     "evalue": "name 'protein_seq' is not defined",
     "output_type": "error",
     "traceback": [
      "\u001b[0;31m---------------------------------------------------------------------------\u001b[0m",
      "\u001b[0;31mNameError\u001b[0m                                 Traceback (most recent call last)",
      "\u001b[0;32m<ipython-input-4-25057e5e2833>\u001b[0m in \u001b[0;36m<module>\u001b[0;34m\u001b[0m\n\u001b[0;32m----> 1\u001b[0;31m \u001b[0mprint\u001b[0m\u001b[0;34m(\u001b[0m\u001b[0mlen\u001b[0m\u001b[0;34m(\u001b[0m\u001b[0mprotein_seq\u001b[0m\u001b[0;34m)\u001b[0m\u001b[0;34m)\u001b[0m\u001b[0;34m\u001b[0m\u001b[0;34m\u001b[0m\u001b[0m\n\u001b[0m\u001b[1;32m      2\u001b[0m \u001b[0mupdated_protein_seq\u001b[0m \u001b[0;34m=\u001b[0m \u001b[0;34m[\u001b[0m \u001b[0mps\u001b[0m \u001b[0;32mfor\u001b[0m \u001b[0mi\u001b[0m\u001b[0;34m,\u001b[0m\u001b[0mps\u001b[0m \u001b[0;32min\u001b[0m \u001b[0menumerate\u001b[0m\u001b[0;34m(\u001b[0m\u001b[0mprotein_seq\u001b[0m\u001b[0;34m)\u001b[0m \u001b[0;32mif\u001b[0m \u001b[0mps\u001b[0m\u001b[0;34m.\u001b[0m\u001b[0mdescription\u001b[0m\u001b[0;34m.\u001b[0m\u001b[0mfind\u001b[0m\u001b[0;34m(\u001b[0m\u001b[0;34m'gene=G'\u001b[0m\u001b[0;34m)\u001b[0m\u001b[0;34m>\u001b[0m\u001b[0;36m0\u001b[0m \u001b[0;34m]\u001b[0m\u001b[0;34m\u001b[0m\u001b[0;34m\u001b[0m\u001b[0m\n\u001b[1;32m      3\u001b[0m \u001b[0mprint\u001b[0m\u001b[0;34m(\u001b[0m\u001b[0mlen\u001b[0m\u001b[0;34m(\u001b[0m\u001b[0mupdated_protein_seq\u001b[0m\u001b[0;34m)\u001b[0m\u001b[0;34m)\u001b[0m\u001b[0;34m\u001b[0m\u001b[0;34m\u001b[0m\u001b[0m\n\u001b[1;32m      4\u001b[0m \u001b[0;34m\u001b[0m\u001b[0m\n\u001b[1;32m      5\u001b[0m \u001b[0;31m# verify visually that only G genes are left\u001b[0m\u001b[0;34m\u001b[0m\u001b[0;34m\u001b[0m\u001b[0;34m\u001b[0m\u001b[0m\n",
      "\u001b[0;31mNameError\u001b[0m: name 'protein_seq' is not defined"
     ]
    }
   ],
   "source": [
    "print(len(protein_seq))\n",
    "updated_protein_seq = [ ps for i,ps in enumerate(protein_seq) if ps.description.find('gene=G')>0 ]\n",
    "print(len(updated_protein_seq))\n",
    "\n",
    "# verify visually that only G genes are left\n",
    "desc = [ps.description for i,ps in enumerate(updated_protein_seq)]\n",
    "desc"
   ]
  },
  {
   "cell_type": "markdown",
   "metadata": {},
   "source": [
    "<b>→ Maintenant que vous avez les séquences du gène G uniquement, remplacez l'id par le numéro d'accès et le nom du pays source (ceci facilitera les analyses par la suite).</b>"
   ]
  },
  {
   "cell_type": "code",
   "execution_count": null,
   "metadata": {},
   "outputs": [],
   "source": [
    "print(len(updated_protein_seq))\n",
    "for i,ps in enumerate(updated_protein_seq):\n",
    "    access_number = ps.name.split('|')[1].split('_')[0]\n",
    "    #print(ps) del liste[1]\n",
    "    #if(country[i]):\n",
    "    print(str(i)+\" \"+country[i])\n",
    "    country_tmp = country[i].replace(' ','-')\n",
    "    #print(country_tmp)\n",
    "    updated_protein_seq[i].description = ''\n",
    "    updated_protein_seq[i].id = access_number+'_'+country_tmp"
   ]
  },
  {
   "cell_type": "markdown",
   "metadata": {},
   "source": [
    "<b>→ Créez un fichier FASTA avec ces séquences et ouvrez-le avec un éditeur de texte pour voir ce qu'il contient.</b>"
   ]
  },
  {
   "cell_type": "code",
   "execution_count": null,
   "metadata": {},
   "outputs": [],
   "source": [
    "output_handle = open('labo-2_protein-sequences.fasta', 'w')\n",
    "SeqIO.write(updated_protein_seq, output_handle, \"fasta\")\n",
    "output_handle.close()"
   ]
  },
  {
   "cell_type": "markdown",
   "metadata": {},
   "source": [
    "Instalation de Aliview: https://ormbunkar.se/aliview/\n",
    "\n",
    "<b>→ Sur votre ordinateur, lancez le programme Aliview et utilisez File > Open File pour ouvrir le fichier que vous venez de créer.</b>"
   ]
  },
  {
   "cell_type": "markdown",
   "metadata": {},
   "source": [
    "<b>→ Sur Aliview, allez sur Align > Realign everything et cliquez sur Ok.</b>\n",
    "\n",
    "Par défaut, Aliview utilise l’algorithme MUSCLE pour aligner les séquences. \n",
    "\n",
    "<b>→ Sur Aliview, inspectez l’alignement visuellement et assurez-vous que tout semble normal.</b>\n",
    "\n",
    "<p style=\"background-color:#AFEEEE;padding:3px\"><font size=\"4\"><b>2.2 </b></font>Pourquoi est-ce que l'une des séquences est plus courte que les autres? Astuce: allez sur Genbank depuis votre navigateur pour voir l'entrée correspondant à la séquence très courte.</p>\n"
   ]
  },
  {
   "cell_type": "markdown",
   "metadata": {},
   "source": [
    "Votre réponse... (25 mots maximum)"
   ]
  },
  {
   "cell_type": "markdown",
   "metadata": {},
   "source": [
    "Sur Aliview, il est possible d’enregistrer l’alignement: File > Save as Clustal (aln). \n",
    "\n",
    "Pour la suite du labo, nous allons générer ce même alignement à l’aide de la librairie biopython et faire quelques analyses sur cet alignement.\n",
    "\n",
    "<b>→ Importez les modules suivants:</b>"
   ]
  },
  {
   "cell_type": "code",
   "execution_count": null,
   "metadata": {},
   "outputs": [],
   "source": [
    "from Bio.Align.Applications import MuscleCommandline\n",
    "from Bio import AlignIO"
   ]
  },
  {
   "cell_type": "markdown",
   "metadata": {},
   "source": [
    "<b>→ Spécifiez le chemin vers votre exécutable muscle</b>\n",
    "#faute que j'installe muscle sur mon ordi...\n",
    "https://drive5.com/muscle/downloads.htm"
   ]
  },
  {
   "cell_type": "code",
   "execution_count": null,
   "metadata": {},
   "outputs": [],
   "source": [
    "#muscle_loc = r'/usr/bin/muscle' # modifier si nécessaire\n",
    "#muscle_loc = r'/Users/xavierbrochet/Documents/programmes/muscle3.8.31_i86darwin64'\n",
    "muscle_loc = r'/home/xbrochet/programme/muscle3.8.31_i86linux64'"
   ]
  },
  {
   "cell_type": "markdown",
   "metadata": {},
   "source": [
    "<b>→ Réalisez l’alignement à partir du fichier FASTA contenant les séquences</b>"
   ]
  },
  {
   "cell_type": "code",
   "execution_count": null,
   "metadata": {
    "scrolled": true
   },
   "outputs": [],
   "source": [
    "in_file = 'labo-2_protein-sequences.fasta'\n",
    "out_file = 'labo-2_protein-sequences.aln'\n",
    "\n",
    "muscle_cline = MuscleCommandline(cmd=muscle_loc,input=in_file,out=out_file,clwstrict=True)\n",
    "#print(muscle_cline)\n",
    "stdout, stderr = muscle_cline()\n",
    "\n",
    "muscle_align = AlignIO.read(out_file,'clustal') # this command actually performs the alignment\n",
    "print(muscle_align)"
   ]
  },
  {
   "cell_type": "markdown",
   "metadata": {},
   "source": [
    "Le fichier .aln généré peut être ouvert dans Aliview pour l’inspecter visuellement.\n",
    "\n",
    "## 3. Construction de l’arbre phylogénétique et clustering hiérarchique pour identifier des groupes similaires\n",
    "A partir de cet alignement, il est possible de générer un arbre phylogénétique. Par souci de temps, nous utiliserons FastTree qui est très rapide, même si cet outil n’est pas le mieux adapté pour construire un arbre phylogénétique à partir de séquences très proches comme c’est le cas ici.\n",
    "\n",
    "<b>→ Générez l’arbre avec FastTree</b>\n",
    "INSTALLTION: http://microbesonline.org/fasttree/#Install\n"
   ]
  },
  {
   "cell_type": "code",
   "execution_count": null,
   "metadata": {
    "scrolled": true
   },
   "outputs": [],
   "source": [
    "from Bio.Phylo.Applications import FastTreeCommandline\n",
    "\n",
    "# convert aln to phy format\n",
    "out_phy = 'labo-2_protein-sequences.phy'\n",
    "AlignIO.convert(out_file,'clustal',out_phy, 'phylip-relaxed')\n",
    "\n",
    "# generate the phylogenetic tree with FastTree\n",
    "out_tree = 'labo-2_protein-sequences.tre'\n",
    "#cmd_fasttree = r'/home/aitana/Applications/FastTree' \n",
    "#cmd_fasttree = r'/Users/xavierbrochet/Documents/programmes/FastTree' # modifier si nécessaire\n",
    "cmd_fasttree = r'/home/xbrochet/programme/FastTree' # modifier si nécessaire\n",
    "\n",
    "fasttree_cmdline = FastTreeCommandline(cmd=cmd_fasttree,fastest=True,input=out_phy,out=out_tree)\n",
    "print(fasttree_cmdline)\n",
    "out_log, err_log = fasttree_cmdline()\n",
    "\n",
    "# load tree\n",
    "from Bio import Phylo\n",
    "tree = Phylo.read('labo-2_protein-sequences.tre', 'newick')\n",
    "#print(tree)\n",
    "#Phylo.draw(tree)"
   ]
  },
  {
   "cell_type": "markdown",
   "metadata": {},
   "source": [
    "<b>→ Ouvrez le fichier <font face='courier'>labo-2_protein-sequences.tre</font> dans TreeViewX et choisissez le mode de visualisation “phylogram” (bouton en haut à droite) et zoomez pour voir les groupes.</b>\n",
    "\n",
    "Utilisation de http://ab.inf.uni-tuebingen.de/data/software/dendroscope3/download/welcome.html\n",
    "ou de iToL en ligne... https://itol.embl.de/\n",
    "\n",
    "<p style=\"background-color:#AFEEEE;padding:3px\"><font size=\"4\"><b>3.1 </b></font>De quels pays vient l'isolat le plus proches des isolats de Corée du Sud?</p>"
   ]
  },
  {
   "cell_type": "markdown",
   "metadata": {},
   "source": [
    "Votre réponse..."
   ]
  },
  {
   "cell_type": "markdown",
   "metadata": {},
   "source": [
    "Combien de groupes voyez-vous? \n",
    "Ca dépend! Le nombre de groupes dépend du seuil utilisé pour admettre, ou non, que deux isolats font partie du même groupe. \n",
    "\n",
    "Afin de mieux visualiser la propagation du virus dans le monde, nous allons regrouper les séquences (i.e. les isolats) en 4 groupes et voir leur localisation géographique sur une carte du monde. Pour obtenir ces 4 groupes, nous allons commencer par calculer les distances (phylogénétiques) entre les isolats et réaliser un clustering hiérarchique à partir duquel nous obtiendrons 4 groupes.\n",
    "\n",
    "<b>→ Calculez les distances entre les isolats</b> (ceci peut prendre un petit moment...)\n"
   ]
  },
  {
   "cell_type": "code",
   "execution_count": null,
   "metadata": {},
   "outputs": [],
   "source": [
    "dmat = []\n",
    "leaves = [str(cladit) for k,cladit in enumerate(tree.get_terminals())]\n",
    "for l1,leave1 in enumerate(leaves):\n",
    "    d = []\n",
    "    for l2,leave2 in enumerate(leaves):\n",
    "        d.append(tree.distance(leave1,leave2))\n",
    "    dmat.append(d)"
   ]
  },
  {
   "cell_type": "markdown",
   "metadata": {},
   "source": [
    "<b>→ Réalisez le clustering hiérarchique et visualisez le dendrogram obtenu (double-cliquez sur le graphique pour l'agrandir)</b>"
   ]
  },
  {
   "cell_type": "code",
   "execution_count": null,
   "metadata": {},
   "outputs": [],
   "source": [
    "import scipy.cluster.hierarchy as cl\n",
    "import scipy.spatial.distance as ssd\n",
    "\n",
    "Z = cl.linkage(ssd.squareform(dmat),method='average',metric='euclidean')\n",
    "fig = plt.figure(num=None,figsize=(60,15),dpi=250)\n",
    "dendro=cl.dendrogram(Z,labels=leaves,color_threshold=0.06,leaf_rotation=90,leaf_font_size=9)\n",
    "plt.show()"
   ]
  },
  {
   "cell_type": "markdown",
   "metadata": {},
   "source": [
    "<b>→ Représentez les isolats de chaque groupe sur une carte du monde</b>"
   ]
  },
  {
   "cell_type": "code",
   "execution_count": null,
   "metadata": {},
   "outputs": [],
   "source": [
    "nb_clusters = 4\n",
    "clusters = cl.fcluster(Z,nb_clusters,criterion='maxclust')\n",
    "\n",
    "for i in range(1,max(clusters)+1):\n",
    "\n",
    "    idxi = [j for j,cluster in enumerate(clusters) if cluster==i]\n",
    "    \n",
    "    lat_tmp = []\n",
    "    lon_tmp = []\n",
    "    for j,idxj in enumerate(idxi):\n",
    "        access_number_of_leave = leaves[idxj].split('_')[0]\n",
    "        lat_tmp.append(lat[name.index(access_number_of_leave)])\n",
    "        lon_tmp.append(long[name.index(access_number_of_leave)])\n",
    "        \n",
    "        #lat_tmp = [lat[name.index(access_number_of_leave)] for ]\n",
    "        #lon_tmp = [lon[name.index(access_number_of_leave)] for j,idxj in enumerate(idxi)]\n",
    "    \n",
    "    # plot\n",
    "    fig = plt.figure(num=None,figsize=(7,6),dpi=150)   \n",
    "    m = Basemap(projection='kav7',lon_0=0,lat_0=60)\n",
    "    x, y = m(lon_tmp,lat_tmp) # transform (lat,lon) with the projection\n",
    "    m.scatter(x,y,7,marker='.',color='k')\n",
    "    m.fillcontinents(zorder=0)\n",
    "    plt.title('Group '+str(i))\n",
    "    plt.show()        \n",
    "    fig.savefig('map_isolats-'+str(i)+'.png', dpi=fig.dpi)"
   ]
  },
  {
   "cell_type": "markdown",
   "metadata": {},
   "source": [
    "Sur plusieurs de ces figures, vous pouvez voir que le virus “voyage” parfois même de très longues distances. L’une des raisons principales de cette propagation vient de l’échange d’oeufs et de larves de poissons contaminés entre pisciculteurs du monde entier (p.ex. entre l’Amérique du Nord et l’Asie).\n",
    "\n",
    "<p style=\"background-color:#AFEEEE;padding:3px\"><font size=\"4\"><b>3.2 </b></font>A l’aide du tableau ci-dessous, définissez le(s) genotype(s) probable auxquels appartiennent les 4 groupes identifiés. \n",
    "</p>\n",
    "\n",
    "<i>Nota: Ces génotypes ont été définis en comparant les séquences des protéines G et N, alors qu’ici nous n’avons étudié que la protéine G.</i>\n",
    "\n",
    "<table>\n",
    "\n",
    "<tr>\n",
    "<td><b>Type</b></td>\n",
    "<td><b>Prevalent host type and location (source: <a href=\"https://en.wikipedia.org/wiki/Viral_hemorrhagic_septicemia\">Wikipedia</a>)</b></td>\n",
    "</tr>\n",
    "\n",
    "<tr>\n",
    "<td>I-a</td>\n",
    "<td>Farmed rainbow trout and a few other freshwater fish in continental Europe</td>\n",
    "</tr>\n",
    "\n",
    "<tr>\n",
    "<td>I-b</td>\n",
    "<td>Marine fish of the Baltic Sea, Skagerrak, Kattegat, North Sea, Japan</td>\n",
    "</tr>\n",
    "\n",
    "<tr>\n",
    "<td>I-c</td>\n",
    "<td>Farmed rainbow trout Denmark</td>\n",
    "</tr>\n",
    "\n",
    "<tr>\n",
    "<td>I-d</td>\n",
    "<td>Farmed rainbow trout in Norway, Finland, Gulf of Bothnia</td>\n",
    "</tr>\n",
    "\n",
    "<tr>\n",
    "<td>I-e</td>\n",
    "<td>Rainbow trout in Georgia, farmed and wild turbot in the Black Sea</td>\n",
    "</tr>\n",
    "\n",
    "<tr>\n",
    "<td>II</td>\n",
    "<td>Marine fish of the Baltic Sea</td>\n",
    "</tr>\n",
    "\n",
    "<tr>\n",
    "<td>III</td>\n",
    "<td>Marine fish of the British Isles and northern France, farmed turbot in the UK and Ireland, and Greenland halibut (Reinhardtius hippoglossoides) in Greenland</td>\n",
    "</tr>\n",
    "\n",
    "<tr>\n",
    "<td>IV-a</td>\n",
    "<td>Marine fish of the Northwest Pacific (North America), North American north Atlantic coast, Japan, and Korea</td>\n",
    "</tr>\n",
    "\n",
    "<tr>\n",
    "<td>IV-b</td>\n",
    "<td>Freshwater fish in North American Great Lakes region</td>\n",
    "</tr>\n",
    "\n",
    "</table>"
   ]
  },
  {
   "cell_type": "markdown",
   "metadata": {},
   "source": [
    "Votre réponse..."
   ]
  },
  {
   "cell_type": "markdown",
   "metadata": {},
   "source": [
    "## 4. Pour aller plus loin… L’épidémiologie\n",
    "\n",
    "Les virus évoluent très rapidement à l’échelle de la vie humaine, et peuvent se propager rapidement à travers le monde. Un exemple de virus qui évolue très rapidement est la grippe saisonnière. Après chaque hiver, une grande partie de la population développe des anticorps contre la grippe de cette année et est donc immunisée… Mais comme le virus de la grippe évolue rapidement, l’année suivante, un nouveau mutant apparaît pour lequel la majorité de la population n’est pas complètement immunisée. Le vaccin basé sur la grippe de l’année précédente ne protège donc que partiellement la population, et est totalement inefficace dans les rares cas où un nouveau sous-type de grippe apparaît, créant un grand risque de pandémie.\n",
    "La bioinformatique est très utile pour suivre l’évolution de la grippe et comprendre comment elle se propage.\n",
    "\n",
    "<p style=\"background-color:#AFEEEE;padding:3px\"><font size=\"4\"><b>4.1 </b></font>Par rapport à l’analyse faite ici, quel facteur important faudrait-il prendre en compte pour pouvoir identifier les “routes” empruntées par le virus pour se propager (i.e. “de où à où il va”)? (50 mots maximum)\n",
    "</p>"
   ]
  },
  {
   "cell_type": "markdown",
   "metadata": {},
   "source": [
    "Votre réponse..."
   ]
  },
  {
   "cell_type": "markdown",
   "metadata": {},
   "source": [
    "<p style=\"background-color:#AFEEEE;padding:3px\"><font size=\"4\"><b>4.2 </b></font>Le [virus Zika](https://www.who.int/wer/2015/wer9045.pdf) a fait la une de l'actualité il y a quelque temps (2015). En effet, au Brésil, les autorités sanitaires locales ont observé une recrudescence de cas atteints du syndrome Guillain-Barré qui coincident avec des cas d'infections à virus Zika dans le grand public, ainsi qu’une augmentation du nombre de nouveau-nés atteints de microcéphalie dans le nord-est du pays [source: site OMS]. Répétez l'analyse de la Section 1 avec la requête <font face=\"courier\">'zika virus[orgn] NOT \"mRNA\"[title]'</font>. Est-ce que le virus a été isolé et séquencé en Argentine (si oui, combien de fois)?\n",
    "</p>"
   ]
  },
  {
   "cell_type": "markdown",
   "metadata": {},
   "source": [
    "Votre réponse..."
   ]
  }
 ],
 "metadata": {
  "kernelspec": {
   "display_name": "Python 3",
   "language": "python",
   "name": "python3"
  },
  "language_info": {
   "codemirror_mode": {
    "name": "ipython",
    "version": 3
   },
   "file_extension": ".py",
   "mimetype": "text/x-python",
   "name": "python",
   "nbconvert_exporter": "python",
   "pygments_lexer": "ipython3",
   "version": "3.7.2"
  }
 },
 "nbformat": 4,
 "nbformat_minor": 1
}
